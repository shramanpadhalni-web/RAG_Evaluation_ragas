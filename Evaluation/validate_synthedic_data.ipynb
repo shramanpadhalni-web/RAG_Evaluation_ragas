{
 "cells": [
  {
   "cell_type": "code",
   "execution_count": 1,
   "metadata": {},
   "outputs": [],
   "source": [
    "import os\n",
    "import dspy\n",
    "import json"
   ]
  },
  {
   "cell_type": "code",
   "execution_count": 2,
   "metadata": {},
   "outputs": [],
   "source": [
    "DATA_TO_VALIDATE_PATH = os.path.join(os.getcwd(), 'processed', 'data.json')"
   ]
  },
  {
   "cell_type": "code",
   "execution_count": 3,
   "metadata": {},
   "outputs": [],
   "source": [
    "# Read the dataset.\n",
    "with open(DATA_TO_VALIDATE_PATH, 'r') as f:\n",
    "    dataset = json.load(f)"
   ]
  },
  {
   "cell_type": "code",
   "execution_count": 4,
   "metadata": {},
   "outputs": [
    {
     "data": {
      "text/plain": [
       "dict_keys(['search_terms', 'responses', 'data_bank', 'pertinent_documents'])"
      ]
     },
     "execution_count": 4,
     "metadata": {},
     "output_type": "execute_result"
    }
   ],
   "source": [
    "dataset.keys()"
   ]
  },
  {
   "cell_type": "code",
   "execution_count": 5,
   "metadata": {},
   "outputs": [
    {
     "name": "stdout",
     "output_type": "stream",
     "text": [
      "search_terms:\n",
      "\tffb4f3dc-193a-409d-b8e6-a44ded9b5216: What was the effect of oropharyngeal anesthesia on obstructive sleep apnea in the study subjects?\n",
      "\n",
      "responses:\n",
      "\tffb4f3dc-193a-409d-b8e6-a44ded9b5216: Oropharyngeal anesthesia led to an increase in obstructive apneas and hypopneas, as well as a higher frequency of oxyhemoglobin desaturations during sleep.\n",
      "\n",
      "data_bank:\n",
      "\t0: Obstructive sleep apnea following topical oropharyngeal anesthesia in loud snorers. Previous studies support the presence of an upper airway reflex mechanism that contributes to the maintenance of upper airway patency during sleep. We investigated the possibility that interference with this reflex mechanism contributes to the development of obstructive sleep apnea. Eight otherwise asymptomatic snorers (seven male and one female), age 39 +/- 5.3 yr (mean +/- SEM), underwent overnight sleep studies on three successive nights. An acclimatization night was followed by two study nights randomly assigned to control (C) and oropharyngeal anesthesia (OPA). On the OPA night topical anesthesia was induced using 10% lidocaine spray and 0.25% bupivacaine gargle. A saline placebo was used on night C. All subjects slept well on both study nights (mean sleep duration was 6.2 h on both study nights), and sleep stage distribution was similar on both nights. Obstructive apneas and hypopneas (OAH) rose from 114 +/- 43 during C to 170 +/- 49 during OPA (p less than 0.02). Central apneas and hypopneas (CAH) were unchanged between the two nights (8 +/- 4.9 versus 7 +/- 3). The duration of OAH was similar on both study nights (20 +/- 1.9 s during C versus 20 +/- 1.5 s during OPA). The frequency of movement arousals terminating OAH tended to be higher during OPA (7 +/- 2.9/h) than during C (3 +/- 0.7); P = NS. The frequency of oxyhemoglobin desaturations was also higher during OPA (5 +/- 2.1/h) than during C (3 +/- 1.4), p less than 0.07. \n",
      "\n",
      "pertinent_documents:\n",
      "\tffb4f3dc-193a-409d-b8e6-a44ded9b5216: ['0']\n",
      "\n"
     ]
    }
   ],
   "source": [
    "# Print an example from each key of dataset\n",
    "for key in dataset.keys():\n",
    "    print(f\"{key}:\")\n",
    "    for k,v in dataset[key].items():\n",
    "        print(f\"\\t{k}: {v}\")\n",
    "        break\n",
    "    print()"
   ]
  },
  {
   "cell_type": "markdown",
   "metadata": {},
   "source": [
    "## RAGAS STUFF STARTS HERE"
   ]
  },
  {
   "cell_type": "code",
   "execution_count": 6,
   "metadata": {},
   "outputs": [],
   "source": [
    "# !pip install ragas"
   ]
  },
  {
   "cell_type": "code",
   "execution_count": 7,
   "metadata": {},
   "outputs": [
    {
     "data": {
      "text/html": [
       "<div>\n",
       "<style scoped>\n",
       "    .dataframe tbody tr th:only-of-type {\n",
       "        vertical-align: middle;\n",
       "    }\n",
       "\n",
       "    .dataframe tbody tr th {\n",
       "        vertical-align: top;\n",
       "    }\n",
       "\n",
       "    .dataframe thead th {\n",
       "        text-align: right;\n",
       "    }\n",
       "</style>\n",
       "<table border=\"1\" class=\"dataframe\">\n",
       "  <thead>\n",
       "    <tr style=\"text-align: right;\">\n",
       "      <th></th>\n",
       "      <th>question</th>\n",
       "      <th>ground_truths</th>\n",
       "      <th>answer</th>\n",
       "      <th>contexts</th>\n",
       "    </tr>\n",
       "  </thead>\n",
       "  <tbody>\n",
       "    <tr>\n",
       "      <th>0</th>\n",
       "      <td>What was the effect of oropharyngeal anesthesi...</td>\n",
       "      <td>[Oropharyngeal anesthesia led to an increase i...</td>\n",
       "      <td>Oropharyngeal anesthesia led to an increase in...</td>\n",
       "      <td>[Obstructive sleep apnea following topical oro...</td>\n",
       "    </tr>\n",
       "    <tr>\n",
       "      <th>1</th>\n",
       "      <td>What was the prognostic value of low neutrophi...</td>\n",
       "      <td>[Low neutrophil function, particularly defecti...</td>\n",
       "      <td>Low neutrophil function, particularly defectiv...</td>\n",
       "      <td>[Neutrophil function and pyogenic infections i...</td>\n",
       "    </tr>\n",
       "    <tr>\n",
       "      <th>2</th>\n",
       "      <td>What was the treatment that resulted in both c...</td>\n",
       "      <td>[]</td>\n",
       "      <td></td>\n",
       "      <td>[Paraneoplastic vasculitic neuropathy: a treat...</td>\n",
       "    </tr>\n",
       "    <tr>\n",
       "      <th>3</th>\n",
       "      <td>What was the conclusion regarding the role of ...</td>\n",
       "      <td>[The conclusion was that CNS prophylaxis with ...</td>\n",
       "      <td>The conclusion was that CNS prophylaxis with r...</td>\n",
       "      <td>[Questionable role of CNS radioprophylaxis in ...</td>\n",
       "    </tr>\n",
       "    <tr>\n",
       "      <th>4</th>\n",
       "      <td>What are the advantages of using duplex Dopple...</td>\n",
       "      <td>[The advantages include absence of toxicity, p...</td>\n",
       "      <td>The advantages include absence of toxicity, pr...</td>\n",
       "      <td>[Current status of duplex Doppler ultrasound i...</td>\n",
       "    </tr>\n",
       "  </tbody>\n",
       "</table>\n",
       "</div>"
      ],
      "text/plain": [
       "                                            question  \\\n",
       "0  What was the effect of oropharyngeal anesthesi...   \n",
       "1  What was the prognostic value of low neutrophi...   \n",
       "2  What was the treatment that resulted in both c...   \n",
       "3  What was the conclusion regarding the role of ...   \n",
       "4  What are the advantages of using duplex Dopple...   \n",
       "\n",
       "                                       ground_truths  \\\n",
       "0  [Oropharyngeal anesthesia led to an increase i...   \n",
       "1  [Low neutrophil function, particularly defecti...   \n",
       "2                                                 []   \n",
       "3  [The conclusion was that CNS prophylaxis with ...   \n",
       "4  [The advantages include absence of toxicity, p...   \n",
       "\n",
       "                                              answer  \\\n",
       "0  Oropharyngeal anesthesia led to an increase in...   \n",
       "1  Low neutrophil function, particularly defectiv...   \n",
       "2                                                      \n",
       "3  The conclusion was that CNS prophylaxis with r...   \n",
       "4  The advantages include absence of toxicity, pr...   \n",
       "\n",
       "                                            contexts  \n",
       "0  [Obstructive sleep apnea following topical oro...  \n",
       "1  [Neutrophil function and pyogenic infections i...  \n",
       "2  [Paraneoplastic vasculitic neuropathy: a treat...  \n",
       "3  [Questionable role of CNS radioprophylaxis in ...  \n",
       "4  [Current status of duplex Doppler ultrasound i...  "
      ]
     },
     "execution_count": 7,
     "metadata": {},
     "output_type": "execute_result"
    }
   ],
   "source": [
    "import pandas as pd\n",
    "# Creating the DataFrame\n",
    "data = []\n",
    "for search_term_id, search_term_text in dataset['search_terms'].items():\n",
    "    response_text = dataset['responses'].get(search_term_id)\n",
    "    doc_ids = dataset['pertinent_documents'].get(search_term_id, [])\n",
    "    for doc_id in doc_ids:\n",
    "        data_bank_text = dataset['data_bank'].get(doc_id)\n",
    "        data.append({\"question\": search_term_text, \"ground_truths\": [response_text], \"answer\": response_text, \"contexts\": [data_bank_text]})\n",
    "\n",
    "df = pd.DataFrame(data)\n",
    "df.head()"
   ]
  },
  {
   "cell_type": "code",
   "execution_count": 8,
   "metadata": {},
   "outputs": [],
   "source": [
    "csv_synthetic_data = os.path.join(os.getcwd(), 'processed', 'synthetic_dataset.csv')\n",
    "df.to_csv(csv_synthetic_data, index=False)"
   ]
  },
  {
   "cell_type": "code",
   "execution_count": 9,
   "metadata": {},
   "outputs": [],
   "source": [
    "from datasets import Dataset\n",
    "ds = Dataset.from_pandas(df)"
   ]
  },
  {
   "cell_type": "code",
   "execution_count": 10,
   "metadata": {},
   "outputs": [
    {
     "name": "stderr",
     "output_type": "stream",
     "text": [
      "c:\\Users\\Hem Chandra\\AppData\\Local\\Programs\\Python\\Python311\\Lib\\site-packages\\datasets\\table.py:1395: FutureWarning: promote has been superseded by mode='default'.\n",
      "  block_group = [InMemoryTable(cls._concat_blocks(list(block_group), axis=axis))]\n",
      "c:\\Users\\Hem Chandra\\AppData\\Local\\Programs\\Python\\Python311\\Lib\\site-packages\\datasets\\table.py:1421: FutureWarning: promote has been superseded by mode='default'.\n",
      "  table = cls._concat_blocks(blocks, axis=0)\n"
     ]
    },
    {
     "data": {
      "application/vnd.jupyter.widget-view+json": {
       "model_id": "7bd1b00b69e9477fa2278d879fc063ff",
       "version_major": 2,
       "version_minor": 0
      },
      "text/plain": [
       "Evaluating:   0%|          | 0/132 [00:00<?, ?it/s]"
      ]
     },
     "metadata": {},
     "output_type": "display_data"
    }
   ],
   "source": [
    "from ragas import evaluate\n",
    "from ragas.metrics import (\n",
    "    answer_relevancy,\n",
    "    faithfulness,\n",
    "    context_recall,\n",
    "    context_precision,\n",
    "    answer_similarity,\n",
    "    context_relevancy\n",
    ")\n",
    "\n",
    "result = evaluate(\n",
    "    ds,\n",
    "    metrics=[\n",
    "        context_precision,\n",
    "        faithfulness,\n",
    "        answer_relevancy,\n",
    "        context_recall,\n",
    "        answer_similarity,\n",
    "        context_relevancy\n",
    "    ],\n",
    ")"
   ]
  },
  {
   "cell_type": "code",
   "execution_count": 11,
   "metadata": {},
   "outputs": [
    {
     "name": "stderr",
     "output_type": "stream",
     "text": [
      "c:\\Users\\Hem Chandra\\AppData\\Local\\Programs\\Python\\Python311\\Lib\\site-packages\\datasets\\table.py:1395: FutureWarning: promote has been superseded by mode='default'.\n",
      "  block_group = [InMemoryTable(cls._concat_blocks(list(block_group), axis=axis))]\n",
      "c:\\Users\\Hem Chandra\\AppData\\Local\\Programs\\Python\\Python311\\Lib\\site-packages\\datasets\\table.py:1421: FutureWarning: promote has been superseded by mode='default'.\n",
      "  table = cls._concat_blocks(blocks, axis=0)\n"
     ]
    },
    {
     "data": {
      "text/html": [
       "<div>\n",
       "<style scoped>\n",
       "    .dataframe tbody tr th:only-of-type {\n",
       "        vertical-align: middle;\n",
       "    }\n",
       "\n",
       "    .dataframe tbody tr th {\n",
       "        vertical-align: top;\n",
       "    }\n",
       "\n",
       "    .dataframe thead th {\n",
       "        text-align: right;\n",
       "    }\n",
       "</style>\n",
       "<table border=\"1\" class=\"dataframe\">\n",
       "  <thead>\n",
       "    <tr style=\"text-align: right;\">\n",
       "      <th></th>\n",
       "      <th>question</th>\n",
       "      <th>ground_truths</th>\n",
       "      <th>answer</th>\n",
       "      <th>contexts</th>\n",
       "      <th>ground_truth</th>\n",
       "      <th>context_precision</th>\n",
       "      <th>faithfulness</th>\n",
       "      <th>answer_relevancy</th>\n",
       "      <th>context_recall</th>\n",
       "      <th>answer_similarity</th>\n",
       "      <th>context_relevancy</th>\n",
       "    </tr>\n",
       "  </thead>\n",
       "  <tbody>\n",
       "    <tr>\n",
       "      <th>0</th>\n",
       "      <td>What was the effect of oropharyngeal anesthesi...</td>\n",
       "      <td>[Oropharyngeal anesthesia led to an increase i...</td>\n",
       "      <td>Oropharyngeal anesthesia led to an increase in...</td>\n",
       "      <td>[Obstructive sleep apnea following topical oro...</td>\n",
       "      <td>Oropharyngeal anesthesia led to an increase in...</td>\n",
       "      <td>1.0</td>\n",
       "      <td>1.0</td>\n",
       "      <td>0.940725</td>\n",
       "      <td>1.0</td>\n",
       "      <td>1.000000</td>\n",
       "      <td>0.083333</td>\n",
       "    </tr>\n",
       "    <tr>\n",
       "      <th>1</th>\n",
       "      <td>What was the prognostic value of low neutrophi...</td>\n",
       "      <td>[Low neutrophil function, particularly defecti...</td>\n",
       "      <td>Low neutrophil function, particularly defectiv...</td>\n",
       "      <td>[Neutrophil function and pyogenic infections i...</td>\n",
       "      <td>Low neutrophil function, particularly defectiv...</td>\n",
       "      <td>1.0</td>\n",
       "      <td>1.0</td>\n",
       "      <td>0.896940</td>\n",
       "      <td>1.0</td>\n",
       "      <td>1.000000</td>\n",
       "      <td>0.071429</td>\n",
       "    </tr>\n",
       "    <tr>\n",
       "      <th>2</th>\n",
       "      <td>What was the treatment that resulted in both c...</td>\n",
       "      <td>[]</td>\n",
       "      <td></td>\n",
       "      <td>[Paraneoplastic vasculitic neuropathy: a treat...</td>\n",
       "      <td></td>\n",
       "      <td>1.0</td>\n",
       "      <td>NaN</td>\n",
       "      <td>0.940740</td>\n",
       "      <td>1.0</td>\n",
       "      <td>1.000000</td>\n",
       "      <td>0.800000</td>\n",
       "    </tr>\n",
       "    <tr>\n",
       "      <th>3</th>\n",
       "      <td>What was the conclusion regarding the role of ...</td>\n",
       "      <td>[The conclusion was that CNS prophylaxis with ...</td>\n",
       "      <td>The conclusion was that CNS prophylaxis with r...</td>\n",
       "      <td>[Questionable role of CNS radioprophylaxis in ...</td>\n",
       "      <td>The conclusion was that CNS prophylaxis with r...</td>\n",
       "      <td>1.0</td>\n",
       "      <td>1.0</td>\n",
       "      <td>0.968017</td>\n",
       "      <td>1.0</td>\n",
       "      <td>0.999998</td>\n",
       "      <td>0.142857</td>\n",
       "    </tr>\n",
       "    <tr>\n",
       "      <th>4</th>\n",
       "      <td>What are the advantages of using duplex Dopple...</td>\n",
       "      <td>[The advantages include absence of toxicity, p...</td>\n",
       "      <td>The advantages include absence of toxicity, pr...</td>\n",
       "      <td>[Current status of duplex Doppler ultrasound i...</td>\n",
       "      <td>The advantages include absence of toxicity, pr...</td>\n",
       "      <td>1.0</td>\n",
       "      <td>1.0</td>\n",
       "      <td>0.952222</td>\n",
       "      <td>1.0</td>\n",
       "      <td>1.000000</td>\n",
       "      <td>1.000000</td>\n",
       "    </tr>\n",
       "  </tbody>\n",
       "</table>\n",
       "</div>"
      ],
      "text/plain": [
       "                                            question  \\\n",
       "0  What was the effect of oropharyngeal anesthesi...   \n",
       "1  What was the prognostic value of low neutrophi...   \n",
       "2  What was the treatment that resulted in both c...   \n",
       "3  What was the conclusion regarding the role of ...   \n",
       "4  What are the advantages of using duplex Dopple...   \n",
       "\n",
       "                                       ground_truths  \\\n",
       "0  [Oropharyngeal anesthesia led to an increase i...   \n",
       "1  [Low neutrophil function, particularly defecti...   \n",
       "2                                                 []   \n",
       "3  [The conclusion was that CNS prophylaxis with ...   \n",
       "4  [The advantages include absence of toxicity, p...   \n",
       "\n",
       "                                              answer  \\\n",
       "0  Oropharyngeal anesthesia led to an increase in...   \n",
       "1  Low neutrophil function, particularly defectiv...   \n",
       "2                                                      \n",
       "3  The conclusion was that CNS prophylaxis with r...   \n",
       "4  The advantages include absence of toxicity, pr...   \n",
       "\n",
       "                                            contexts  \\\n",
       "0  [Obstructive sleep apnea following topical oro...   \n",
       "1  [Neutrophil function and pyogenic infections i...   \n",
       "2  [Paraneoplastic vasculitic neuropathy: a treat...   \n",
       "3  [Questionable role of CNS radioprophylaxis in ...   \n",
       "4  [Current status of duplex Doppler ultrasound i...   \n",
       "\n",
       "                                        ground_truth  context_precision  \\\n",
       "0  Oropharyngeal anesthesia led to an increase in...                1.0   \n",
       "1  Low neutrophil function, particularly defectiv...                1.0   \n",
       "2                                                                   1.0   \n",
       "3  The conclusion was that CNS prophylaxis with r...                1.0   \n",
       "4  The advantages include absence of toxicity, pr...                1.0   \n",
       "\n",
       "   faithfulness  answer_relevancy  context_recall  answer_similarity  \\\n",
       "0           1.0          0.940725             1.0           1.000000   \n",
       "1           1.0          0.896940             1.0           1.000000   \n",
       "2           NaN          0.940740             1.0           1.000000   \n",
       "3           1.0          0.968017             1.0           0.999998   \n",
       "4           1.0          0.952222             1.0           1.000000   \n",
       "\n",
       "   context_relevancy  \n",
       "0           0.083333  \n",
       "1           0.071429  \n",
       "2           0.800000  \n",
       "3           0.142857  \n",
       "4           1.000000  "
      ]
     },
     "execution_count": 11,
     "metadata": {},
     "output_type": "execute_result"
    }
   ],
   "source": [
    "result.to_pandas().head()"
   ]
  },
  {
   "cell_type": "markdown",
   "metadata": {},
   "source": [
    "## Logging to wandb, really need to have nice dashboard"
   ]
  },
  {
   "cell_type": "code",
   "execution_count": 12,
   "metadata": {},
   "outputs": [],
   "source": [
    "# !pip install wandb"
   ]
  },
  {
   "cell_type": "code",
   "execution_count": 13,
   "metadata": {},
   "outputs": [],
   "source": [
    "import wandb"
   ]
  },
  {
   "cell_type": "code",
   "execution_count": 14,
   "metadata": {},
   "outputs": [
    {
     "name": "stderr",
     "output_type": "stream",
     "text": [
      "\u001b[34m\u001b[1mwandb\u001b[0m: Currently logged in as: \u001b[33mshramanpadhalni\u001b[0m. Use \u001b[1m`wandb login --relogin`\u001b[0m to force relogin\n",
      "\u001b[34m\u001b[1mwandb\u001b[0m: \u001b[33mWARNING\u001b[0m If you're specifying your api key in code, ensure this code is not shared publicly.\n",
      "\u001b[34m\u001b[1mwandb\u001b[0m: \u001b[33mWARNING\u001b[0m Consider setting the WANDB_API_KEY environment variable, or running `wandb login` from the command line.\n",
      "\u001b[34m\u001b[1mwandb\u001b[0m: Appending key for api.wandb.ai to your netrc file: C:\\Users\\Hem Chandra\\.netrc\n"
     ]
    },
    {
     "data": {
      "text/plain": [
       "True"
      ]
     },
     "execution_count": 14,
     "metadata": {},
     "output_type": "execute_result"
    }
   ],
   "source": [
    "# ok lets login to wandb\n",
    "# wandb.login(key=\"your - api - key - here\")"
   ]
  },
  {
   "cell_type": "code",
   "execution_count": 15,
   "metadata": {},
   "outputs": [
    {
     "data": {
      "text/html": [
       "Tracking run with wandb version 0.16.4"
      ],
      "text/plain": [
       "<IPython.core.display.HTML object>"
      ]
     },
     "metadata": {},
     "output_type": "display_data"
    },
    {
     "data": {
      "text/html": [
       "Run data is saved locally in <code>c:\\Users\\Hem Chandra\\Jupyter_Notebook\\Generative_AI\\RAG\\LLmaIndex_LangChain_DSPY\\Rag_DSPY_OO\\Evaluation\\wandb\\run-20240310_120429-4xsligpv</code>"
      ],
      "text/plain": [
       "<IPython.core.display.HTML object>"
      ]
     },
     "metadata": {},
     "output_type": "display_data"
    },
    {
     "data": {
      "text/html": [
       "Syncing run <strong><a href='https://wandb.ai/shramanpadhalni/medical_abstract-rag-synthetic-data-eval/runs/4xsligpv' target=\"_blank\">fearless-dust-5</a></strong> to <a href='https://wandb.ai/shramanpadhalni/medical_abstract-rag-synthetic-data-eval' target=\"_blank\">Weights & Biases</a> (<a href='https://wandb.me/run' target=\"_blank\">docs</a>)<br/>"
      ],
      "text/plain": [
       "<IPython.core.display.HTML object>"
      ]
     },
     "metadata": {},
     "output_type": "display_data"
    },
    {
     "data": {
      "text/html": [
       " View project at <a href='https://wandb.ai/shramanpadhalni/medical_abstract-rag-synthetic-data-eval' target=\"_blank\">https://wandb.ai/shramanpadhalni/medical_abstract-rag-synthetic-data-eval</a>"
      ],
      "text/plain": [
       "<IPython.core.display.HTML object>"
      ]
     },
     "metadata": {},
     "output_type": "display_data"
    },
    {
     "data": {
      "text/html": [
       " View run at <a href='https://wandb.ai/shramanpadhalni/medical_abstract-rag-synthetic-data-eval/runs/4xsligpv' target=\"_blank\">https://wandb.ai/shramanpadhalni/medical_abstract-rag-synthetic-data-eval/runs/4xsligpv</a>"
      ],
      "text/plain": [
       "<IPython.core.display.HTML object>"
      ]
     },
     "metadata": {},
     "output_type": "display_data"
    },
    {
     "data": {
      "application/vnd.jupyter.widget-view+json": {
       "model_id": "7dd1ae1aed41415a8ff83b6dfa82a6ba",
       "version_major": 2,
       "version_minor": 0
      },
      "text/plain": [
       "VBox(children=(Label(value='0.001 MB of 0.007 MB uploaded\\r'), FloatProgress(value=0.13007912028966073, max=1.…"
      ]
     },
     "metadata": {},
     "output_type": "display_data"
    },
    {
     "data": {
      "text/html": [
       "<style>\n",
       "    table.wandb td:nth-child(1) { padding: 0 10px; text-align: left ; width: auto;} td:nth-child(2) {text-align: left ; width: 100%}\n",
       "    .wandb-row { display: flex; flex-direction: row; flex-wrap: wrap; justify-content: flex-start; width: 100% }\n",
       "    .wandb-col { display: flex; flex-direction: column; flex-basis: 100%; flex: 1; padding: 10px; }\n",
       "    </style>\n",
       "<div class=\"wandb-row\"><div class=\"wandb-col\"><h3>Run history:</h3><br/><table class=\"wandb\"><tr><td>answer_relevancy</td><td>▁</td></tr><tr><td>answer_similarity</td><td>▁</td></tr><tr><td>context_precision</td><td>▁</td></tr><tr><td>context_recall</td><td>▁</td></tr><tr><td>context_relevancy</td><td>▁</td></tr><tr><td>faithfulness</td><td>▁</td></tr></table><br/></div><div class=\"wandb-col\"><h3>Run summary:</h3><br/><table class=\"wandb\"><tr><td>answer_relevancy</td><td>0.93351</td></tr><tr><td>answer_similarity</td><td>1.0</td></tr><tr><td>context_precision</td><td>1.0</td></tr><tr><td>context_recall</td><td>1.0</td></tr><tr><td>context_relevancy</td><td>0.24975</td></tr><tr><td>faithfulness</td><td>0.97778</td></tr></table><br/></div></div>"
      ],
      "text/plain": [
       "<IPython.core.display.HTML object>"
      ]
     },
     "metadata": {},
     "output_type": "display_data"
    },
    {
     "data": {
      "text/html": [
       " View run <strong style=\"color:#cdcd00\">fearless-dust-5</strong> at: <a href='https://wandb.ai/shramanpadhalni/medical_abstract-rag-synthetic-data-eval/runs/4xsligpv' target=\"_blank\">https://wandb.ai/shramanpadhalni/medical_abstract-rag-synthetic-data-eval/runs/4xsligpv</a><br/>Synced 4 W&B file(s), 0 media file(s), 0 artifact file(s) and 0 other file(s)"
      ],
      "text/plain": [
       "<IPython.core.display.HTML object>"
      ]
     },
     "metadata": {},
     "output_type": "display_data"
    },
    {
     "data": {
      "text/html": [
       "Find logs at: <code>.\\wandb\\run-20240310_120429-4xsligpv\\logs</code>"
      ],
      "text/plain": [
       "<IPython.core.display.HTML object>"
      ]
     },
     "metadata": {},
     "output_type": "display_data"
    }
   ],
   "source": [
    "\n",
    "def start_wandb_run(dataset, result, project_name=\"medical_abstract-rag-synthetic-data-eval\",\n",
    "                     chunk_size=128, sentence_chunk_overlap=16):\n",
    "    \"\"\"\n",
    "    Initializes a Weights & Biases run to log metrics, parameters, and results for tracking experiments.\n",
    "\n",
    "    Parameters:\n",
    "    - dataset: The dataset being evaluated or processed in the run.\n",
    "    - result: A dictionary containing the results to log in the run.\n",
    "    - project_name (str): The name of the Weights & Biases project where the run will be logged.\n",
    "    - chunk_size (int): The size of the chunks to split the dataset into.\n",
    "    - sentence_chunk_overlap (int): The overlap size between consecutive dataset chunks.\n",
    "\n",
    "    Returns:\n",
    "    None\n",
    "    \"\"\"\n",
    "    try:\n",
    "        # Start a new Weights & Biases run\n",
    "        wandb.init(project=project_name, config={\n",
    "            \"chunk_size\": chunk_size,\n",
    "            \"sentence_chunk_overlap\": sentence_chunk_overlap,\n",
    "            \"number_of_questions\": len(dataset),\n",
    "            \"comments\": \"Synthetic dataset where ground truth and the answer are the same.\",\n",
    "        })\n",
    "\n",
    "        # Log the result to the current run\n",
    "        wandb.log(result)\n",
    "\n",
    "        # Finish the current run to ensure all data is synced\n",
    "        wandb.finish()\n",
    "    except Exception as e:\n",
    "        print(f\"An error occurred during the Weights & Biases operation: {e}\")\n",
    "        # Optionally, handle exceptions such as retrying the operation or logging the error to a file\n",
    "\n",
    "# Start and log the wandb run\n",
    "start_wandb_run(ds, result)\n"
   ]
  },
  {
   "cell_type": "code",
   "execution_count": null,
   "metadata": {},
   "outputs": [],
   "source": []
  }
 ],
 "metadata": {
  "kernelspec": {
   "display_name": "Python 3",
   "language": "python",
   "name": "python3"
  },
  "language_info": {
   "codemirror_mode": {
    "name": "ipython",
    "version": 3
   },
   "file_extension": ".py",
   "mimetype": "text/x-python",
   "name": "python",
   "nbconvert_exporter": "python",
   "pygments_lexer": "ipython3",
   "version": "3.11.5"
  }
 },
 "nbformat": 4,
 "nbformat_minor": 2
}
