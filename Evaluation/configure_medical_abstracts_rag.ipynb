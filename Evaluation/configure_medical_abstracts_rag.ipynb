{
 "cells": [
  {
   "cell_type": "code",
   "execution_count": null,
   "metadata": {},
   "outputs": [],
   "source": []
  },
  {
   "cell_type": "code",
   "execution_count": 1,
   "metadata": {},
   "outputs": [],
   "source": [
    "import dspy\n",
    "import os\n",
    "from langchain.text_splitter import SentenceTransformersTokenTextSplitter\n",
    "import chromadb\n",
    "from chromadb.utils.embedding_functions import OpenAIEmbeddingFunction, SentenceTransformerEmbeddingFunction"
   ]
  },
  {
   "cell_type": "markdown",
   "metadata": {},
   "source": [
    "###  Utilities Functions, we can move to common python file so that can be used elsewhere"
   ]
  },
  {
   "cell_type": "code",
   "execution_count": 16,
   "metadata": {},
   "outputs": [],
   "source": [
    "def format_text_to_width(string, max_width=72):\n",
    "    \"\"\"\n",
    "    Formats text to fit within a specified width, ensuring that words are not broken.\n",
    "\n",
    "    This function wraps text at the last whitespace character before the max_width limit,\n",
    "    ensuring that each line does not exceed this width. It applies this logic recursively\n",
    "    to the entire text string.\n",
    "\n",
    "    Parameters:\n",
    "    - string (str): The text to be formatted.\n",
    "    - max_width (int): The maximum number of characters allowed per line before wrapping.\n",
    "\n",
    "    Returns:\n",
    "    - str: The formatted text with appropriate line breaks.\n",
    "    \"\"\"\n",
    "    if len(string) <= max_width:\n",
    "        return string\n",
    "    else:\n",
    "        # Find the last space before the max width to avoid breaking words\n",
    "        break_point = string[:max_width].rsplit(' ', 1)[0]\n",
    "\n",
    "        # Handle the case where a single word is longer than the max width\n",
    "        if not break_point:\n",
    "            break_point = string[:max_width]\n",
    "\n",
    "        # Recursively format the remainder of the text\n",
    "        return break_point + '\\n' + format_text_to_width(string[len(break_point)+1:], max_width)"
   ]
  },
  {
   "cell_type": "code",
   "execution_count": 2,
   "metadata": {},
   "outputs": [],
   "source": [
    "# Load the model\n",
    "turbo = dspy.OpenAI(model='gpt-3.5-turbo')"
   ]
  },
  {
   "cell_type": "code",
   "execution_count": 3,
   "metadata": {},
   "outputs": [
    {
     "data": {
      "text/plain": [
       "'Obstructive sleep apnea following topical oroph...\\nNeutrophil function and pyogenic infections in ...\\nA phase II study of combined methotrexate and t...\\nFlow cytometric DNA analysis of parathyroid tum...\\nParaneoplastic vasculitic neuropathy: a treatab...\\nTreatment of childhood angiomatous diseases wit...\\nExpression of major histocompatibility complex ...\\nQuestionable role of CNS radioprophylaxis in th...\\nReversibility of hepatic fibrosis in experiment...\\nCurrent status of duplex Doppler ultrasound in ...\\nThe importance of congenital hypertrophy of the...\\nHuman papillomavirus in women with vulvar intra...\\nGentamicin iontophoresis in the treatment of ba...\\nRepeat hepatic resection for primary and metast...\\nEvidence for intraluminal Ca++ regulatory site ...\\nGlutamic acid and gamma-aminobutyric acid neuro...\\nA useful technique for measurement of back stre...\\nThe natural history of ultraviolet radiation-in...\\nHereditary internal anal sphincter myopathy cau...\\nImmune response of peripheral blood mononuclear...\\nExpression of neural cell adhesion molecule in ...\\nGenetics of cerebrovascular disease. Stroke is ...\\nAppraisal of gut lavage in the study of intesti...\\nSubsite distribution and incidence of colorecta...\\nBolus, front-loaded, and accelerated thrombolyt...\\nEffects of site-specific mutations on biologic ...\\nProphylactic sclerotherapy for esophageal varic...\\nA case of cerebrotendinous xanthomatosis. II: T...\\nIdiopathic intracranial hypertension without pa...\\nAcute lower respiratory tract infection due to ...\\nEndocrine function in children with human immun...\\nLeukaemia complicating treatment for Hodgkin\\'s ...\\nExtensive vulvar and vaginal varicella necessit...\\nTissue dose estimates following the selective u...\\nCombined vesicovaginal-ureterovaginal fistulas ...\\nEpidural anaesthesia for labour and caesarean s...\\nA prospective analysis of intramuscular meperid...\\nTeniposide (VM-26) and continuous infusion cyto...\\nIncrease of calmodulin activator in hypertensio...\\nSerum cholesterol levels and survival in elderl...\\nPulmonary arterial and venous constriction duri...\\nP-31 spectroscopy study of response of superfic...\\nFailure to detect human T-cell leukemia virus-r...\\nPsychological outcomes of different treatment p...\\nPartial laryngectomy after irradiation failure....\\nRegression of coronary atherosclerosis during t...\\nDoxazosin in the treatment of mild or moderate ...\\nShould you cancel the operation when a child ha...\\nA seromuscular stripping method to create a nip...\\nDoppler echocardiographic assessment of changes...\\nAberrant origin of the right coronary artery as...\\nImmunophenotypes in \"classical\" B-cell chronic ...\\nNormal and leukemic hematopoietic cells manifes...\\nTreatment of ventricular tachycardia induced ca...\\nCardiorespiratory effects of endoscopic esophag...\\nGrowth and spread of hepatocellular carcinoma. ...\\nEffect of exposure of miners to aluminium powde...\\nAmpullary tumor caused by metastatic renal cell...\\nPhotochemotherapy improves chronic cutaneous gr...\\nNeuropsychological performance in medicated and...\\nPregnancy-induced hypertension and acute fatty ...\\nPTCA of gastroepiploic bypass. A technique for ...\\nDental extraction for patients on oral anticoag...\\nPh-negative chronic myeloid leukemia: molecular...\\nExtraperitoneal endarterectomy for iliofemoral ...\\nSpecific supersensitivity of the mesenteric vas...\\nExtramedullary blast crisis in a patient with P...\\nOccult vascular malformations of the optic chia...\\nEstimation of myocardial infarct size with ultr...\\nTemporal bone findings in two cases of head inj...\\nMedical management of acute traumatic rupture o...\\nThigh muscle function after partial tear of the...\\nVagus nerve stimulation in humans: neurophysiol...\\nEffects of inflammatory mediators on the respon...\\nHemodynamic effects of H2-receptor antagonists....\\nCatheterization of coronary artery bypass graft...\\nAnaplastic carcinoma presenting with cervical l...\\nTranscranial electrical motor evoked potentials...\\nFactors determining improvement in left ventric...\\nVascular renin and hypertension. Uptake versus ...\\nStapling or suturing for anastomoses of the lef...\\nExtensive peripheral retinectomy combined with ...\\nPneumococcal pneumonia in a rat model of cirrho...\\nLatent sensitisation to respiratory syncytial v...\\nA 47-kDa human nuclear protein recognized by an...\\nAntenatal phenobarbital for the prevention of p...\\nPrediction of outcome in acute pancreatitis: a ...\\nEfficacy of nimodipine in cerebral ischemia or ...\\nReperfusion and readmission of oxygen. Pathophy...\\nRepetitive conservative surgery for recurrence ...\\nDexamethasone increases plasma levels of albend...\\nSevere hypertension after liver transplantation...\\nThe in vivo biologic effect of interleukin 2 an...\\nCatecholamine-induced cardiomyopathy in multipl...\\nAssessing the clinical effectiveness of prevent...\\nTransient ischaemic attacks in young patients: ...\\nIncidence of perioperative myocardial ischemia ...\\nCrohn\\'s disease in the city of Derby, 1951-85. ...\\nCaffeine and cardiac arrhythmias. PURPOSE: To r...\\nThe surgical treatment of atrial fibrillation. ...\\nGastroesophageal reflux in infants. Clinically ...\\nGenetic diagnosis of Lynch syndrome II in an ex...\\nRenal angioplasty for renovascular disease: a r...\\nCaseating hepatic granulomas in Hodgkin\\'s lymph...\\nImmunization and protection against malaria dur...\\nGlomerular binding and contractile response to ...\\nAngina, ischemia, and effort tolerance with vas...\\nCentral nervous system bioaminergic responses t...\\nRepair of supravalvar aortic stenosis: cardiova...\\nLinear scleroderma associated with ptosis and m...\\nSudden death from acute cocaine intoxication in...\\nPsychological and behavioral implications of ab...\\nInfluence of age and endocrine factors on the v...\\nEffects of recombinant human interleukin-3 on h...\\nPercutaneous rotational contact biliary lithotr...\\nGlossopharyngeal schwannoma: review of five cas...\\nThe internal oblique-iliac crest free flap in c...\\nRuptured mature cystic teratoma of the ovary wi...\\nUse of N2O/O2/enflurane anesthesia for dental t...\\nA case of unilateral posterior ischemic optic n...\\nComparison of two ascitic fluid culture methods...\\nExtrahepatic portal vein aneurysm associated wi...\\nAnisocoria in unilateral ophthalmic disease. Pu...\\nEntrapment of a folded-over introducer sheath i...\\nMapping genes in diabetes. Genetic epidemiologi...\\nNeglected factors in chronic pain treatment out...\\nLiver transplantation for hepatoblastoma. The A...\\nA case of myelinoclastic diffuse sclerosis in a...\\nEffect of coronary hyperemia on Emax and oxygen...\\nTransesophageal echocardiography in the awake e...\\nNeuro-ophthalmic manifestations of human immuno...\\nEffects of atenolol alone, nifedipine alone and...\\nEfficacy of methylphenidate among mentally reta...\\nNew biological properties of pyrroloquinoline q...\\nTreatment of vaginal candidiasis: orally or vag...\\nDiarrhea. Diarrhea is one manifestation of GI d...\\nImpact of active immunisation against enteritis...\\nTechnetium-99m-methylene diphosphonate (MDP) up...\\nImmunohistochemical characterization of microva...\\nVitamin E and cancer prevention. Some animal ex...\\nRetrograde recanalization of an occluded poster...\\nVena caval flow: assessment with cine MR veloci...\\nPermanent external striated sphincter stents in...\\nThe management of malignant bone tumors in chil...\\nRuptured abdominal aortic aneurysm: the Harborv...\\nAdult hepatic fibropolycystic disease presentin...\\nAssociation of the renin-sodium profile with th...\\nExpandable venous stents for treatment of the B...\\nRenovascular beta adrenergic hypersensitivity a...\\nAnorectal dysfunction in patients with urologic...\\nRepetitive conservative surgery for recurrence ...\\nIntestinal perforation due to cytomegalovirus i...\\nCircadian variations in myocardial ischemia. Im...\\nLower extremity arterial disease in elderly sub...\\npH-adjustment and discomfort caused by the intr...\\nRecombinant Epstein-Barr virus with small RNA (...\\nPercutaneous cholangioscopic or transpapillary ...\\nPathogenesis and therapy of peptic ulcer diseas...\\nAbnormal pulsatile secretion of luteinizing hor...\\nGastrointestinal function and structure in HIV-...\\nBacteremia with otitis media. To investigate th...\\nCarcinoma of the breast: measurement and the ma...\\nUltrastructural study of Norrie\\'s disease. We s...\\nGeneral principles of therapy of pyogenic menin...\\nHigh-resolution ultrafast chest CT in the clini...\\nRelationship between duration of spinal cord is...\\nTotal-hip arthroplasty: periprosthetic indium-1...\\nHistology of the lens in the Weill-Marchesani s...\\nEsophageal motility, heartburn, and gastroesoph...\\nHistorical review of pancreaticoduodenectomy. T...\\nProgressive coma after the transsphenoidal deco...\\nMagnetic resonance imaging of cardiac rhabdomyo...\\nContracturing granulomatous myositis: a separat...\\nCentral nervous system involvement in patients ...\\nInfantile spasms. Infantile spasms are a seizur...\\nClinical and electrophysiologic determinants, t...\\nAcute angiographic and clinical outcome of high...\\nEntrapment neuropathy of the median nerve at th...\\nThird ventricle cavernous angioma: report of tw...\\nIncreased Ca2+ signaling after alpha-adrenocept...\\nAtrial fibrillation in the elderly: management ...\\nRecurrent transient ischemic attacks and stroke...\\nFatal fungal pericarditis after cardiac surgery...\\nPrognostic significance of carcinoembryonic ant...\\nHilar malignancy: treatment with an expandable ...\\nAdult phosphorylase b kinase deficiency. Phosph...\\nTransforming growth factor-beta-induced inhibit...\\nFibrin glue inhibits intra-abdominal adhesion f...\\nTherapy of diseased stroke-prone spontaneously ...\\nChronic pain. Understanding of the etiology of ...\\nBrain imaging abnormalities in mental disorders...\\nUse of autologous blood in total hip replacemen...\\nVasopressin-related bullous disease of the legs...\\nTreatment of squamous cell carcinoma of the ana...\\nEvoked potentials in assessment and follow-up o...\\nConservative therapy for adnexal torsion. A cas...\\nDetection and evaluation of intrapulmonary vasc...\\nLong-term results of Ionescu-Shiley valve in th...\\nThe value of push-type jejunal endoscopy in fam...\\nEffect of atenolol and diltiazem on heart perio...\\nThe differentiation of delayed serologic and de...\\nGenetic control of the immune response in mice ...\\nSelective spatial attention in patients with vi...\\nDrug-induced headache. Headache induced by medi...\\nThe stroke syndrome of striatocapsular infarcti...\\nBalloon rupture due to lesion morphology during...\\nLipomatous hypertrophy of the interatrial septu...\\nPercutaneous balloon valvotomy for patients wit...\\nLoss of endothelium-dependent relaxant activity...\\nNear fatal subacute thallium poisoning necessit...\\nCervicocephalic kinesthetic sensibility in pati...\\nConcurrent cisplatin, infusional fluorouracil, ...\\nBlood pressure level, trend, and variability in...\\nSinus node-atrioventricular node isolation: lon...\\nAdult immunization in a network of family pract...\\nPathogenesis of ischemic necrosis in random-pat...\\nSinus arrest induced by trivial nasal stimulati...\\nPulse rate, coronary heart disease, and death: ...\\nQuality-of-life-adjusted survival for comparing...\\nSphincter of Oddi manometry: decreased risk of ...\\nMassive hemorrhage from an arterioureteral fist...\\nJets over Labrador and Quebec: noise effects on...\\nMetabolic studies of radioiodinated serum amylo...\\nChanging cancer care in the 1990s and the cost....\\nAstroblastoma: electron microscopy and immunohi...\\nPancreatic ascites: treatment by continuous som...\\nEarly detection of acute myocardial infarction ...\\nSurgical management of 552 carcinomas of the ex...\\nSymptomatic carotid endarterectomy trials. The ...\\nIntrapericardial infusion of 5-fluorouracil. An...\\nEffects of spermatic vascular division for corr...\\nLandau-Kleffner syndrome: a clinical and EEG st...\\nCholangiocarcinoma. The diagnosis of cholangioc...\\nMortality after 10 1/2 years for hypertensive p...\\nCombined aortic and visceral arterial reconstru...\\nThe effect of omental pedicle graft transfer on...\\nTesticular calcifications and neoplasia in pati...\\nAtypical presentations of Pneumocystis carinii ...\\nThe management of atypical non-cardiac chest pa...\\nLDH isoenzymes in cerebrospinal fluid in variou...\\nHormonal treatment of functional ovarian cysts:...\\nPrognostic significance of serosal invasion in ...\\nFalse aneurysm of the internal mammary artery. ...\\nEtiology of acute lower respiratory tract infec...\\nSynchronous reconstruction for combined aortoil...\\nMorphologic comparison of patients with mitral ...\\nToxic shock syndrome associated with use of lat...\\nEffect of synchronous increase in intrathoracic...\\nSystemic therapy in metastatic colorectal cance...\\nImproved scintigraphic assessment of severe cho...\\nUnique features of Helicobacter pylori disease ...\\nRectourethral fistula caused by Kaposi\\'s sarcom...\\nUltrasonic debridement during mitral valve reco...\\nMaintenance of circulation during ventricular f...\\nHuman tumor necrosis factor alpha gene regulati...\\nPostlaminectomy ossified extradural pseudocyst....\\nHypothalamic obesity due to hydrocephalus cause...\\nActin architecture of cultured human thyroid ca...\\nExtracorporeal shock wave lithotripsy of gallst...\\nOndansetron compared with high-dose metoclopram...\\nThallium reinjection after stress-redistributio...\\nHemolytic transfusion reaction following transf...\\nMaffucci\\'s syndrome with bilateral cartilaginou...\\nThe classification of childhood seizures and ep...\\nAdjuvant antiestrogen therapy for breast cancer...\\nFetomaternal bleeding as a cause of recurrent f...\\nMidazolam-induced benzodiazepine withdrawal syn...\\nMultifocal colitis associated with an epidemic ...\\nEffect of activity on supraventricular tachyarr...\\nDiagnosing pulmonary embolism: new facts and st...\\nSymptomatic pancreatic heterotopia treated by l...\\nPentostatin induces durable remissions in hairy...\\nMajor clinical diagnoses found among patients w...\\nToxic carbamazepine concentrations following ca...\\nHelicobacter pylori and gastric carcinoma. Seru...\\nHeterogeneity in progressive aphasia due to foc...\\nFeatures of \"near-death experience\" in relation...\\nInfluence of clinical and hemodynamic variables...\\nOn-table pancreatography: importance in plannin...\\nTreatment of manifest and impending pathologic ...\\nHyperbaric oxygen therapy for necrotizing fasci...\\nNew surgical approach to complicated gastroesop...\\nHow large must an iridotomy be? Four cases of a...\\nNeoadjuvant chemotherapy and radical surgery in...\\nThe effects of cyclosporin A on eicosanoid excr...\\nBrain tumors. Recent advances in experimental t...\\nTransvaginal approach for repair of rectovagina...\\nOncocytic glomus tumor of the trachea. An oncoc...\\nMeningitis due to protozoa and helminths. This ...\\nTechnetium-99m-HMPAO brain SPECT in medically i...\\nCyclic-AMP binding proteins in the head and nec...\\nResearch in physical medicine and rehabilitatio...\\nRestenosis after directional coronary atherecto...\\nWhat is the best method for assessing the long-...\\nCefotaxime and aminoglycoside treatment of meni...\\nCharacterization and significance of sulfonylur...\\nThe role of infection in the morbidity and mort...\\nThoracoabdominal repair of a post-traumatic aor...\\nVaginal removal of the pedunculated submucous m...\\nLaser recanalization versus endoscopic intubati...\\nAtheroemboli to the lower urinary tract: a mark...\\nIntracoronary adenosine administration during r...\\nRAR-alpha gene rearrangements as a genetic mark...\\nThe Framingham Disability Study: relationship o...\\nDepression after acute myocardial infarction. T...\\nSafety and efficacy of thrombolytic therapy for...\\nRemote effect of deep-seated vascular brain les...\\nAssessment of brain death in children by means ...\\nIndomethacin responsive hypercalcaemia associat...\\nBlockade of prostaglandin production increases ...\\nSpectral electroretinography in thioridazine to...\\nSurgery for Ebstein\\'s anomaly: the clinical and...\\nUsefulness of the electrophysiology laboratory ...\\nDifferential protective effects of halothane an...\\nLower eyelid retraction: a minimal incision sur...\\nCoagulation factor abnormalities as possible th...\\nMyocardial magnesium: relation to laboratory an...\\nAcute reduction of mitral valve area after perc...\\nIdiopathic and symptomatic trigeminal pain. The...\\nUnusual aspects of aortovenous fistulas associa...\\nAcute hypervolaemia increases gastroduodenal re...\\nProgress and challenges in psychosocial and beh...\\nLong-term morphology of spastic or flaccid musc...\\nAnorexia in older patients: its meaning and man...\\nCaptopril renography in the diagnosis of renal ...\\nContinuous postoperative regional analgesia by ...\\nAlanine-based oral rehydration therapy for infa...\\nImproving outcomes of analgesic treatment: is e...\\nRole of new antiplatelet agents as adjunctive t...\\nDeterminants and significance of diltiazem plas...\\nRole of prostanoids in renin-dependent and reni...\\nTreatment of advanced neuroblastoma with I-131 ...\\nOral contraception in disease states. Oral cont...\\nRole of dipyridamole-echocardiography test in t...\\nCreutzfeldt-Jakob disease in pituitary growth h...\\nRegional myocardial metabolism of high-energy p...\\nDetection of circulating candida enolase by imm...\\nClonotypic analysis of anti-acetylcholine recep...\\nAn implantable neurocybernetic prosthesis syste...\\nSinus nodal dysfunction in young patients with ...\\nInterpleural analgesia after thoracotomy. We ex...\\nChondrosarcoma of the head and neck. Chondrosar...\\nZollinger-Ellison syndrome. Relation to Helicob...\\ncDNA cloning and sequencing of human fibrillari...\\nFeasibility of intraoperative cytodiagnosis of ...\\nFollicular thyroid cancer treated at the Mayo C...\\nLeft ventricular diastolic dysfunction presenti...\\nDisseminated Pneumocystis carinii infection wit...\\nEffects of discontinuation of phenytoin, carbam...\\nReduction of post-traumatic swelling and compar...\\nCutaneous melanoma and bilateral retinoblastoma...\\nExpression of pancreatic secretory trypsin inhi...\\nSpontaneous sump syndrome: Successful treatment...\\nA population-based study of functional status a...\\nEffect of preconditioning ischemia on reperfusi...\\nSecond cancer after radiation therapy for cance...\\nPhase II trial of piritrexim in metastatic mela...\\nMultiple-pulse stimulation and dantrolene in ma...\\nComparison of a 3- and 6-mm incision in combine...\\nEvidence of a local immune activation in cystic...\\nSpecies-dependent effects of adenosine on heart...\\nCritical review of gangliosides and thyrotropin...\\nIs routine preoperative hemodynamic evaluation ...\\nProspective study of a prosthetic H-graft porta...\\nUnusual lymphoproliferative oropharyngeal lesio...\\nPeripheral arterial occlusive disease: prospect...\\nPreventing postoperative acute bleeding of the ...\\nResidual atrial septal perforation after percut...\\nChildhood traumas: an outline and overview Chil...\\nOutcome of CPR in a large metropolitan area--wh...\\nSyndromes of transient amnesia: towards a class...\\nA comparison in vitro of human and rabbit dista...\\nEarly cerebral infarction: gadopentetate dimegl...\\nStroke rehabilitation: Australian patient profi...\\nNeural respiratory drive and neuromuscular coup...\\nFreehand allograft aortic valve replacement and...\\nA 170-kDa membrane-bound protease is associated...\\nAblation of the atrioventricular junction with ...\\nImmunohistologic properties of benign and malig...\\nA double-blind comparative study of doxazosin a...\\nOperative findings after percutaneous pulmonary...\\nNeuroendocrine design of the gut. The enteric n...\\nAneurysmal dilatation in saphenous vein bypass ...\\nResults of primary angioplasty for acute myocar...\\nOrchiectomy versus oestrogen in the treatment o...\\nPartial cytochrome b deficiency and generalized...\\nQuinine-induced disseminated intravascular coag...\\nThe frequency of uterine leiomyomas. As a leadi...\\nProfiles of opioid analgesia in humans after in...\\nClinical efficacy of flosequinan in heart failu...\\nInsulin-like growth factor binding protein secr...\\nNeurohormonal factors in functional dyspepsia: ...\\nTransforming growth factor beta 1 suppresses ac...\\nPatient evaluation for cardiac transplantation....\\nHirudin interruption of heparin-resistant arter...\\nInhibition of cell mediated cytotoxicity by sul...\\nDetection of bcr-abl fusion in chronic myelogen...\\nMortality in hereditary antithrombin-III defici...\\nDelayed hearing loss after neurovascular decomp...\\nInfluence of high-dose aprotinin treatment on b...\\nLymphomatous polyneuropathy. Biopsy of clinical...\\nAn unusual complication of cardiac transplantat...\\nDiagnostic modalities in abdominal trauma. Peri...\\nPreliminary report: the antegrade continence en...\\nAdoptive immunotherapy of human pancreatic canc...\\nStarch peritonitis. A case report and clinicopa...\\nTranscranial Doppler in reversible migrainous v...\\nStroke in systemic lupus erythematosus [publish...\\nCT and MR imaging in staging non-small cell bro...\\nCrico-tracheal disruption and common carotid ar...\\nSignificance of natural polymerized albumin and...\\nWhole-body lipolysis and triglyceride-fatty aci...\\nCollagen phenotypes during development and regr...\\nSequential or fixed sample trial design? A case...\\nGranulomatous hepatitis and fever of unknown or...\\nAfibrinogenemia and hypobetalipoproteinemia in ...\\nLack of neural control and reactivity to vasoac...\\nAspiration in bilateral stroke patients. Sevent...\\nChoice of emergency operative procedure for ble...\\nCereal-based oral rehydration therapy. II. Stra...\\nMajor depression, panic disorder, and mitral va...\\nPossible transmission of serum hepatitis in liv...\\nVertical partial laryngectomy on demand. The au...\\nHistorical review of pancreaticoduodenectomy. T...\\nDiagnostic relevance of clonal cytogenetic aber...\\nSuperior protective effect of low-calcium, magn...\\nHepatic venoocclusive disease in autologous bon...\\nLow-molecular-weight heparinoid compared with w...\\nTransvascular intracardiac applications of a mi...\\nFundoplication and gastrostomy in familial dysa...\\nGrinspan\\'s syndrome: a drug-induced phenomenon?...\\nCarcinoma of female urethra. Manitoba experienc...\\nAn empirical study of diagnostic criteria for d...\\nThe \"all-autogenous\" tissue policy for infraing...\\nA hematologist\\'s view of contrast media, clotti...\\nThree mixed venous saturation catheters in pati...\\nRhabdomyosarcomas in the head and neck: MR imag...\\nPrevalence of primary sclerosing cholangitis in...\\nEvidence for platelet-activating factor as a la...\\nPrimary adrenal insufficiency: a new cause of r...\\nTurner\\'s syndrome, fibromuscular dysplasia, and...\\nEfficacy and safety of vagus nerve stimulation ...\\nOcclusive arterial disease as a form of present...\\nThe variable extent of jeopardized myocardium i...\\nRehabilitation of physically disabled dentists:...\\nOral magnetic particles in MR imaging of the ab...\\nPharyngeal volume in asymptomatic snorers compa...\\nThe association of carotid artery stenosis with...\\nHost genetic influences on fetal susceptibility...\\nThe heterogeneity of anticentromere antibodies ...\\nClinical perspective on celiprolol: cardioprote...\\nIncreased expression of the laminin receptor in...\\nEpstein-Barr virus associated oesophageal ulcer...\\nQuincke\\'s edema, revisited. Angioneurotic edema...\\nValve replacement in patients with endocarditis...\\nAmplification of oncogenes in mammary carcinoma...\\nA critical review of chemical lymph node cleara...\\nThe intracolonic bypass tube for left colon and...\\nPercutaneous biliary drainage for high obstruct...\\nSelection of patients with acute myocardial inf...\\nCoexpression patterns of vimentin and glial fil...\\nEmergency portosystemic shunt in patients with ...\\nExtradural abscess following local anaesthetic ...\\nLocation of port-wine stains and the likelihood...\\nPancreatic cancer versus chronic pancreatitis: ...\\nSquamous carcinoma of the posterior pharyngeal ...\\nCognitive function testing in comprehensive ger...\\nInteraction of chloramphenicol and metabolites ...\\nPapillary endothelial hyperplasia in the thyroi...\\nFollow-up results of balloon angioplasty of nat...\\nEffective intraperitoneal antiprotease therapy ...\\nDevelopment of multiple necrotizing enteritis i...\\nAcetazolamide in the treatment of abnormal ocul...\\nPost-traumatic basal ganglia hemorrhage: analys...\\nPuppet-like syndrome of Angelman: a pathologic ...\\nMultifocal gastric carcinoma arising from hyper...\\nTreatment of cervical spondylotic myelopathy by...\\nAbnormal vitamin B6 status in childhood leukemi...\\nA study of the effects of delapril, a new angio...\\nChronic oral etoposide. Etoposide is an importa...\\nCoeliac disease and malignancy of the duodenum:...\\nTraumatic subarachnoid-pleural fistula in a chi...\\nIn situ hybridization of prostate-specific anti...\\nExperience with the Sarns centrifugal pump as a...\\nPancreaticobiliary ductal union. The main pancr...\\nPrimary rhabdomyosarcoma of the ileum in an adu...\\nThe role of a critical care unit in an epidemic...\\nComparison of intravenous amrinone and dobutami...\\nCerebellar degeneration and Meige\\'s syndrome. W...\\nRole of calcium and the calcium channel in the ...\\nVaricella with delayed hemiplegia. We report 4 ...\\nCorrelation of the testicular determinant facto...\\nNoninvasive determination of pulmonary artery w...\\nTreatment of phenobarbital poisoning with multi...\\nTen cases of transitional cell carcinoma of bla...\\nHigh risk of recurrent stroke after discontinua...\\nVascular and calcemic effects of plasma of spon...\\nThe blink reflex in cluster headache. To invest...\\nA prospective study of magnetic resonance imagi...\\nSplenic septic emboli in endocarditis. The sign...\\nEfficacy of ephedrine in the prevention of post...\\nPrognostic significance of conjugate eye deviat...\\nLoop ileostomy after ileal pouch-anal anastomos...\\nEssential fatty acid deficiency ameliorates acu...\\nIncidence and survival rates of children and yo...\\nFludarabine: a new agent with marked cytoreduct...\\nRectal strictures: treatment with fluoroscopica...\\nSingle versus double indicator dilution measure...\\nEvaluation of endosonography in TN staging of o...\\nPlasma antiepileptic drug concentrations during...\\nImaging of a parapharyngeal hemangiopericytoma....\\nHereditary cerebral haemorrhage with amyloidosi...\\nClinical differentiation of fulminant Wilsonian...\\nSmall-volume resuscitation from hemorrhagic sho...\\nBeta-adrenergic receptors in lymphocyte subsets...\\nStiff-man syndrome: a GABAergic autoimmune diso...\\nDiltiazem therapy for symptoms associated with ...\\nAge-related spontaneous intracerebral hematoma ...\\nEdrophonium provocative test in noncardiac ches...\\nTraumatic aneurysm of the superior cerebellar a...\\nExpectant management of localized prostatic can...\\nPrognostic factors for survival of patients wit...\\nTransoesophageal pacing for perioperative contr...\\nMuscle blood flow and muscle metabolism during ...\\nA model of pneumococcal pneumonia in chronicall...\\nGlucose tolerance and blood pressure: long term...\\nRadical prostatectomy after definitive radiatio...\\nEstimation of myocardial ischemic injury during...\\nT cell subsets (Tc, Th, Ts, Tsi) and IL2 recept...\\nPleuropulmonary manifestations of hepatic amebi...\\nSuggestive evidence that pelvic endometriosis i...\\nCytogenetic analysis of 434 consecutively ascer...\\nPerforated duodenal ulcer: an unusual complicat...\\nRisk for colon adenomas in patients with rectos...\\nThe electrocardiographic manifestations of cycl...\\nFollow-up of patients with low output, low grad...\\nTick-borne borreliosis in west Africa. Reported...\\nRejection of multivisceral allografts in rats: ...\\nUrinary tract dilatation in constipated childre...\\nDiagnosis, classification, and course of myelod...\\nEffect of extracorporeal membrane oxygenation o...\\nA complex ileovaginal fistula with associated o...\\nThe diagnosis of ovarian cancer by pathologists...\\nUltrastructural evidence of a merocrine secreti...\\nIntravitreal suture: a complication of pterygiu...\\nBretylium tosylate versus lidocaine in experime...\\nWrist flexion as an adjunct to the diagnosis of...\\nApneic oxygenation in apnea tests for brain dea...\\nResponse of spinal cord blood flow and motor an...\\nExtensive aneurysmal bone cyst of the mandible:...\\nNatural death as viewed by the medical examiner...\\nThe prevalence of Helicobacter pylori in nonulc...\\nEvaluation of treatment protocols on minimal to...\\nAn inner city cancer prevention clinic. Design,...\\nDiaphragmatic fatigue produced by constant or m...\\nPredicting recurrence time of esophageal carcin...\\nThe use of ultrasound in evaluating neurologic ...\\nControl of total peripheral resistance during h...\\nDisturbance in daily sleep/wake patterns in pat...\\nPercent tumor necrosis as a predictor of treatm...\\nSurgical management of nonparasitic cystic live...\\nPatient compliance--a factor in facial trauma r...\\nEffect of delayed captopril therapy on left ven...\\nAcute and long-term changes in serum lipids aft...\\nSelective impairment of memory and visual perce...\\nHow ancient is temporal arteritis? Realism is o...\\nChoice of emergency operative procedure for ble...\\nRole for specific complement phenotypes and def...\\nPreventing colorectal cancer. Knowledgeable pat...\\nSimple technique for long term central venous a...\\nTraining increases muscle blood flow in rats wi...\\nOral squamous cell carcinoma arising in a patie...\\nInjuries of the external ear. Ear injuries occu...\\nObservation of cerebrospinal fluid flow with ec...\\nThe role of gastric resection in the management...\\nAutoradiographic evaluation of monoclonal antib...\\nHemodynamic effects of H2-receptor antagonists....\\nEffects of xamoterol on inotropic and lusitropi...\\nGeographic variation of inflammatory bowel dise...\\nPsychological characteristics of children with ...\\nPlasma cell granuloma of the nasal cavity treat...\\nDose dependency of time of onset of radiation-i...\\nAbsorption of carbon 13-labeled rice in milk by...\\nIncidence, causes and mechanism of hypercalcaem...\\nNoninvasive detection of patients with ischemic...\\nLoss of endothelium-dependent relaxant activity...\\nPlasma glucagon concentration in cirrhosis is r...\\nEffects of long-term treatment with metoprolol ...\\nImmunoprofile of mucoepidermoid carcinomas of m...\\nMagnetic resonance imaging for assessment of ve...\\nMuscle rehabilitation in impaired elderly nursi...\\nTwo urokinase dose regimens in native arterial ...\\nThe influence of sclerotherapy on gastric mucos...\\nErythropoietin receptors induced by dimethyl su...\\nRelationship of ischemic heart disease to sudde...\\nEvents following implantation of an intralumina...\\nA new ophthalmic electronic videoendoscope syst...\\nTreatment of advanced-stage massive mediastinal...\\nEffect of ischemia induced by middle cerebral a...\\nCandidacidal activity of Crohn\\'s disease neutro...\\nRadical intracapsular removal of acoustic neuri...\\nGender differences in Manning criteria in the i...\\nPostoperative bile duct strictures. Bile duct s...\\nDemonstration of the genuine iso-12p character ...\\nLocalization of stereotactic targets by microre...\\nData compression: effect on diagnostic accuracy...\\nA nongastrin malignant ampullary tumor causing ...\\nStructural and ultrastructural study of the ova...\\nFocal nodular hyperplasia of the liver. Twenty-...\\nClinical management issues in males with sex ch...\\nThe lack of full correlation between the Injury...\\nComprehensive management of acute necrotizing p...\\nMechanism of early ischemic contractile failure...\\nEffects of hypothyroidism on bronchial reactivi...\\nMarker profile of different phases in the trans...\\nSerum acute phase proteins after orthotopic liv...\\nSubarachnoid hemorrhage caused by a fungal aneu...\\nEvidence of hibernating myocardium by a new tra...\\nCalculated risk of chromosomal abnormalities in...\\nDNA sequence analysis of three inhibitor-positi...\\nInternal capsule plaque and tonic spasms in mul...\\nTiming of corticosteroid treatment. Effect of l...\\nHospitalization and the cognitive deficits of s...\\nProstacyclin but not phentolamine increases oxy...\\nAutograft versus allograft for benign lesions i...\\nA paradigm for restenosis based on cell biology...\\nComparison of ventricular arrhythmia induction ...\\nAcquired retinal arteriovenous communications i...\\nDifferential light scattering cuvettes for the ...\\nResults of radiation therapy in carcinoma of th...\\nEmbolism of cerebral tissue: a cause of coagulo...\\nAsymptomatic periapical radiolucent lesion foun...\\nSudden death due to right ventricular cardiomyo...\\nOmeprazole enhances the efficacy of pancreatin ...\\nIs local recurrence of minor importance for met...\\nControl of immediate postoperative pain with to...\\nVisceral perception in health and functional dy...\\nIncreasing the yield of ventricular tachycardia...\\nPredictive value of congenital hypertrophy of t...\\nMitral valve replacement in the first year of l...\\nPapillary carcinoma of the thyroid with mucoepi...\\nCytomegalovirus colitis in AIDS: presentation i...\\nKi-B5: a monoclonal antibody unrelated to CD45 ...\\nHepatocellular carcinoma within siderotic regen...\\nWork and power in gait of stroke patients. Biom...\\nTransbronchial biopsies in children after heart...\\nThe effects of tumor necrosis factor on intesti...\\nSpontaneous pneumothorax: marker gas technique ...\\nCharacterization of descending inhibition and f...\\nIn vitro model of intestinal crypt abscess. A n...\\nThe management of retinal detachments associate...\\nSwimmer\\'s migraine. Three cases of sudden, seve...\\nRenal secretion and hepatic clearance of human ...\\nRisk factors for white matter changes detected ...\\nTwo-way factorial study of alcohol and salt res...\\nSegmental wall motion abnormalities in the abse...\\nAcute respiratory tract infections among a birt...\\nAcute and chronic bacterial prostatitis: a revi...\\nPlasma epinephrine levels in resuscitation with...\\nEpithelial abnormalities in intestine and kidne...\\nCancer mortality in a higher-income black popul...\\nAnchorage-independent growth and the expression...\\nA 27-year experience with splenectomy for Gauch...\\nHigh mortality among patients with the leukemoi...\\nCervical rotation flaps for midface resurfacing...\\nPreanaesthetic medication with clonidine. The p...\\nThe accuracy of CT scanning in the diagnosis of...\\nAbnormal growth patterns and adult short statur...\\nEffect of epidermal growth factor in combinatio...\\nPolyarteritis nodosa presenting as a biliary st...\\nRenovascular disease and renal complications of...\\nRandomized trials in the study of antihypertens...\\nSynergistic effects of nerve growth factor and ...\\nStudies of myocardial protection in the immatur...\\nAcute urinary retention secondary to Herpes sim...\\nEndoscopic nasobiliary catheter drainage in bil...\\nA rapid, effective technique for retrograde cro...\\nRecurrent laryngeal nerve avulsion for treatmen...\\nIntraluminal pressure adjacent to left colonic ...\\nBacterial meningitis: an update. Antibiotics an...\\nImmunophenotypic characteristics of cerebrospin...\\nPhospholipids from rat, human, and canine gastr...\\nImportance of sampling method in DNA analysis o...\\nClinical review 16: Parathyroid hormone-related...\\nSpecificity of affective and autonomic symptoms...\\nIrritable bowel syndrome in women having diagno...\\nPulmonary hypertension five years after left pn...\\nCerebral falciparum malaria mimicking thromboti...\\nEndoscopic laser surgery. A single-center compr...\\nIslet cell carcinoma of the pancreas presenting...\\nYoung-onset Parkinson\\'s disease: a clinical rev...\\nTransoesophageal echocardiography improves the ...\\nUnusual complication of an ingested foreign bod...\\nSmoking cessation in chronic Reinke\\'s oedema. I...\\nInfantile acute hemorrhagic edema of the skin: ...\\nInsulin-like growth factor-I receptors in human...\\nIsolated lung transplantation for pulmonary fib...\\nNephron function in the early phase of ischemic...\\nDeterminants of the ventricular rate during atr...\\nLeft ventricular diastolic function in patients...\\nPrognostic value of immunocytologic detection o...\\nLeft ventricular dilatation and pulmonary thall...\\nInterstitial chemotherapy with drug polymer imp...\\nMechanism of glucoregulatory responses to stres...\\nIntraoperative ultrasonography and the detectio...\\nAdult and pediatric peritonitis rates in a home...\\nThe management of primary pulmonary hypertensio...\\nPhysiologic peripheral pulmonic stenosis in inf...\\nInflammatory bowel disease and tobacco smoke--a...\\nThe relationship of prostate specific antigen l...\\nMast cell/nerve interactions in vitro and in vi...\\nThyroid and parathyroid cancer. The epidemiolog...\\nDifferential effects of sodium butyrate and hex...\\nMyocardial uptake of indium-111-labeled antimyo...\\nA 3-bp deletion in the rhodopsin gene in a fami...\\nA simple score for the identification of patien...\\nHydatid cyst of the interatrial and interventri...\\nVentricular arrhythmias in hypertensive left ve...\\nMorphological changes and smooth muscle cell pr...\\nEndothelium-derived relaxing factors. A perspec...\\nMortality and causes of death in Crohn\\'s diseas...\\nCartilage removal prior to skin grafting in the...\\nIntra-arterial urokinase as the initial therapy...\\nThe relevance of anatomic and hemodynamic facto...\\nAntenatal spontaneous perforation of the extrah...\\nTruncal vagotomy and pyloroplasty combined with...\\nThe efficacy of suction drains after routine to...\\nLoss of heterozygosity on chromosomes 17 and 18...\\nACTH therapy in infantile spasms: relationship ...\\nTopographic comparative study of magnetic reson...\\nPearson syndrome and mitochondrial encephalomyo...\\nAdenocarcinoma of the prostate in a 41-year-old...\\nProstatic duct adenocarcinoma. Findings at radi...\\nProfound digital collagen atrophy: a new cutane...\\nThe abdominal trauma index--a critical reassess...\\nEfficacy and safety of intravenous nicardipine ...\\nAlkaline reflux gastritis. Alkaline reflux gast...\\nUbiquitin hybrid protein gene expression during...\\nDNA analysis of multiple synchronous renal cell...\\nDeletions in patients with classical choroidere...\\nInflammatory atypia on cervical smears. A diagn...\\nArtificial urinary sphincter insertion in conge...\\nBalloon valvuloplasty for critical aortic steno...\\nCentral nervous system magnesium deficiency. Th...\\nEffect of aerosolized fibrin solution on intrap...\\nHepatocellular carcinoma with tumor thrombus ex...\\nProspective study of a prosthetic H-graft porta...\\nPassive immunoprophylaxis after liver transplan...\\nCervical screening with cervicography and the P...\\nSurgical procedures in the management of Takaya...\\nChronic care needs to be a higher priority. Alt...\\nContiguous enlarged dental follicles with histo...\\nAnterior decompression and stabilization of tho...\\nA randomized trial of cisplatin, vinblastine, a...\\nCharacteristics of an elderly driving populatio...\\nHepatic injury induced by bile salts: correlati...\\nTransient myocardial ischaemia after acute myoc...\\nGastric infarction. We have described a patient...\\nReduction of mortality, sudden death and non-fa...\\nComparison of myocardial imaging with iodine-12...\\nPlastic bullet arterial embolization following ...\\nLaryngeal oedema from a neck haematoma. A compl...\\nLaryngomalacia in children. Two hundred three (...\\nDiagnostic evaluation of syncope Syncope is a c...\\nShort-term memory and sentence comprehension. A...\\nIncidence and properties of renal masses and as...\\nAn evaluation of sensory changes and pain relie...\\nRole of leukotriene C4 in mucosal damage caused...\\nProsthetic above-knee femoropopliteal bypass fo...\\nIntravenous immunoglobulin treatment in patient...\\nSurgical management of pheochromocytoma with th...\\nLateral medullary infarction: prognosis in an u...\\nPosttachycardia T-wave changes. A 25-year-old p...\\nNonorganizational religious participation among...\\nTightening the screw: statutory and legal super...\\nDoes percutaneous transluminal coronary angiopl...\\nNarrow excision (1-cm margin). A safe procedure...\\nReproductive experience after complete and part...\\nIsolation of a complementary DNA clone encoding...\\nScreening for total cholesterol. Do the Nationa...\\nTraumatic hyphaema: a retrospective study of 31...\\nFlow cytometric detection of tumor metastases d...\\nClinical and pathological features of bacillary...\\nGiant sclerosing leiomyoma of bladder presentin...\\nPostoperative ectopic craniopharyngioma. Case r...\\nSevere thrombocytopenia after paracetamol overd...\\nPush-enteroscopy for diagnosis of patients with...\\nProcainamide-induced respiratory insufficiency ...\\nLymphokine-activated killer (LAK) cells. V. 8-M...\\nSurgical removal of subfoveal neovascularizatio...\\nBacteriology of the ethmoid bullae in children ...\\nPregnancy complicated by preeclampsia-eclampsia...\\nSuggested standards for reporting on arterial a...\\nSalmeterol in nocturnal asthma: a double blind,...\\nEffect of delayed captopril therapy on left ven...\\nIntramedullary spinal cord germinoma: case repo...\\nLong-term clinical results with the Ionescu-Shi...\\nIschaemic heart disease among men in Norway dur...\\nVideodensitometry versus digital calipers for q...\\nPercutaneous support devices for high risk or c...\\nPostinfarction ventricular septal defect repair...\\nCardiovascular disease risk profiles. This arti...\\nEffects of hepatitis B virus, alcohol drinking,...\\nLeishmania (Viannia) braziliensis: comparative ...\\nVisually evoked potentials and electroretinogra...\\nAlexia without agraphia associated with splenio...\\nMyasthenia gravis. Myasthenia Gravis is a disor...\\nCorrection of truncus arteriosus with truncal v...\\nThe rat glucagon gene is regulated by a protein...\\nReduction in incidence of inducible ventricular...\\nPost-traumatic intracerebral pneumatocele: case...\\nImaging the fetal brain in the second and third...\\nSyndromes of transient amnesia: towards a class...\\nWhen is a prognostic factor useful? A guide for...\\nUsefulness of d, I sotalol for suppression of c...\\nEndovascular management of arterial intimal def...\\nIntravenous immunoglobulin treatment in patient...\\nPrecertification for percutaneous transluminal ...\\nGlucose disposal, beta-cell secretion, and hepa...\\nA follow-up study of intractable seizures in ch...\\nThoracoscopic treatment of spontaneous pneumoth...\\nSurgical treatment of active native valve endoc...\\nDecreased local toxicity with subcutaneous diam...\\nEffect of antiplatelet and anticoagulant therap...\\nVasopressin and oxytocin responses to illusory ...\\nThe recalcitrant perineal wound after rectal ex...\\nOsteotomy for osteoarthritis of the hip. A surv...\\nIn vitro and in vivo evaluation of intraluminal...\\nEarly outcome after placement of a metallic int...\\nSmall nodular lesions in the lung periphery: ne...\\nDisturbed gastroduodenal motility in patients w...\\nClinical relevance of immunohistochemical detec...\\nThe no-scalpel vasectomy. A refined method of d...\\nTranscardiac release of leukotriene C4 by neutr...\\nComparative study of the effects of three angio...\\nState III squamous cell carcinoma of the vulva....\\nMeningeal involvement in Bence Jones multiple m...\\nCO2 laser for suppurative hidradenitis of the v...\\nDeep femoral lymphadenectomy with preservation ...\\nAnomalous macular vessels: case report and revi...\\nInduced abortions, contraceptive practices, and...\\nAneurysmal dilatation in saphenous vein bypass ...\\nAcute naming deficits following dominant tempor...\\nSurgical outcome in 435 patients who sustained ...\\nFine-needle aspiration cytology and flow cytome...\\nTumor angiogenesis and metastasis--correlation ...\\nHemodynamic consequences of carotid-carotid byp...\\nGallstone pancreatitis. Choosing and timing tre...\\nPleuropulmonary manifestations of hepatic amebi...\\nDissection of the cardinal ligament in radical ...\\nDiagnostic echocardiographic features of the si...\\nCardiopulmonary perfusion and cerebral blood fl...\\nComparison of omeprazole and cimetidine in refl...\\nFrequency and significance of occult late poten...\\nHospital admissions from the Surgical Day Care ...\\nBeneficial effects of x-irradiation on recovery...\\nTesticular sex cord stromal tumour with granulo...\\nInterphase cytogenetic analysis in the diagnosi...\\nInternal fixation of femoral neck fractures. Tw...\\nAn analysis of outcome following percutaneous t...\\nEndometriosis associated with massive ascites a...\\nInfluence of the menstrual cycle on systemic di...\\nLate deaths after treatment for childhood cance...\\nCongenital cyst of common bile duct: an unusual...\\nRapid expression of heat shock protein in the r...\\nRelief of tracheal compression by aortopexy. We...\\nInitial CT findings in 753 patients with severe...\\nSurvey of histologic specimens of human cancer ...\\nIs caffeine withdrawal the mechanism of postope...\\nTherapy of renal cell carcinoma with interleuki...\\nIntraepithelial anchoring fibril components. Cu...\\nPulmonary acinar development in diaphragmatic h...\\nAcute autonomic neuropathy. Two cases and a cli...\\nModerate hypothermia after cardiac arrest of 17...\\nLarge arteries involvement in scleroderma--a ca...\\nSodium-calcium interactions and salt-sensitive ...\\nEffect of stress on diagnosis of hypertension. ...\\nBlue breath holding is benign. In their recent ...\\nT-cell lymphoma and mature nephroblastoma after...\\nSudden infant death syndrome and small airway o...\\nOtolaryngologic management of patients with sub...\\nEsophageal adenocarcinoma in a patient with sur...\\nSerological arguments for classifying Raynaud\\'s...\\nManagement of chronic middle ear effusion with ...\\nArterial oxygen saturation during induction of ...\\nRadiation-induced optic neuropathy: a magnetic ...\\nFunctional evaluation of quadriplegic patients ...\\nCircadian rhythms in blood pressure in school-a...\\nDifferent forms of chronic childhood thrombocyt...\\nBeta-carotene\\'s effects on serum lipoproteins a...\\nEvolving natural history of coronary artery dis...\\nIliac versus cranial bone for secondary graftin...\\nReviewing the unicystic ameloblastoma: report o...\\nChronic calcium channel blockade prevents the p...\\nA clinicopathological study of the paraneoplast...\\nThe Merkel cell and associated neoplasms in the...\\nChronic musculoskeletal pain and depressive sym...\\nAllograft reconstructions of the shoulder after...\\nOxygen desaturation during fiberoptic bronchosc...\\nDuration of the QT interval and total and cardi...\\nNon-specific reactions in enzyme linked immunos...\\nProsthetic above-knee femoropopliteal bypass fo...\\nSudden death in hypertrophic cardiomyopathy wit...\\nGallstone pancreatitis. Gallstone pancreatitis ...\\nShould family doctors screen asymptomatic child...\\nDeep femoral to anterior tibial bypass after fa...\\nImpaired left ventricular filling and regional ...\\nThrombosis in a congenitally bifurcated superio...\\nResympathectomy of the upper extremity. Resympa...\\nAntihypertensive effect and pharmacokinetics of...\\nCellular immune response to hepatitis B virus-e...\\nEndogenous opioids modulate the increase in ven...\\nEpirubicin cardiotoxicity: a study of 135 patie...\\nPituitary hemorrhage into a Rathke\\'s cleft cyst...\\nBreast cancer screening: who should be included...\\nHeparin skin necrosis: delayed occurrence in a ...\\nAnalysis of 24-hour esophageal pressure and pH ...\\nThe effect of chemotherapy on growth in the ske...\\nRecurrent Bell\\'s palsy in pregnancy. A case of ...\\nProstate cancer: local staging with endorectal ...\\nMagnetic resonance in pediatric and adolescent ...\\nRepair of pelvic fracture posterior urethral de...\\nAspirin reduces the growth of medial and neoint...\\nEnteroliths causing intermittent obstruction in...\\nLimitation of retinal injury by vitreoperfusion...\\nAn overview of intimal hyperplasia. Many hypoth...\\nLaparoscopic tubal sterilization. The potential...\\nClinical differentiation of fulminant Wilsonian...\\nUltrasonographic diagnosis of a large placental...\\nIchthyosis, exocrine pancreatic insufficiency, ...\\nImpact of orifice geometry on the shape of jets...\\nA long terminal repeat-containing retrotranspos...\\nAge at onset of Alzheimer\\'s disease. Relation t...\\nValue and limitations of proximal jet dimension...\\nBiphasic modulation of acetaminophen bioactivat...\\nProspective observations of 100 high-risk neona...\\nThe cellular biology of bone tumors. New knowle...\\nAn effective and adaptable transvenous defibril...\\nThe evolving pattern of digoxin intoxication: o...\\nHuman papillomavirus type 16 associated with or...\\nNeonatal intracranial teratomas. Two neonates w...\\nSpinal epidural abscess: an unusual complicatio...\\nErythrocyte polyamine levels in human prostatic...\\nComparison of symptom characteristics of indwel...\\nCardiogenic hepatorenal syndrome. A variant of ...\\nSudden blindness after thermocoagulation of the...\\nPlasma prolactin and clinical outcome in preter...\\nEsophageal verrucous carcinoma: histologically ...\\nFamilial ovarian cancer in Israeli Jewish women...\\nThe Baltimore experience with laparoscopic mana...\\nCardiac arrhythmias from a malpositioned Greenf...\\nThe use of internalised ureteric stents in rena...\\nThe concept of migraine as a state of central n...\\nEnhanced expression of c-myc and H-ras oncogene...\\nSmall bowel enteroscopy: an early experience in...\\nEffect of chemodenervation on the cerebral vasc...\\nExpanding contractures of the tunica albuginea ...\\nUnusual skin tumors in Langerhans\\' cell histioc...\\nEffects of energy restriction on mouse mammary ...\\nMulticenter registry of angioplasty therapy of ...\\nNursing home patients transferred by ambulance ...\\nGross and microscopic changes in the viscera in...\\nNoninvasive detection of patients with ischemic...\\nExtracellular matrix gene expression increases ...\\nMarkers of chronic alcohol ingestion in patient...\\nSurface and cytoplasmic expression of CD45 anti...\\nIntravascular stents. General principles and st...\\nHypertrophic smooth muscle in the partially obs...\\nTen years\\' experience with continuous ambulator...\\nElectroencephalographic changes during brief ca...\\nEarly detection of gastric cancer OBJECTIVE--To...\\nCongenital hepatic fibrosis in autosomal-domina...\\nLovastatin. Warfarin interaction. Two patients ...\\nContinuous electrocardiographic monitoring in h...\\nPanic disorder in seizure patients: a diagnosti...\\nT cell recognition of transforming proteins enc...\\nDetection of patients at risk for paroxysmal at...\\nClonal origin of pituitary adenomas. As the pat...\\nRecovery from disturbed colonic transit time af...\\nPenetration of lanthanum through the main pancr...\\nPrimary leiomyoma of the liver. A 30-yr-old wom...\\nMultiple cranial nerve deficits after ethylene ...\\nSubarachnoid hemorrhage of unknown etiology: ea...\\nInteraction of sodium sensitivity and stress in...\\nAcute eosinophilic pulmonary disease associated...\\nAirway inflammation during late asthmatic react...\\nDisturbances in the cerebral perfusion of human...\\nPlasma histamine in patients with chronic renal...\\nThe fetus as a patient. Surgical considerations...\\nIntracatheter streptokinase for recurrent perit...\\nBarrett\\'s esophagus in children and young adult...\\nNosocomial outbreak of cryptosporidiosis in AID...\\nPulmonary-renal syndrome with \"triad\" involveme...\\nHigh-fat semielemental diet in the treatment of...\\nEarly diagnosis and survival of ruptured abdomi...\\nNB4, a maturation inducible cell line with t(15...\\nPsychophysiological stress testing in postinfar...\\nEfficacy of celiprolol in the elderly hypertens...\\nDistinguishable types of dyspnea in patients wi...\\nCyclosporine-induced thrombotic microangiopathy...\\nImmunocytochemical profile of benign and carcin...\\nSmall non-cleaved-cell lymphoma (undifferentiat...\\nProstate specific antigen in hormonally treated...\\nSerial neurobehavioral assessments in preterm i...\\nStudies of the route, magnitude, and time cours...\\nEarly magnetic resonance imaging in acute traum...\\nMucocele of the cystic duct remnant in eight li...\\nHepatic oxygen and lactate extraction during st...\\nArrhythmias in patients with CHF. Should they b...\\nSeptic pulmonary emboli. A rare cause of bilate...\\nEvidence for hypomotility in non-ulcer dyspepsi...\\nInterleukin-2 immunotherapy in children. Immuno...\\nDiagnosis of Budd-Chiari syndrome by pulsed Dop...\\nCytosolic free calcium during focal cerebral is...\\nTreatment of traumatic rupture of the thoracic ...\\nIncidence of gallstones in a Danish population....\\nThe distribution of cerebral muscarinic acetylc...\\n99mTc-anti-CEA radioimmunoscintigraphy of lung ...\\nPneumococcal anticapsular antibodies in patient...\\nInfiltration of epinephrine in tonsillectomy: a...\\nDeterminants of carotid intima-media thickness:...\\nTherapeutic dilemmas associated with antenatall...\\nDisposition of 5-aminosalicylic acid by olsalaz...\\nRecurrence of Crohn\\'s disease after resection. ...\\nCholecystokinin enhanced hepatobiliary scanning...\\nBrain and liver dolichol in chronic alcoholism:...\\nPathophysiology of ischemic skin flaps: differe...\\nEffect of the somatostatin analogue octreotide ...\\nCervical lymph node metastasis: assessment of r...\\nQuantitative relationships between left ventric...\\nCD11c (LEU-M5) expression characterizes a B-cel...\\nSpontaneous decompression of syringomyelia: mag...\\nAntiepileptic drugs, cognitive function, and be...\\nFreezing lesions of the developing rat brain: a...\\nCorrelation of the structure of the transmembra...\\nDiurnal fluctuations of arterial ketone body ra...\\nIntralesional interferon therapy for basal cell...\\nAnaesthetic hazards of aortocaval fistula. A 66...\\nAlcohol consumption in patients with colorectal...\\nComparison of a hybrid with an uncemented total...\\nImpact of the availability of a prior electroca...\\nEEG correlation of improvement in hemolytic-ure...\\nSystems analysis of cerebrovascular pressure tr...\\nPulmonary resection combined with cardiac opera...\\nSegmented turboFLASH: method for breath-hold MR...\\nThe value of squamous cell carcinoma antigen in...\\nCavernous hemangioma of the spinal cord: report...\\nCapillary refilling (skin turgor) in the assess...\\nEhrlichiosis in children. Tick-borne rickettsia...\\nCentral nervous system tuberculosis in children...\\nEffects of vigabatrin (gamma-vinyl GABA) on neu...\\nThe management of postoperative chylous ascites...\\nThrombolysis in acute myocardial infarction. Th...\\nTraumatic hyphaema: a retrospective study of 31...\\nFibrous skeleton and ventricular outflow tracts...\\nDefinitive localization of X-linked Kallman syn...\\nNonhomologous chromatid exchange in hereditary ...\\nIndependence of pressure reactivity from pressu...\\nPredictors of quitting smoking: the NHANES I fo...\\nGallbladder carcinoma producing human chorionic...\\nThe hands in alcoholic liver disease. Chronic l...\\nExpression of class I and II human leukocyte an...\\nLymphocytic adenohypophysitis presenting as inf...\\nSquamous cell carcinoma arising in a sternotomy...\\nSurgical prophylaxis of malignant melanoma. A r...\\nIn vitro characterization of a biologically act...\\nAntinociception and cardiovascular responses pr...\\nA new phantom for mammography. A new mammograph...\\nAlcoholic blackouts: legal implications. Alcoho...\\nAdvantages of a narrow-range, medium molecular ...\\nAn epithelial cyst in the cerebellopontine angl...\\nOsteosarcoma. Clinical features and evolving su...\\nMassive splenomegaly. Superior results with a c...\\nNuclear morphometry as a prognostic indicator f...\\nLarge telangiectatic focal nodular hyperplasia ...\\nContinent ileocolonic urinary reservoirs for fi...\\nThe usefulness of simultaneous determinations o...\\nDouble-blind comparison of doxazosin and enalap...\\nAggravation of myasthenia gravis by erythromyci...\\nNeedle-localized mammographic lesions. Results ...\\nMore than one mutant allele causes infantile Ta...\\nIslet cell carcinoma of the pancreas presenting...\\nCaptopril-induced cholestatic jaundice. I have ...\\nDNA image cytometry. A prognostic tool in squam...\\nIntegrated magnetic resonance imaging and phosp...\\nMesenteric blood flow in patients with diabetic...\\nPrimary lymphoma of the central nervous system ...\\nExtrahepatic biliary obstruction by lymphoma. E...\\nEffects of repeated temporary clipping of the m...\\nStroke and its modification in Parkinson\\'s dise...\\nEffect of aerosolized fibrin solution on intrap...\\nEmbryologic fusion planes and the spread of cut...\\nImportance of a neurologic evaluation in women ...\\nPresentation and management of an acute caffein...\\nAlfentanil pharmacokinetics in patients undergo...\\nSevere cerebral and systemic necrotizing vascul...\\nManagement of local and regional recurrence aft...\\nCluster of fulminant hepatitis B in crack users...\\nInitial clinical evaluation of carotid artery l...\\nCarpal tunnel syndrome: correlations between pr...\\nInduction of pS2 and hSP genes as markers of mu...\\nOrbitozygomatic temporopolar approach for a hig...\\nEffects of topical glaucoma drugs on fistulized...\\nIntermittent claudication, heart disease risk f...\\nEffects of altering the eicosanoid precursor po...\\nInterferon-alpha produces sustained cytogenetic...\\nHormonal receptors in locally advanced breast c...\\nComparison of frequency of late potentials in i...\\nOvarian neoplasms and the risk of adnexal torsi...\\nCoronary collateral circulation in coronary art...\\nLong-term minoxidil treatment in refractory hyp...\\nThe deoxyribonucleic acid regions involved in t...\\nGadolinium-MRI in acute transverse myelopathy. ...\\nGenetics of common diseases of adulthood. Impli...\\nCapillary hemangioma of the maxilla. A report o...\\nMitral valve disruption following percutaneous ...\\nCause of death in an emergency department A ret...\\nEpidemiology of primary osteogenic sarcoma in t...\\nReproduction of transfusion-related acute lung ...\\nPostoperative analgesic requirements in patient...\\nUndetected fatal acute pancreatitis: why is the...\\nMigraine and vertebrobasilar ischemia. I studie...\\n24-hour intragastric acidity and plasma gastrin...\\nCultured human atherosclerotic plaque smooth mu...\\nSerum ferritin and stomach cancer risk among a ...\\nCombined surgical resection and iridium 192 imp...\\nA cohort study of fat intake and risk of breast...\\nClinical characteristics and treatment outcome ...\\nElevation of skeletal muscle isoform of serum c...\\nCrack-related perforated gastropyloric ulcer. C...\\nHuman papillomavirus screening for women with a...\\nEctopic retinoblastoma within the 3rd ventricle...\\nHyposensitivity to vasopressin in patients with...\\nPrimary leptomeningeal lymphoma: report of 9 ca...\\nChanges in circulating norepinephrine with hemo...\\nTreatment of aggressive keratoacanthomas by rad...\\nEffect of naproxen and sulindac on blood pressu...\\nReduction of postoperative morbidity following ...\\nBoron neutron capture therapy of intracerebral ...\\nPercutaneous transluminal angioplasty of crural...\\nFine needle aspiration of pancreatic fluid coll...\\nUreterosigmoidostomy: long-term results, risk o...\\nLower extremity revascularization via the later...\\nThe diagnostic impact of prehospital 12-lead el...\\nEffects of diltiazem on complications and reste...\\nAnticonvulsant and behavioral effects of two no...\\nSynthesis of type I collagen in healing wounds ...\\nBiliary cholesterol transport and precipitation...\\nCurrent concepts of cholesterol transport and c...\\nIntrapericardial pheochromocytoma. In a 34-year...\\nPheochromocytoma presenting as rhabdomyolysis a...\\nFamily cancer syndrome: a study of the kindred ...\\nArterial revascularization by laser angioplasty...\\nWould you recognize celiac axis syndrome? Since...\\nIschemic colitis. An ever-changing spectrum? Is...\\nFourth branchial pouch anomaly. We present an e...\\nMeningeal carcinomatosis in breast cancer. Prog...\\nLate streptokinase infusion and antithrombotic ...\\nDetailed examination of complete bioprosthetic ...\\nHow long can a coronary reperfusion catheter be...\\nCutaneous manifestations of postthymic T cell m...\\nSalpingoscopy in patients with contralateral ec...\\n11 beta-hydroxyandrostenedione: a marker of adr...\\nClinical evaluation of delapril in Japan. Repor...\\nLegislative influences on cancer care. Deficit ...\\nBacteriologic findings with ectopic pregnancy. ...\\nCholecystokinin stimulates growth of human panc...\\nComparison of DNA and karyotype aneuploidy in m...\\nGlossopharyngeal neuralgia associated with card...\\nInteractions between substance P, calcitonin ge...\\nSquamous cell carcinoma-antigen for detection o...\\nCytogenetic damage induced by folate deficiency...\\nMyeloma of the head of the pancreas. A case rep...\\nAnoxic injury of mammalian central white matter...\\nEmerging techniques in the diagnosis of sinusit...\\nCorrelations of acoustic tissue typing of malig...\\nEnvironmental risk factors in siblings with Par...\\nInjury biomechanics of the human cervical colum...\\nKawasaki-like syndrome after treatment with mes...\\nEpithelial dysfunction in nonbacterial cystitis...\\nIatrogenic saphenous neuralgia: successful ther...\\nPrognostic significance of proteinuria one year...\\nPrognostic significance of serosal invasion in ...\\nEfficacy of propafenone in preventing ventricul...\\nPseudopsammomatous meningioma with elevated ser...\\nComplications of Tenckhoff catheters post remov...\\nPeripheral alpha-1 and alpha-2 adrenergic recep...\\nEstimating left ventricular filling pressure du...\\nQuinapril in chronic heart failure. Angiotensin...\\nIncreased MEPP frequency as an early sign of ex...\\nRefeeding of infants with acute diarrheal disea...\\nOlfactory neuroblastoma: clinicopathologic and ...\\nAn intracranial mass lesion in systemic xanthog...\\nEpidural morphine for analgesia after caesarean...\\nEndothelin family in human plasma and cerebrosp...\\nClinical trials. Access and reimbursement. Clin...\\nStandards for analysis of ventricular late pote...\\nOcular adnexal Kaposi\\'s sarcoma in acquired imm...\\nTemporal arteritis with normal erythrocyte sedi...\\nProlonged paralysis following suxamethonium and...\\nGreenfield filter as primary therapy for deep v...\\nThe t(15;17) translocation of acute promyelocyt...\\nInfarction in the anterior rostral cerebellum (...\\nEffect of portasystemic shunts on subsequent tr...\\nNuclear medicine in otolaryngology. Nuclear med...\\nBrain stem and spinal metastases of supratentor...\\nReactions of first-year medical students to the...\\nEosinophilia-myalgia syndrome associated with i...\\nSalvage chemotherapy for patients with germ cel...\\nWhat getting sick means. The concepts of health...\\nFollow-up of infants treated with extracorporea...\\nIndications for distal arterial reconstruction ...\\nPrevalence and correlates of increased lung/hea...\\nExtramedullary blast crisis in a patient with P...\\nFacial muscle reanimation using the trigeminal ...\\nCisplatin and 5-fluorouracil for advanced locor...\\nLiver fatty acid-binding protein: a marker for ...\\nSafety and efficacy of urokinase during electiv...\\nRole of laparoscopy in the evaluation of patien...\\nEffects of metoprolol on rest and exercise card...\\nSerum gastrin and blood glucose levels during h...\\nA palmar dermatosis linked to occult carcinoma ...\\nTreatment of idiopathic retroperitoneal fibrosi...\\nThromboembolytic complications during circulato...\\nUrogenital dysfunction after abdominoperineal r...\\nA reevaluation of heparin requirements for card...\\nLong-term efficacy of Al3+ for prevention of bi...\\nMajor depression, panic disorder, and mitral va...\\nIncreased serum beta 2-microglobulin concentrat...\\nAn objective appraisal of the role of computed ...\\nAmenorrhea, osteopenia, and the female athlete....\\nSpontaneous rupture of an aortic aneurysm into ...\\nSmall intestinal fatty acid synthesis is increa...\\nEuropean experience with itraconazole in system...\\nSolitary fibromatosis of bone. A rare variant o...\\nMedicinal leeches: once again at the forefront ...\\nEfficacy of ibopamine in the treatment of heart...\\nBiliary and pancreatic metastases of breast car...\\nPerirectal abscess in Crohn\\'s disease. Drainage...\\nInfectious mononucleosis complicated by lingual...\\nGreat vein and right atrial thrombosis in criti...\\nCellular and molecular basis of the asbestos-re...\\nThe surgical anatomy of the scalp. Cadaveric di...\\nPseudoaneurysm of the abdominal aorta: a case r...\\nIncidence of parenchymal liver diseases in Denm...\\nUnexpected, spontaneous conversion of a family ...\\nChest wall involvement by lung cancer: computed...\\nExpression of VHIII-associated cross-reactive i...\\nExtravesical versus Leadbetter-Politano uretero...\\nMultiple spinal metastases from paraganglioma. ...\\nHumoral factors determining the blood pressure ...\\nComparison of ulcer surgery at a Veterans Admin...\\nA palmar dermatosis linked to occult carcinoma ...\\nMonosomy 22 in rhabdoid or atypical tumors of t...\\nExtradural implantation of sacral anterior root...\\nEvidence for gastric mucosal cell invasion by C...\\nInfantile form of carnitine palmitoyltransferas...\\nMelanoma and soft tissue sarcoma in seven patie...\\nRole of free radicals and platelet-activating f...\\nEffect of increased left atrial pressure on bre...\\nHypercalcemia with excess serum 1,25 dihydroxyv...\\nPercutaneous aspiration of brain tumor cysts vi...\\nSemi-closed, ex-situ, non-reversed or reversed ...\\nHepatobiliary manifestations of the acquired im...\\nAchievement of life goals by adult survivors of...\\nCan concomitant restriction be detected in adul...\\nImproved survival after Hemopump insertion in p...\\nCumulative load as a risk factor for back pain....\\n99mTc HM-PAO SPECT in pediatric migraine. 99mTC...\\nModulation of coronary vasomotor tone in humans...\\nFactors predictive of results of direct ablativ...\\nPostnatal epilepsy after EEG-confirmed neonatal...\\nDopamine beta-hydroxylase activity in cerebrosp...\\nMotor dysfunction in HIV-infected patients with...\\nUse of auscultation to follow patients with mit...\\nDiurnal fluctuations of arterial ketone body ra...\\nEffects of dietary calcium on nimodipine-sensit...\\nEnhanced expression of CD2 antigen on lung T ce...\\nIntraoperative scintigraphy for active small in...\\nCerebrospinal fluid neopterin in human immunode...\\nThe role of the immunogenetics laboratory in ma...\\nThiazide diuretics and the risk of hip fracture...\\nClinicopathological features of elevated lesion...\\nWhy do lean hypertensives have higher mortality...\\nCardiopulmonary perfusion and cerebral blood fl...\\nStridor: intracranial pathology causing postext...\\nImplication of specific DQB1 alleles in genetic...\\nNeonatal small bowel atresia, stenosis and segm...\\nAbdominal wall pain: an alternative diagnosis. ...\\nPossible involvement of the retinoblastoma gene...\\nHIV infection: clinical features and treatment ...\\nGeographic patterns of parkinsonism-dementia co...\\nSupported employment: an alternative model for ...\\nIncidence and properties of renal masses and as...\\nMulti-Hospital Eastern Atlantic Restenosis Tria...\\nUrgent management of a giant scrotal hernia. An...\\nA comparative study of naproxen sodium, pizotyl...\\nEffect of selective elimination of the oral flo...\\nEffects of repeated temporary clipping of the m...\\nSurgical treatment of renovascular hypertension...\\nMetastasizing pleomorphic adenoma of the nasal ...\\nInterferon system and natural killer cell activ...\\nTreatment of chronic liver disease caused by 3 ...\\nQuantitative evaluation of sway as an indicator...\\nAsialoglycoprotein receptor function in benign ...\\nMotility changes in primary achalasia following...\\nNucleus-driven multiple large-scale deletions o...\\nHepatic histological findings after transplanta...\\nCerebral circulation and metabolism in patients...\\nLower extremity venography with iohexol: result...\\nThe effect of prolonged hypothermia on cardiac ...\\nMedical comorbidity of major depressive disorde...\\nAggravation of human and experimental myastheni...\\nEosinophil infiltration and degranulation in He...\\nHeterogeneity in the inheritance of alcoholism....\\nA valved hepatic portoduodenal intestinal condu...\\nImmunosuppressive therapy in the management of ...\\nMild hypothermic cardiopulmonary resuscitation ...\\nAssay of serum cardiac myosin heavy chain fragm...\\nInfiltration of epinephrine in tonsillectomy: a...\\nSuperficial femoral artery as inflow for bypass...\\nExtrathoracic metastatic malignant thymoma. Dia...\\nScalp pilomatrix carcinoma as an extra-axial ma...\\nChemical carcinogenesis: too many rodent carcin...\\nHepatocyte growth factor in human placenta and ...\\nAcute subdural hematoma: morbidity, mortality, ...\\nPulse oximetry during apparent tonic-clonic sei...\\nStandard and controlled-release levodopa/carbid...\\nDissociation between systemic and mucosal humor...\\nDynamic association between artery shear flow c...\\nA chronic granulomatous syndrome of unknown ori...\\nEndorectal ultrasonographic staging of rectal c...\\nPercutaneous transperineal prostate cryosurgery...\\nExcipients in valproic acid syrup may cause dia...\\nSpinal coning after lumbar puncture in prostate...\\nCoronary artery calcification detected by CT: c...\\nA single cholesterol measurement underestimates...\\nIntrarectal ultrasonography in rectal cancer st...\\nGall-bladder perforation after long-term dapson...\\nPleomorphic adenoma in the periphery of the lun...\\nOral indomethacin for acute renal colic. A numb...\\nGross motor patterns in children with cerebral ...\\nPlatelet-activating factor: evidence against a ...\\nL-tryptophan induced eosinophilia-myalgia syndr...\\nUltrasound in the investigation of the right il...\\nSelection of patients with stage B prostate can...\\nDo life events or depression exacerbate inflamm...\\nDistinguishable types of dyspnea in patients wi...\\nPathophysiology of sciatica. The exact pathophy...\\nAssociation between post-dexamethasone cortisol...\\nGiardia lamblia infestation reveals underlying ...\\nRegression of atherosclerosis: what does it mea...\\nActivation of coagulation in acute cardioemboli...\\nPostoperative myocardial ischemia in patients u...\\nUnilateral hydrocephalus in adults. The authors...\\nPericardial effusion in primary hypothyroidism....\\nThe effect of dietary omega-3 fatty acids (fish...\\nLocally recurrent parathyroid neoplasms as a ca...\\nNew findings in treatment of colon cancer. Pati...\\nEsophageal motility in an adult with a congenit...\\nMyxomatous cyst of the brachial plexus. Case re...\\nThe Children\\'s Orientation and Amnesia Test: re...\\nCerebrotendinous xanthomatosis: treatments with...\\nTethered cord syndrome from a choristoma of mul...\\nAntibodies to nuclear lamin C in chronic hepati...\\nComputerized tomography in acute gastrointestin...\\nAcute upper gastrointestinal bleeding in elderl...\\nThe determinants and prognostic significance of...\\nClinical features and associations of 560 cases...\\nCoronary artery disease in the octogenarian: an...\\nHelicobacter pylori and Zollinger-Ellison syndr...\\nLong-term medical consequences of incest, rape,...\\nThe effects of midazolam on cerebral blood flow...\\nPrimary malignant peritoneal mesothelioma. A re...\\nGallbladder dynamics in patients with irritable...\\nEffects of angiotensin converting enzyme inhibi...\\nHeparin as the cause of coagulopathy which may ...\\nGiant intradiploic epidermoid tumor of the occi...\\nSecondary prevention of acute myocardial infarc...\\nDuodenal ulcer and refined carbohydrate intake:...\\nFine-needle aspiration evaluation of lymphoprol...\\nLife-threatening hemorrhage after placement of ...\\nEffectiveness of the once-daily calcium antagon...\\nGreenfield filter as primary therapy for deep v...\\nEfficacy and safety of intravenous nicardipine ...\\nPeriapical lesions of mandibular bone: difficul...\\nRole of the protease-antiprotease balance in pe...\\nLong-term follow-up of medical versus surgical ...\\nAcute renal dysfunction during interleukin-2 tr...\\nTreatment of renal cell carcinoma by extracorpo...\\nOrigin and significance of diastolic Doppler fl...\\nPercutaneous urinary diversion in patients with...\\nLate potentials and inducible ventricular tachy...\\nRapid analysis of carcinoembryonic antigen leve...\\nArtificial urinary sphincters around intestinal...\\nPeritoneal mesothelioma: an unusual cause of es...\\nEndolymphatic hydrops precipitated by haemodial...\\nA phase II trial of carboplatin and vinblastine...\\nColorectal cancer: have we identified an effect...\\nHypoxemia alone does not explain blood pressure...\\nPrognostic indices for tumor relapse and tumor ...\\nSupravalvar aortic stenosis: a complication of ...\\nDipyridamole magnetic resonance imaging: a comp...\\nGait analysis in the treatment of the ambulator...\\nMurine monoclonal anti-idiotype antibody as a p...\\nLocked-in syndrome with bilateral ventral midbr...\\nInterferon antibodies may negate the antiviral ...\\nCytomegalovirus colitis in AIDS: presentation i...\\nTransesophageal echocardiography in the diagnos...\\nInactivation of the retinoblastoma gene in huma...\\nLong term follow-up of descending thoracic aort...\\nPrognostic value of predischarge low-level exer...\\nIntradural spinal cord tumor presenting as a su...\\nThe spectrum of portal vein thrombosis in liver...\\nImmunologic defects in patients with refractory...\\nDetection of somatic DNA alterations in ovarian...\\nEvidence for tumor necrosis factor-induced pulm...\\nMyelopathy presenting decades after surgery for...\\nAutologous bone marrow transplantation for high...\\nRole of hypoxic drive in regulation of postapne...\\nDifferential histopathology of primary atherosc...\\nNoninvasive measurement of portal venous blood ...\\nST segment alternans during percutaneous transl...\\nIncreased lysis of patient CD10-positive leukem...\\nComparison of left ventricular ejection fractio...\\nAssessment of dilation methods in achalasia: la...\\nMenstrual state and exercise as determinants of...\\nAntibiotic therapy for common infections. Sever...\\nCosts of operating a supported work program for...\\nRegulation of expression of M, B, and mitochond...\\nA new method for estimating preexcitation index...\\nA new monoclonal antibody (CH-F42) recognizes a...\\nEffect of a short course of prednisone in the p...\\nUrinary tissue factor activity in colorectal di...\\nAssociation of germ cell tumors and Hodgkin\\'s d...\\nAutomatic rifle injuries: suicide by eight bull...\\nRole of magnetic resonance contrast agents in c...\\nLocal antibiotic delivery in the treatment of b...\\nThe gastrin hypothesis. Implications for antise...\\nThe effects of indomethacin and a beta-sympatho...\\nPrimary breast lymphoma. An immunohistologic st...\\nPrimary defect in alpha-adrenergic responsivene...\\nAbnormal blood pressure response during exercis...\\nInheritance of proliferative breast disease in ...\\nFrontal sinus carcinoma presenting as acute sin...\\nPositive results of combined therapy of surgery...\\nListerial myocarditis in cardiac transplantatio...\\nOutcome probabilities and life history after su...\\nClinical efficacy of PTCA and identification of...\\nTwo types of abnormal genes for plasminogen in ...\\nRelationship between body and brain temperature...\\nPneumatosis intestinalis and pneumoperitoneum c...\\nEffect of halothane and isoflurane on postische...\\nAdditional salutary hemodynamic effects of the ...\\nEffect of race upon organ donation and recipien...\\nImpairment of cerebral autoregulation during th...\\nAn insertion/deletion polymorphism in the angio...\\nCorrelation of clinical and computed tomographi...\\nIncidence of myocarditis. A 10-year autopsy stu...\\nAnesthesia for craniotomy: a double-blind compa...\\nCombination of Anandron with orchiectomy in tre...\\nHepatic dynamic sequential CT: section enhancem...\\nLymphoma of the gastric stump: report of a case...\\nDifferentiating cardiomyopathy of coronary arte...\\nNew surgical approach to complicated gastroesop...\\nLabetalol and MRI as initial medical and diagno...\\nInsulin-like growth factor-II: possible local g...\\nThe use of L-dopa and carbidopa in metastatic m...\\nEndoscopic management of early supraglottic can...\\nEnhanced utilization of exogenous glucose impro...\\nGranular cell tumor of the esophagus: endoscopi...\\nProgressive functional deterioration of biopros...\\nThe neuroradiology of visual disturbances. The ...\\nCirculating tumor necrosis factor, interleukin-...\\nLife-threatening complications during anaesthes...\\nSquamous metaplasia of the peritoneum. The capa...\\nAcute hypercalcemic crisis after an open heart ...\\nEfficacy and complications of radiotherapy of a...\\nHeterogeneity in progressive aphasia due to foc...\\nAdipsic hypernatremia in two sisters. We descri...\\nHyperplastic gastric polyps associated with per...\\nHeadache: a marker of depression Patients who p...\\nBuerger\\'s colour. Cyanosis of the hands and fee...\\nReview of clinical experience with digoxin immu...\\nAnatomical relationship between the renal venou...\\nGenetic analysis as an aid in diagnosis for pat...\\nEvaluation of in vitro bromodeoxyuridine labeli...\\nComparison of the effects of guanadrel sulfate ...\\nGlycolysis as primary energy source in tumor ce...\\nEvidence of heterogeneous mechanisms in lipopro...\\nNatural evolution of cardiac function, cardiac ...\\nMaxillofacial surgery and nasal CPAP. A compari...\\nChanges in myocardial ischemic threshold during...\\nOutcome after acute osteomyelitis in preterm in...\\nEarly inappropriate secretion of antidiuretic h...\\nPulmonary malakoplakia in a patient with the ac...\\nInfarction in the territory of the medial branc...\\nTamm-Horsfall autoantibodies in interstitial cy...\\nProsthetic arthroplasty of the knee after resec...\\nDoppler echocardiographic comparison of the Car...\\nSusceptibility to autoimmune chronic active hep...\\nSucrose as an analgesic for newborn infants. Th...\\nObstructing carcinoma of the cecum. Carcinoma o...\\nIn-hospital mortality after balloon aortic valv...\\nPrognosis of patients with ventricular tachycar...\\nSpontaneous rupture of the stomach in an adult....\\nBronchopulmonary and neurenteric forms of foreg...\\nA biphasic pattern of anti-pre-S responses in a...\\nCathepsins D and E in normal, metaplastic, dysp...\\nNeonatal subependymal giant cell astrocytoma as...\\nThe acutely affected abdomen in paraplegic spin...\\nPeritumoral blood flow in intracranial meningio...\\nReverse coitus: mechanism of urethral injury in...\\nGenetics and biology of human ovarian teratomas...\\nUse of a management plan for treating asthma in...\\nHigh-risk metastatic gestational trophoblastic ...\\nApical aortic cannulation: application of an ol...\\nFunctional status after coronary artery bypass ...\\nPharmacokinetics of acyclovir in the term human...\\nPreventing cervical cancer by treating genital ...\\nFlexible sigmoidoscopy as a screening procedure...\\nProgress in the search for genetic linkage with...\\nTransient ischaemic attacks in young patients: ...\\nAssociation between hypothermia and mortality r...\\nInterleukin-2 does not attenuate hypertension i...\\nNational General Practice Study of Epilepsy: re...\\nNormal proprioceptive trigeminal afferents in p...\\nThe hazards of surgical glove dusting powders. ...\\nGastric epithelium in the duodenum: its associa...\\nDeep venous thrombosis. Implications after open...\\nManagement of the acute abdomen complicating or...\\nSurfactant replacement therapy with a single po...\\nManagement of gastroenteritis. Childhood gastro...\\nDetection of breakpoint cluster region- negativ...\\nMicroheterogeneity of acute phase proteins in t...\\nUse of the Collings knife electrode for percuta...\\nHistochemical demonstration of 5\\'-nucleotidase ...\\nThe impact of right ventricular infarction on t...\\nHuman central nervous system primitive neuroect...\\nUrothelial grafts in mice. Mouse bladder epithe...\\nEpithelial cyst of the fourth ventricle. Case r...\\nStudies on autoimmunity for initiation of beta-...\\nAngioplasty from the contralateral approach: us...\\nTriiodothyronine in the recovery of stunned myo...\\nThe cancer experience in the Framingham Heart S...\\nInterferons and collagen production. The immuno...\\nOverexpression of normal and mutated forms of H...\\nMapping chromosome band 11q23 in human acute le...\\nIncreased susceptibility to hypoxia of prolonge...\\nNonspecific magnetic resonance appearance of re...\\nOncogenes and suppressor genes: their involveme...\\nAngiotensin converting enzyme inhibitors and qu...\\nLate potentials in progressive muscular dystrop...\\nOutpatient sedation: an essential addition to g...\\nThyroarytenoid muscle activity during hypoxia i...\\nFundoplication and gastrostomy in familial dysa...\\nAxillosubclavian vein thrombosis produced by re...\\nCellular internalization, transport, and esteri...\\nInduction of cytotoxicity of the renal hilar ly...\\nEffects of halothane on hypoxic pulmonary vasoc...\\nLong-term remission of chronic hepatitis B afte...\\nRegulation of insulin-like growth factor II gen...\\nE1a-dependent expression of adenovirus genes in...\\nFibrinogen, viscosity, and white blood cell cou...\\nUltrasonic integrated backscatter two-dimension...\\nPredisposing factors in bladder calculi. Review...\\nOrthostatic hypotension after spinal cord injur...\\nEvaluation of animal models for the study of ex...\\nMulti-institutional evaluation of the Tokyo Uni...\\nBenign biliary strictures: treatment with percu...\\nOstium secundum atrial septal defect in the eld...\\nNormal and leukemic hematopoietic cells manifes...\\nThreat of unemployment and cardiovascular risk ...\\nWhen is polypectomy sufficient treatment for co...\\nRelative effects of brain and non-brain injurie...\\nSerologic determinants of survival in patients ...\\nSkeletal muscle as an alternative specimen for ...\\nSelective inhibition by a synthetic hirudin pep...\\nA prospective randomized trial comparing epirub...\\nRadical vulvectomy with partial rectal resectio...\\nEffects of carotenoids in cellular and animal s...\\nThe child with recurrent syncope: autonomic fun...\\nIntrathoracic current flow during transthoracic...\\nGlucose intolerance and hyperinsulinemia of cir...\\nCerebral infarction: early detection by means o...\\nDiagnosis of thymoma in myasthenics using anti-...\\nThe vagus nerve, gastric secretions, and their ...\\nRelation of central obesity and insulin resista...\\nAnionic complex-carbohydrate units of human thy...\\nEstrogen receptors in the external anal sphinct...\\nZollinger-Ellison syndrome: prospective assessm...\\nStrong association between diabetes and displac...\\nEffects of epidermal growth factor and analogue...\\nHuman atherosclerotic coronary artery xenograft...\\nGenitourinary cancer in the elderly. The subjec...\\nUnderdiagnosis and undertreatment of chronic si...\\nPercutaneous transluminal coronary angioplasty ...\\nIrritant and sensitizing potential of copper, m...\\nGastric dysrhythmias following pylorus-preservi...\\nCell-to-cell communication and the control of g...\\nSelective breeding of dogs for segregation of l...\\nHemodynamic influence of LVAD on right ventricu...\\nHeart rate variability before and after myocard...\\nEffect of H1 receptor stimulation on coronary a...\\nTrue hermaphrodite with bilateral ovotestes, bi...\\nPatient age and results of balloon aortic valvu...\\nClonidine treatment of Gilles de la Tourette\\'s ...\\nRecovery from vegetative state of six months\\' d...\\nClinical evaluation of an acetaminophen meter f...\\nProlonged administration of oral etoposide in p...\\nA multifactorial analysis of mortality and morb...\\nPositive and negative regulation of proliferati...\\nIntracranial arachnoid cysts in children. A com...\\nRegulation of HLA class II molecule expressions...\\nDisposable attachments in cryosurgery: a useful...\\nLaser angioplasty in peripheral vascular diseas...\\nThe role of calcium ions and calcium channel en...\\nRecent advance in treatment of Stanford type A ...\\nEffects of salt, race, and hypertension on reac...\\nUse of CT and MR imaging to distinguish intracr...\\nIntraoral-extramaxillary sinus approach for lig...\\nEwing\\'s sarcoma. Prognostic factors, disease co...\\nMultivessel coronary angioplasty from 1980 to 1...\\nFertility after contraception or abortion. Ther...\\nPancreatic cancer versus chronic pancreatitis: ...\\nIndications for computed tomography in children...\\nLocal recurrence and survival following nerve-s...\\nThe epidemiology of inflammatory bowel disease:...\\nControversies in the treatment of streptococcal...\\nIntraoral adenoid cystic carcinoma. The presenc...\\nTouch preparation cytology of breast lumpectomy...\\nEffects of hypertension on pregnancy monitoring...\\nRegional cardiac adrenergic function using I-12...\\nA pilot study of intermediate-dose methotrexate...\\nMutagen sensitivity in patients with head and n...\\nDementia in institutionalized elderly: relation...\\nEpstein-Barr virus associated oesophageal ulcer...\\nLigation of the superficial femoral vein in pre...\\nAssessment of ventricular septal defect closure...\\nProfound papilledema due to cryptococcal mening...\\nLeukocyte alkaline phosphatase score in patient...\\nDetection of active intraabdominal arterial hem...\\nPlanar imaging techniques used with technetium-...\\nVimentin is preferentially expressed in high-gr...\\nPercutaneous transvesical chorionic villus samp...\\n\\'High single-dose\\' European PUVA regimen also c...\\nA prospective randomized evaluation of chronic ...\\nGastric antral vascular ectasia (\"watermelon st...\\nGiant left atrium--a case report. A seventy-sev...\\nManagement of Brucella endocarditis with aortic...\\nMicrospectrophotometric DNA analysis in ulcerat...\\nMotor-evoked potentials reflect spinal cord fun...\\nEchocardiographic definition of the left ventri...\\nIsolation of preferentially expressed genes in ...\\nTransrectal ultrasonography of rectal carcinoma...\\nComputed tomography in the assessment of the po...\\nRole of membrane proteins in monosodium urate c...\\nA provider\\'s view of prevention approaches in a...\\nPosthypoxic glucose supplement reduces hypoxic-...\\nEvaluation of tumor progression by repeated fin...\\nDietary fats and oils in cardiac arrhythmia in ...\\nMidterm surgical results of arterial switch ope...\\nThe prevalence of cardiac valvular pathosis in ...\\nSwan-Ganz catheter-induced massive hemoptysis a...\\nEpidermoid tumors of the 4th ventricle: report ...\\nUltrasonographic assessment of placental abnorm...\\nValue of electrophysiologic studies in hypertro...\\nA dose-intensive regimen of 5-fluorouracil for ...\\nRenal function in the elderly: results from the...\\nMeningeal involvement in Bence Jones multiple m...\\nEarly solid feeding and recurrent childhood ecz...\\nInternists\\' practices in health promotion and d...\\nAlteration of platelet serotonin in patients wi...\\nObstruction of mechanical heart valve prosthese...\\nClinical and pathological findings in prostates...\\nIntracranial arachnoid cysts in children. A com...\\nMinitracheotomy: complications and follow-up wi...\\nThe location of the maxillary os and its import...\\nFacial pain. This article presents differential...\\nProkinetic treatment of constipation-predominan...\\nComparison of a new immunoassay for determining...\\nHemoperitoneum as a result of coital injury wit...\\nSevere mitral insufficiency post-balloon valvul...\\nMetastatic tumors of the umbilicus: a review 18...\\nLate recurrence of a hepatocellular carcinoma i...\\nPersistent trophoblast after conservative treat...\\nComparison of epidurally administered sufentani...\\nFive-year results of coronary bypass grafting f...\\nToxic shock syndrome after inguinal hernia repa...\\nDysphagia as a manifestation of occult hypoxemi...\\nLidocaine potentiation of cocaine toxicity. STU...\\nIncreased whole blood viscosity combined with d...\\nChronic functional gastrointestinal symptoms in...\\nManagement of Peyronie disease by implantation ...\\nA simple method to improve the accuracy of non-...\\nResponse to chemotherapy does not predict survi...\\nRelation between leisure-time physical activity...\\nCorrelation between laboratory findings and cli...\\nSuccessful liver transplantation in a patient w...\\nIsolation of a novel tumor protein that induces...\\nDioxin-inducible, Ah receptor-dependent transcr...\\nThe role of cholecystokinin in the pathogenesis...\\nCardiovascular effects of nicardipine. Nicardip...\\nInterleukin 1 beta is expressed predominantly b...\\nThe anatomy and physiology of nerve injury. Ner...\\nDiabetic cardiomyopathy. The purpose of this ar...\\nExpression of blood group antigens by normal br...\\nRib compression of the coronary arteries. This ...\\nA prospective analysis of 1518 laparoscopic cho...\\nRecognition of cemetery remains in the forensic...\\nResection and reconstruction for bone tumors in...\\nAcute complications of percutaneous translumina...\\nResection of the primary liver cancer of the he...\\nChanges in quality of care for five diseases me...\\nThromboxane synthetase inhibition decreases pol...\\nDiabetic amyotrophy without pain. A puzzling cl...\\nStatus of cochlear implantation in children. Am...\\nInsulin-like growth factor I expression by tumo...\\nExtraadrenal retroperitoneal paragangliomas: na...\\nPerirenal candidial abscess. Perirenal candidia...\\nVariations on the temporoparietal fascial flap....\\nPatency rate of implantable devices during long...\\nPortal vein resection with a new antithrombogen...\\nIatrogenic contamination of multidose vials in ...\\nProphylaxis of deep venous thrombosis after acu...\\nMethionine dependency of malignant tumors: a po...\\nHyperresponsiveness of the extrathoracic airway...\\nA downstream initiation element required for ef...\\nMajor cross-country differences in risk of dyin...\\nPrediction of pregnancy-induced hypertensive di...\\nProgression of diabetic autonomic neuropathy ov...\\nDietary fat and risk of breast cancer. The rela...\\nOral cancer: a survey of 566 cases from the Uni...\\nAcute coronary artery occlusion during and afte...\\nThe patellofemoral joint after total knee arthr...\\nCeliac disease, brain atrophy, and dementia. We...\\nSquamous carcinoma in the liver. Squamous carci...\\nThe role of carotid screening before coronary a...\\nRisks of intestinal anastomoses in Crohn\\'s dise...\\nPathophysiologic changes in the critically ill ...\\nEnvironmental risk factors in siblings with Par...\\nHealth care screening for people with mental ha...\\nTraumatic vulvar hematomas. Assessing and treat...\\nSmall bile duct abnormalities in sarcoidosis. W...\\nMild head injury classification. Inconsistencie...\\n1990 AcroMed Award in basic science. Cauda equi...\\nBasal cell carcinoma arising in pemphigus vulga...\\nAntibiotic pharmacokinetics in surgery Pharmaco...\\nMicrovillus inclusion disease. In vitro jejunal...\\nColorectal tumors: an in vitro study of high-re...\\nComparison of SPECT using technetium-99m agents...\\nPlasma neurotransmitters and cortisol in duoden...\\nTransesophageal echocardiography in acute aorti...\\nDysphagia in patients with the post-polio syndr...\\nCentral nervous system vasculitis after chicken...\\nThe effect of an alpha-2 agonist on bladder fun...\\nL-tryptophan induced eosinophilia-myalgia syndr...\\nSafety and efficacy of laparoscopic cholecystec...\\nAttachment of bacteria to tonsillar epithelium ...\\nTherapy of diseased stroke-prone spontaneously ...\\nExperimental study of starch-induced intraperit...\\nAbsence of acetylcholine-induced current in epi...\\nComparison of ambulatory left ventricular eject...\\nRadiographic manifestations of congenital anoma...\\nCharacterization of a newly established maligna...\\nChanges in intracochlear and intracanalicular n...\\nAutologous bone marrow transplantation in high-...\\nPatients in a persistent vegetative state attit...\\nNon-invasive monitoring of finger arterial pres...\\nPrognosis of acute myocardial infarction compli...\\nTenascin expression in hyperproliferative skin ...\\nComputed tomography for evaluation of puerperal...\\nImproving palliation in pancreatic cancer: intr...\\nDiscordant nephron function. A pathogenic facto...\\nAssociation of p60c-src with polyoma virus midd...\\nCerebral infarction: early detection by means o...\\nCytogenetic analysis of 750 spontaneous abortio...\\nAllogeneic marrow transplantation in patients p...\\nRationale and efficacy of conservative therapy ...\\nCancer antigen 125, carcinoembryonic antigen, a...\\nDeficiency of complex III of the mitochondrial ...\\nEffect of thiopental on neurologic outcome foll...\\nPosthospital course and outcome in schizophreni...\\nIdentification of viable myocardium in patients...\\nLong-term (5 to 20 years) Evolution of nongraft...\\nSevere anterior segment inflammation following ...\\nLong-term evaluation of indobufen in peripheral...\\nComplement activation is a secondary rather tha...\\nGenetic data and natural history of Friedreich\\'...\\nObesity and body fat distribution and breast ca...\\nSignificance of discordant ST alternans in vent...\\nSplinter hemorrhages as a possible clinical man...\\nRelation of hyperglycemia early in ischemic bra...\\nMolecular characterization of beta-thalassemia ...\\nInferior vena caval filter thrombi: evaluation ...\\nSimultaneous occurrence of mitral valve prolaps...\\nThe role of duplex scanning in the selection of...\\nDexamethasone in the prevention of postextubati...\\nAbdominal wall reconstruction (the \"mutton chop...\\nEfficacy of doxazosin in specific hypertensive ...\\nThe importance of calcium ions for in vitro mal...\\nHemodynamic and neurohormonal effects of quinid...\\nEndoscopic management of retained cystic duct s...\\nA prospective comparison of laser therapy and i...\\nCervical spine diastematomyelia in adulthood. A...\\nIncreasing asthma prevalence in a rural New Zea...\\nUse of single internal mammary artery grafts in...\\nQuality-of-life-adjusted evaluation of adjuvant...\\nPostanginal sepsis with dysphagia. We have desc...\\nWidespread inflammatory response to osteoblasto...\\nMolecular and hematologic characterization of S...\\nEffect of cyclosporin on generalized Shwartzman...\\nSevere fibromyalgia after hypophysectomy for Cu...\\nFate of patients undergoing transluminal angiop...\\nRole of percutaneous fine-needle aspiration bio...\\nAcute deterioration of renal function associate...\\nClinical course of anti-neutrophil cytoplasmic ...\\nIntracranial hemorrhage from aneurysms and arte...\\nIntracoronary urokinase for intracoronary throm...\\nRemission of precancerous lesions in the oral c...\\nIntraoperative massive suprachoroidal hemorrhag...\\nDriving in Parkinson\\'s disease. Altered motor o...\\nFactors associated with recurrent myocardial in...\\nCharacterization of auscultatory gaps with wide...\\nMultisurface method of pattern separation for m...\\nAltered waveform of plasma nocturnal melatonin ...\\nIrritable bowel syndrome in women having diagno...\\nPrehospital thrombolysis in acute myocardial in...\\nPulmonary hypertension after heparin-protamine:...\\nDynamic cardiomyoplasty in chronic Chagas\\' hear...\\nSquamous cell carcinomas often produce more tha...\\nDelayed, exsanguinating pelvic hemorrhage after...\\nIncreased endothelin in experimental heart fail...\\nThe safety of low-dose prednisone before and im...\\nHBV-DNA detection by gene amplification in acut...\\nExtramedullary hematopoiesis in the liver in su...\\nSmall bowel obstruction associated with a leiom...\\nThe sulphated glycosaminoglycan levels in synov...\\nCR leads in cardiac emergencies. A preliminary ...\\nEctatic blood vessels in port-wine stains lack ...\\nHemodynamic effects of ketamine, hypoxia and hy...\\nTherapy of ischemic cardiomyopathy with pentoxi...\\nScleroderma and central nervous system vasculit...\\nBotulinum-induced changes in monkey eyelid musc...\\nDevelopment of the hip in multiple epiphyseal d...\\nApplication of coronary angioplasty to the sept...\\nAdjuvant topical chemotherapy versus immunother...\\nNatural death as viewed by the medical examiner...\\nA limited diagnostic investigation for obstruct...\\nRed cell antibodies arising from solid organ tr...\\nSystemic hypertension in sleep apnea syndrome. ...\\nInterruption of critical aortoiliac collateral ...\\nEstimating and testing an index of responsivene...\\nProphylaxis of aphakic cystoid macular edema wi...\\nCarotid-esophageal fistula following a penetrat...\\nClentiazem reduces infarct size in rabbit middl...\\nIntestinal vascular sensitivity to vasopressin ...\\nMotor neuron disease (amyotrophic lateral scler...\\nT-lymphocytic leukemia expresses complex, branc...\\nCerebrospinal norepinephrine concentrations and...\\nHLA class II antigens and DNA restriction fragm...\\nErythromycin failure with subsequent Pasteurell...\\nTracheal and main bronchial disruptions after b...\\nInfluence of catheter technology and adjuvant m...\\nThe management of primary fallopian tube carcin...\\nHemolytic anemia associated with the use of ome...\\nEndoscopic retrograde cholangiopancreatography ...\\nSymptomatic and essential rhythmic palatal myoc...\\nChylous ascites should suggest constrictive per...\\nReconstructive and rehabilitative aspects of he...\\nEffect of chronic respiratory acidosis on urina...\\nAcute respiratory failure caused by pulmonary v...\\nA blinded comparison of noninvasive, in vivo ph...\\nEffect of diltiazem and thromboxane A2 syntheta...\\nCellular immunodeficiency in protein-losing ent...\\nModulation of N-nitrosomethylurea-induced mamma...\\nSudden appearance of coronary thrombus observed...\\nIntestinal ischemia complicating abdominal aort...\\nThe prevalence of Helicobacter pylori infection...\\nHyperinsulinaemia and microvascular angina (\"sy...\\nA comparative analysis of three different techn...\\nCreutzfeldt-Jakob disease in pituitary growth h...\\nRisk factors for metastases in patients with re...\\nHodgkin\\'s disease in association with human imm...\\nChanges in plasma high density lipoprotein chol...\\nVisual evoked potential monitoring of optic ner...\\nRight ventricular systolic function during exer...\\nAdult T-cell leukemia-derived factor/thioredoxi...\\nIncidence and clinical significance of transien...\\nHypertension and the risk of dementia in the el...\\nPhenotypic heterogeneity in osteogenesis imperf...\\nFlexion osteotomy of the femur for genu recurva...\\nMilk protein enteropathy after acute infectious...\\nSelective myectomy for postparetic facial synki...\\nExtracranial repair of cerebrospinal fluid fist...\\nNaloxone and spinal fluid drainage as adjuncts ...\\nGenetic analysis of breast cancer in the cancer...\\nEmergent aneurysm surgery without cerebral angi...\\nEstablishment and characterization of unique ce...\\nSurgical treatment of laryngeal web with mucosa...\\nDurability of vein graft revision: the outcome ...\\nMucosal characteristics of pelvic ileal pouches...\\nEctopic thyroid tissue in the submandibular reg...\\nMaternal and fetal effects of labetalol in preg...\\nThe technicon H6000 analyzer discriminates chro...\\nOvernight admission of outpatient strabismus pa...\\nAccessory arm--dysraphism or disparity? Case re...\\nStroke in systemic lupus erythematosus [publish...\\nThe acute aseptic meningitis syndrome. The acut...\\nDirect measurement of skeletal muscle fatigue i...\\nColonoscopy in critically ill patients. What co...\\nSimultaneous operative repair of multilevel low...\\nLife-threatening complications during anaesthes...\\nRapid, nonradioactive detection of clonal T-cel...\\nHepatocellular carcinoma with tumor thrombus ex...\\nThe surgical management of children with ulcera...\\nBlood pressure lowering in elderly subjects: a ...\\nImmunohistochemical study of vascular lesions i...\\nSubarachnoid hemorrhage from a dissecting aneur...\\nThe yield of cholesterol screening in an urban ...\\nOxygen free radicals in acute pancreatitis of t...\\nRole of dipyridamole-echocardiography test in t...\\nSyncytial giant-cell hepatitis. Sporadic hepati...\\nClinical and anatomical considerations for surg...\\nThe internist in the management of head and nec...\\nCongenital myasthenia associated with facial ma...\\nPheochromocytoma and acute myocardial infarctio...\\nNoninvasive measurement of renal blood flow wit...\\nFinal outcome of ursodeoxycholic acid treatment...\\nTransformed and nontransformed cells differ in ...\\nCircus movement atrial flutter in the canine st...\\nOccult vascular malformations of the optic chia...\\nHeterogeneity in spasmodic dysphonia. Neurologi...\\nEffects of medical and surgical treatment on ce...\\nSelf-injurious behavior: a review of the behavi...\\nConservative management of asymptomatic poplite...\\nCaesarean section in a patient with haemoglobin...\\nFast and effective treatment of malignant hyper...\\nGanglioglioma: a clinical study with long-term ...\\nFixation of intertrochanteric fractures of the ...\\nCardiac risk in vascular surgery. The oral dipy...\\nA double-blind comparative study of doxazosin a...\\nDevelopment of intrapancreatic transplantable m...\\nAssessment of patient laboratory data in the ac...\\nFetal choroid plexus cysts: a prospective study...\\nAmyotrophic lateral sclerosis: fasting plasma l...\\nLocal reactions to radioiodine in the treatment...\\nIntrapleural tetracycline for the prevention of...\\nYears of potential life lost: another indicator...\\nMyelopathy associated with human T cell lymphot...\\nRepetitive conservative surgery for recurrence ...\\nPituitary hemorrhage into a Rathke\\'s cleft cyst...\\nEndoscopic biopsy has limited accuracy in diagn...\\nManagement of stage A prostate cancer. Transrec...\\nIsolation and characterization of cDNA encoding...\\nHemodynamic determinants of vascular changes in...\\nSuccessful treatment of severe premenstrual syn...\\nAxial myoclonus of propriospinal origin. Three ...\\nImproved outcome in childhood acute lymphoblast...\\nRenal artery stenosis: in vivo perfusion MR ima...\\nSpontaneous rupture of hepatocellular carcinoma...\\nEndoscopic cholangiopancreatography in hepatic ...\\nExacerbation of acute platelet thrombus formati...\\nEvaluation of a simple line width test involvin...\\nCentral nervous system vasculitis after chicken...\\nCognitive function and time-of-day variation in...\\nUltrasonic morphology of the uterus and ovaries...\\nEffect of antihypertensives on sexual function ...\\nUse of gadolinium-enhanced magnetic resonance i...\\nChronic fetal hypoxia and sudden infant death s...\\nMyocarditis or acute myocardial infarction asso...\\nOutcomes of pregnancies among women and partner...\\nSoccer injuries to the brain. A neuropsychologi...\\nIntravesical bacillus Calmette-Guerin for patie...\\nThe epidemiology of impaired glucose tolerance ...\\nCalmodulins with deletions in the central helix...\\nZollinger-Ellison syndrome. Relation to Helicob...\\nGlucocorticoids locally disrupt an array of pos...\\nA pilot study of suramin in the treatment of me...\\nMovement analysis--an aid to early diagnosis of...\\nTreatment of advanced neuroblastoma with emphas...\\nIntracranial arachnoid cysts in children. A com...\\nAdventitial red blood cells produce intimal pla...\\nInpatient theophylline toxicity: preventable fa...\\nA study of immunoglobulin G in the cerebrospina...\\nOntogenetic features of audiogenic seizure susc...\\nPrevalence and characteristics of multiple anal...\\nThe role of the iliolumbar ligament in the lumb...\\nProtein synthesis required to anchor a mutant p...\\nNeonatal repair of tetralogy of Fallot with and...\\nOncolytic effects of fatty acids in mice and ra...\\nGraft stenosis: justification for 1-year survei...\\nIntraocular lens complications. The authors imp...\\nEasy dissection of hard and thickened pericardi...\\nReconstruction of the severely atrophic edentul...\\nPreoperative aspirin therapy and reoperation fo...\\nPhenotypic heterogeneity of spinal muscular atr...\\nClostridium difficile--a common and costly coli...\\nEfficacy of biofeedback training in improving f...\\nNoninvasive discrimination of right atrial ecto...\\nNeurologic complications in chronic renal failu...\\nReversible hearing loss from cerebellopontine a...\\nComparison of i.m. ketorolac trometamol and mor...\\nClinical and electrophysiological characteristi...\\nIsolation of a complementary DNA clone encoding...\\nEffects of repeated temporary clipping of the m...\\nSubstance abuse and cerebral blood flow. OBJECT...\\nDetection of restenosis after successful corona...\\nPosttranslational gastrin processing depends on...\\nSurgical management of pericardial effusion in ...\\nCarotid endarterectomy for chronic retinal isch...\\nVestibular papillae of the vulva. Lack of evide...\\nRapid sequence treatment of advanced squamous c...\\nDorsal rhizotomy for children with cerebral pal...\\nUnderstanding dizziness. How to decipher this n...\\nNipple discharge in women. Is it cause for conc...\\nHow district health authorities organise cervic...\\nHelicobacter pylori and associated duodenal ulc...\\nA unified hypothesis for the complex genetics o...\\nMaxillary sinus hypoplasia masquerading as chro...\\nPatient-controlled analgesia in children. We re...\\nLitigation and employment status: effects on pa...\\nSurvey of Alabama physicians\\' use of mammograph...\\nHerniation of the antral membrane through an ex...\\nRadiosurgery of acoustic neurinomas. Eighty-fiv...\\nInterval gangrene of the lower extremity: a com...\\nSustained increased cerebral blood flow with pr...\\nProgression of human papillomavirus type 18-imm...\\nProsthetic valves in children and adolescents. ...\\nPrognostic significance of the white nipple sig...\\nHereditary internal anal sphincter myopathy cau...\\nCardiac echinococcosis: the diagnostic value of...\\nThe use of the Cytobrush cervical sampler in pa...\\nIdentification of mutations in regions correspo...\\nSurgery for sinusitis and aspirin triad. An 11-...\\nCardiac pathology in 470 consecutive forensic a...\\nThe classification of childhood seizures and ep...\\nHeart rate changes as an autonomic component of...\\nHigh-output left ventricular failure after dext...\\nTreatment of recurrent ischemia after thromboly...\\nLong-term course of patients with persistent hy...\\nIleocolic nipple valve anastomosis for preventi...\\nHyperinsulinaemia and microvascular angina (\"sy...\\nEpidermal growth factor receptor expression in ...\\nPhysical examination and echo Doppler study in ...\\nBabinski-Nageotte syndrome on magnetic resonanc...\\nClinical use of the 193-nm excimer laser in the...\\nDevelopment of a soft, pliable, slow heparin re...\\nInsensitivity of noninvasive tests to detect co...\\nCombined modality therapy for locally advanced ...\\nAn objective comparison of intrathecal lidocain...\\nEndoscopic sclerotherapy in extrahepatic portal...\\nStressful experience and cardiorespiratory diso...\\nEffect of tetrahydroaminoacridine on cognition,...\\nThe role of a critical care unit in an epidemic...\\nFemale gout. Clinical spectrum and uric acid me...\\nPopliteal artery occlusion caused by cystic adv...\\nPharmacologic activity of bepafant (WEB 2170), ...\\nRotavirus-specific antibody response in saliva ...\\nSystemic toxic effects associated with high-dos...\\nImmediate versus delayed shoulder exercises aft...\\nCardioprotective effects of carnitine in extens...\\nMapping chromosome band 11q23 in human acute le...\\nThe influence of autologous lymphokine-activate...\\nDiagnostic relevance of clonal cytogenetic aber...\\nPercutaneous transaortic closure of postinfarct...\\nLocal recurrence after curative resection of co...\\nTransesophageal echocardiographic features of n...\\nHypointense renal cell carcinoma: MR imaging wi...\\nIbuprofen prevents deterioration in static tran...\\nGallbladder motility in cholesterol gallstone d...\\nDNA flow cytometry of colorectal carcinoma: cor...\\nPortal vein resection with a new antithrombogen...\\nRelative accuracy of three scintigraphic method...\\nEffect of Towne live virus vaccine on cytomegal...\\nElderly men with histories of heavy drinking: c...\\nPrognostic factors in alcoholic liver disease. ...\\nIntraoperative assessment of regional myocardia...\\nAir in the fissure for the ligamentum teres: ne...\\nRett syndrome: cerebellar pathology. The cerebe...\\nWould you recognize celiac axis syndrome? Since...\\nMetoprolol for aggressive behavior in persons w...\\nDiagnosis of cerebrovascular disease in sickle ...\\nExperience with the use of coronary autoperfusi...\\nNeurophysiological observations on corticospina...\\nA case-control study of the effectiveness of bi...\\ncAMP mediates IL-1-induced lymphocyte penetrati...\\nInter- and intraindividual variation in pressur...\\nHepatic lesions in the rabbit induced by acoust...\\nIncreased DNA synthesis and repair-enzyme expre...\\nShock wave lithotripsy-induced renal injury. Bo...\\nRelation of cardiac output at rest and during e...\\nA prospective, randomized evaluation of the tre...\\nOvarian metastases are rare in stage I adenocar...\\nImpairment of vertical motion detection and dow...\\nHormonal-metabolic stress responses in neonates...\\nTotal knee arthroplasty in diabetes mellitus. A...\\nNocturnal sleep recording with cassette EEG in ...\\nDifferent patterns of gene expression in ras-re...\\nPericardial metastasis from testicular seminoma...\\nPathogenesis of ceftriaxone-associated biliary ...\\nThe tissue origin of low back pain and sciatica...\\nAirway responsiveness to inhaled methacholine i...\\nAnorectal function in incontinent patients with...\\nResponse to treatment with antihistamines in a ...\\nIntestinal ischemia complicating abdominal aort...\\nEffects of prolonged infusion of human alpha ca...\\nIdiopathic scoliosis and asymmetry of form and ...\\nTired, weak, or in need of rest: fatigue among ...\\nRisk monitoring of randomized trials in emergen...\\nFatal pulmonary venoocclusive disease secondary...\\nLong-term (5 to 20 years) Evolution of nongraft...\\nThe automatic implantable cardioverter-defibril...\\nThe effect of local temperature versus sympathe...\\nPancreatic function in Crohn\\'s disease. We inve...\\nExpression of the macrophage colony-stimulating...\\nExamination of HTLV-I integration in the skin l...\\nA topographical relationship between Helicobact...\\nGastrointestinal disease and oral contraception...\\nMonoclonal antibody B72.3 in benign breast lesi...\\nA cytotoxic T-lymphocyte clone derived from mic...\\nIn vivo technetium-99m S12 antibody imaging of ...\\nGallstone disease in north India: clinical and ...\\nAirways inflammation in nocturnal asthma. Noctu...\\nUrinary excretion of bile acid glucosides and g...\\nThe importance of calcium regulation in toxic c...\\nWindow operation: an alternative treatment meth...\\nDiagnoses of acute lower respiratory tract infe...\\nImplications of echocardiographically assisted ...\\nAdrenal medullitis in type I diabetes. To inves...\\nRespiratory distress in a child in the office. ...\\nPrediction of variceal hemorrhage in cirrhosis:...\\nAn evaluation of a 30-gauge needle for spinal a...\\nBeta 2-microglobulin predicts survival in prima...\\nIncreased septic complications with three-drug ...\\nImmunological identification and distribution o...\\nProximal gastric vagotomy: follow-up at 10-20 y...\\nInfluence of obesity, impaired glucose toleranc...\\nPouch outlet obstruction following vertical rin...\\nEffects of long-term coenzyme Q10 and captopril...\\nMaternal genomic neutrophil FcRIII deficiency l...\\nEffectiveness of periodic checkup by ultrasonog...\\nBone marrow findings after treatment with recom...\\nInduction of different morphologic features of ...\\nSkin responses to intradermal histamine and leu...\\nGlobal and molecular hemostatic markers in acut...\\nTrolox protects rat hepatocytes against oxyradi...\\nOral estrogens decrease bleeding time and impro...\\nManagement of macular puckers associated with r...\\nVitreous changes and macular edema in central r...\\nNovacor left ventricular assist filling and eje...\\nSingle polypoid cystitis cystica and glandulari...\\nCombined internal mammary artery graft for coro...\\nDiagnosis of magnesium-induced diarrhea BACKGRO...\\nThe utility of circulating levels of human panc...\\nIL-2-PE40 prevents the development of tumors in...\\nEfficacy of thrombolysis in infrainguinal bypas...\\nLong-term postthoracotomy pain. We used a pain ...\\nAssay of hepatitis B virus DNA by polymerase ch...\\nBotulinum A toxin for the treatment of adult-on...\\nProspective trial comparing a combination pH pr...\\nThe analysis of erythrocyte morphologic charact...\\nPancreatic ischaemia in experimental acute panc...\\nThe surgical treatment of atrial fibrillation. ...\\nReversible hearing loss from cerebellopontine a...\\nReactivity of eccentric and concentric coronary...\\nInterferon alfa therapy in patients with chroni...\\nComparison of motor response to apomorphine and...\\nThe use of an amniotic membrane graft to preven...\\nMethodology of sodium sensitivity assessment. T...\\nMultiple muscle enzyme release with psychiatric...\\nPenetrating injuries to the stomach. The charts...\\nNeuroleptic malignant syndrome: life-threatenin...\\nA randomized control trial of two cervical spat...\\nIntraoperative fine needle aspiration cytology ...\\nHypertension during pregnancy in insulin-depend...\\nMicrostaging of squamous cell carcinomas. The c...\\nRadiographic microcalcification and parenchymal...\\nImpaired awareness of behavioral limitations af...\\nTechniques of emergency ventilation: a model to...\\nFollicular neoplasms of the thyroid in men olde...\\nRadical intracapsular removal of acoustic neuri...\\nPrimary hepatic carcinoid tumor. An electron mi...\\nThe freckle sign--an endoscopic feature of the ...\\nA comparison of hospital costs and morbidity be...\\nThromboxane A2 and development of genetic hyper...\\nMyocardial capillary permeability after regiona...\\nAscites revealing peritoneal and hepatic extram...\\nDiabetes mellitus and hypertension: a physiolog...\\nOutcome of pregnancies experienced during resid...\\nIncreased incidence of respiratory distress syn...\\nOccipital condyle fracture presenting as retrop...\\nSpinal nerve stimulation in the diagnosis of lu...\\nSudden death behind the wheel from natural dise...\\nOrbital rim and malar advancement for unilatera...\\nImmunoreactivity of anti-streptococcal monoclon...\\nDetermination of plasma calcitonin gene-related...\\nMagnetic resonance imaging: a reliable test for...\\nCholangiocarcinoma complicating primary scleros...\\nSteal-prone coronary anatomy and myocardial isc...\\nScreening for early dementia using memory compl...\\nLong-term outcome after surgery for biliary atr...\\nMobile knee reconstructions after resection of ...\\nClinical and prognostic assessment of patients ...\\nAdjunctive use of beta-adrenergic blockers, cal...\\nSystemic chemotherapy for urothelial cancer in ...\\nSynergism of herpes simplex virus and tobacco-s...\\nA comparison of neurological, metabolic, struct...\\nMutations in src homology regions 2 and 3 of ac...\\nLack of effect of chronic administration of ora...\\nBrain water content, brain blood volume, blood ...\\nA prospective randomized study of cerebrospinal...\\nSplenectomy for the massively enlarged spleen. ...\\nPelvic floor descent in women: dynamic evaluati...\\nOperative choledochoscopy: common bile duct exp...\\nEmergency intraosseous infusion in severely bur...\\nThe disabled driver: an unmet challenge. A surv...\\nMenopausal estrogen replacement therapy and bre...\\nStiffman syndrome: a rare paraneoplastic disord...\\nIn vivo phosphorus 31 magnetic resonance spectr...\\nVentricular tachycardia and accelerated ventric...\\nEndemic Kaposi\\'s sarcoma in human immunodeficie...\\nA rare cause of colitis--Brucella melitensis. R...\\nCaesarean section in a patient with haemoglobin...\\nPhotodynamic therapy with chloroaluminum-sulfon...\\nCrohn\\'s disease of the lung Two years after dev...\\nEndoscopic sclerotherapy for control of bleedin...\\nPrognostic determinants in extracorporeal membr...\\nIntraoperative peripheral Nd:YAG laser-assisted...\\nOmeprazole in the management of intractable eso...\\nIs sick sinus syndrome an adenosine-mediated di...\\nLife events and difficulties preceding stroke. ...\\nAngioplasty of renal arteries: a report of ten ...\\nEvaluation of metastatic cardiac calcification ...\\nVariceal rebleeding after portosystemic shuntin...\\nRAR-alpha gene rearrangements as a genetic mark...\\nPotential complications of high-dose epinephrin...\\nOmeprazole in H2 receptor antagonist-resistant ...\\nIleocolic nipple valve anastomosis for preventi...\\nTransient myocardial ischemia and its relation ...\\nEffect of ulcerative colitis and smoking on rec...\\nCerebrospinal fluid dynamics in the tardive cau...\\nEfficacy of thrombolysis in infrainguinal bypas...\\nDementia, depression, or grief? The differentia...\\nPatient-controlled analgesic administration. A ...\\nTumoral thrombosis of cerebral venous sinuses: ...\\nIn vitro model of intestinal crypt abscess. A n...\\nAcute respiratory failure and pulmonary thrombo...\\nPneumatic chest wall compression. A cause of re...\\nTumor factors predicting for prognosis in metas...\\nSympathetic neural contribution to salt-induced...\\nDrug-induced DNA damage and tumor chemosensitiv...\\nComputed tomographic density of metastatic lymp...\\nLarge cystic optic glioma. A 5 1/2-year-old boy...\\nEffect of hyperthermia in vitro and in vivo on ...\\nCarbamazepine dose requirements during stiripen...\\nImmunochemical characterization and quantitativ...\\nAlcohol consumption in patients with colorectal...\\nTwelve-year comparison of a Bjork-Shiley mechan...\\nHemodynamic and endocrine effects of mental str...\\nCutaneous angiolipoleiomyoma. We describe eight...\\nColonoscopic screening of asymptomatic patients...\\nMRI findings in neuro-Behcet\\'s disease. We repo...\\nIncreased extravascular lung water in patients ...\\nHuman leukoagglutinating antibody evokes cooper...\\nReconstruction of mandibular defects in irradia...\\nInduction of in vitro graft-versus-leukemia act...\\nExperience with in situ saphenous vein bypasses...\\nReoperation for small intestinal obstruction. T...\\nFrom disease to delirium: managing the declinin...\\nUse of the metabolic tracer carbon-11-acetate f...\\nParascapular free flaps for head and neck recon...\\nReciprocal inhibition between forearm muscles i...\\nUlcerative lesions and herpes simplex virus typ...\\nMucous cell hyperplasia in an odontogenic cyst ...\\nRisk factors for breast cancer. Despite the num...\\nIn vivo rheologic effects of lipid apheresis te...\\nEffect of weight reduction in moderately overwe...\\nA retrospective analysis of therapy for acute g...\\nSudden death during empiric amiodarone therapy ...\\nCerebral palsy: why we must plan for survival. ...\\nCV 205-502--effectiveness, tolerability, and sa...\\nHemodynamic basis of stasis ulceration--a hypot...\\nConsistent involvement of the bcr gene by 9;22 ...\\nMortality among workers at Oak Ridge National L...\\nUnusually late onset of cerebrospinal fluid rhi...\\nComparison of ambulatory left ventricular eject...\\nNeuroexcitatory plasma amino acids are elevated...\\nStrategy for lymphadenectomy in lung cancer thr...\\nMaximal O2 uptake of in situ dog muscle during ...\\nThe use of risk factors in medical diagnosis: o...\\nIdentical splicing of aberrant epidermal growth...\\nEosinophilic inflammation in asthma BACKGROUND ...\\nA controlled trial of psychological treatment f...\\nDeficient counterregulatory hormone responses d...\\nUse of a knee-brace for control of tibial trans...\\nMesencephalic cholinergic nuclei in progressive...\\nGiant carotid-ophthalmic artery aneurysms: dire...\\nIn vivo evaluation of monopolar versus bipolar ...\\nAdvances in noninvasive detection of CAD. Advan...\\nThe effects of vitamin K on the generation of d...\\nDecalcification of a choroidal osteoma. A 56-ye...\\nCirculating heart-reactive antibodies in patien...\\nThe role of endoscopic retrograde pancreatograp...\\nCarcinoma of the head of the pancreas. Optimal ...\\nSnoring and sleep architecture. The purpose of ...\\nIntraoperative decision making during thyroid s...\\nPancreatic pseudocyst in the left hepatic lobe:...\\nSex hormone receptors in human thyroid tissues....\\nDeleterious effects of criminal victimization o...\\nPredictive value of congenital hypertrophy of t...\\nAdenomyomatosis of the gallbladder. A premalign...\\nEffect of a tricyclic antidepressant and opiate...\\nVaginal mullerian cyst presenting as an anterio...\\nStreptococcal endocarditis temporally related t...\\nRosacea and ulcerative colitis: a possible asso...\\nUpper gastrointestinal bleeding in relation to ...\\nIliofemoral arterial complications of balloon a...\\nGastric dysrhythmias following pylorus-preservi...\\nPulmonary artery balloon counterpulsation for i...\\nIncreasing prevalence of gallstones in male vet...\\nPhysical activity, opportunity for reinfection,...\\nEsophageal perforation during pneumatic dilatat...\\nResolution of the adult respiratory distress sy...\\nLack of late skin necrosis in man after high-do...\\nSpontaneous neuronal hyperactivity in the media...\\nCognitive and behavioral effects of the coadmin...\\nExcess purine degradation caused by an imbalanc...\\nSpinal hemangioblastoma, syrinx, and hydrocepha...\\nIntracranial germ-cell tumors in children. All ...\\nUnresectable calcified bladder tumor: hemiacidr...\\nImpact of day care on dementia patients--costs,...\\nIdiopathic intracranial hypertension. Although ...\\nMonitoring of spinal cord stimulation evoked po...\\nMulticenter patency trial of intravenous anistr...\\nNeurologic status of spina bifida patients and ...\\nVentricular tachycardia during routine treadmil...\\nClinical experience implanting an inflatable pe...\\nA pitfall in azygos vein cannulation in cirrhot...\\nAnalysis of baroreflex control of heart rate in...\\nSphenoid sinusitis, a cause of debilitating hea...\\nReliability of death certificate diagnoses. Con...\\nAntihypertensive effectiveness of nifedipine ga...\\nWeight gain with breast cancer adjuvant treatme...\\nSoft-tissue tumor with abnormal amianthoid coll...\\nPatterns of growth and metastases of induced pa...\\nPermanent venous access via subcutaneous infusi...\\nBilateral emphysematous pyelonephritis. Emphyse...\\nEpidemiologic aspects of heart failure. The pre...\\nDiagnosis of abdominal masses with percutaneous...\\nThe distribution of enkephalins in human caroti...\\nDecalcification of a choroidal osteoma. A 56-ye...\\nNd:YAG laser with sapphire tip combined with ba...\\nPartial duplication of the face: case report an...\\nAge-related changes in membrane fluidity of ery...\\nPlasma therapy for severe hemolytic-uremic synd...\\nFailure of long-term digitalization to prevent ...\\nAtherosclerotic carotid disease and the eye. Th...\\nHypercalcemia in malignancy. The pathogenesis o...\\nFoci of increased T2 signal intensity in MR ima...\\nTumor cell lines established in vitro: an indep...\\nMyocardial preservation using lidocaine blood c...\\nFluctuation in timing of upper airway and chest...\\nNormalization of ventilation/perfusion relation...\\nAnalysis of programmed stimulation methods in t...\\nGallbladder varices: imaging findings in patien...\\nSpontaneous perinephric hemorrhage: imaging and...\\nHypothalamic-pituitary-adrenal function in pati...\\nA long-term study of doxazosin in the treatment...\\nCoffee, caffeine, and cardiovascular disease in...\\nManagement of hypertension by reduction in symp...\\nA chronic granulomatous syndrome of unknown ori...\\nSafety, stability, and effectiveness of immunoa...\\nInteractions between N-methyl-D-aspartate and C...\\nFactors related to and consequences of weight l...\\nDoppler assessment of pulmonary hypertension in...\\nSalivary flow rates in patients with head and n...\\nRepair of posterior left ventricular aneurysm i...\\nHepatocellular carcinoma as second malignant ne...\\nHigh-risk factors in metastatic gestational tro...\\nEpithelial cyst of the fourth ventricle. Case r...\\nMIC2 is a specific marker for Ewing\\'s sarcoma a...\\nInhibition of dipyridamole-induced ischemia by ...\\nFailure to limit quantities of benzodiazepine h...\\nVentricular late potentials and induced ventric...\\nSoft tissue sarcomas of the head and neck in ad...\\nThe effect of ambulation on recovery from posto...\\nThe \"numb cheek-limp lower lid\" syndrome. A pat...\\nCerebral infarction and release of platelet thr...\\nCystic dilatation of the cystic duct: a new typ...\\nLiver transplantation: the shadow side. For a r...\\nDoes age affect outcomes of out-of-hospital car...\\nA six-amino acid deletion in basic fibroblast g...\\nRisk of dementia in first-degree relatives of p...\\nAn evolutionary perspective on salt, hypertensi...\\nPulmonary metastases from ameloblastoma of the ...\\nEducational policies. It is vital that teachers...\\nCardiovascular risk factor levels in ethnic Haw...\\nAscites after rupture of dissecting aortic aneu...\\nGaucher\\'s disease complicated by bleeding esoph...\\nBrain perfusion in acute encephalitis: relation...\\nWho is being screened for melanoma/skin cancer?...\\nThe effects of nonthyroid disease and drugs on ...\\nSensory ataxic hemiparesis in thalamic hemorrha...\\nChronic sinusitis and the yellow nail syndrome....\\nReversible brain death. A manifestation of amit...\\nPediatric blunt liver injury and coagulopathy m...\\nPhase I and imaging trial of indium 111-labeled...\\nClinical and anatomical considerations for nono...\\nPathomechanism, pathogenesis, and results of tr...\\nPrimary intratemporal tumours of the facial ner...\\nAcute upper gastrointestinal bleeding in elderl...\\nPrevalence of Helicobacter pylori in specific f...\\nSpontaneous dural carotid-cavernous fistula wit...\\nTreatment of reflex sympathetic dystrophy with ...\\nRepetitive strain injuries. How to deal with \\'t...\\nAcute respiratory failure caused by pulmonary v...\\nLeft ventricular aneurysm secondary to Behcet\\'s...\\nThromboexclusion of the right ventricle in chil...\\nInjection or heat probe for bleeding ulcer. A p...\\nSevere preeclampsia presenting as dysphonia sec...\\nTwo urokinase dose regimens in native arterial ...\\nYersinia enterocolitica O:3: an emerging cause ...\\nInhibition of pyroglutamyl peptidase II synthes...\\nCardioplegia-induced damage to ischemic immatur...\\nRadiotherapy. The mainstay in the treatment of ...\\nMultiple myeloma and acute megakaryoblast leuke...\\nWitzel pneumatic dilation for achalasia: safety...\\nMyasthenic thymus and thymoma are selectively e...\\nThe role of HTLV in HIV-1 neurologic disease. W...\\nOptic nerve sheath meningoceles. Clinical and r...\\nPlasma concentrations of epinephrine during CPR...\\nCombined hepatic and vena caval resection with ...\\nEvaluating oxygen delivery and oxygen utilizati...\\nMinute squamous cell carcinoma arising in the w...\\nThe contribution of routine follow-up mammograp...\\nOcclusive vasculopathy in systemic lupus erythe...\\nStomal adenocarcinoma in Crohn\\'s disease. Malig...\\nIncrease of beta 1-6-branched oligosaccharides ...\\nContrast echocardiographic mapping of collatera...\\nAdenocarcinoma of the colon occurring with intu...\\nIdiopathic and glucocorticoid-induced spinal ep...\\nQuantitation of skin vasomotor control in norma...\\nMesangial cell accessory functions: mediation b...\\nAdult phosphorylase b kinase deficiency. Phosph...\\nMechanical cardiopulmonary support for refracto...\\nClear cell sarcomas and metastatic soft tissue ...\\nEffect of left ventricular aneurysm on risk of ...\\nReplacement of the aortic valve or root with a ...\\nThe molecular biology of acute myeloid leukemia...\\nCoexisting thymic carcinoid tumor and thymoma. ...\\nClinical characteristics and treatment outcome ...\\nEffects of dipyridamole and aminophylline on he...\\nNSAID-induced gastrointestinal damage. A critic...\\nHave changing treatment patterns affected outco...\\nManagement of perineal wounds following abdomin...\\nMid-line presentation of cervical lymphomata. T...\\nNatural history of moderate aortic stenosis. Th...\\nRural obstetrics: a 5-year prospective study of...\\nPain relief achieved by transcutaneous electric...\\nEffect of motion artefact on pulse oximeters: e...\\nClinical validation of a miniature nuclear prob...\\nAcalculus lymphoeosinophilic cholecystitis asso...\\nRegression of intracardiac thrombus after embol...\\nPrimary progressive aphasia. Longitudinal cours...\\nFiller DNA is associated with spontaneous delet...\\nFluorescent cytochemical detection of estrogen ...\\nClinical evaluation of plasma abnormal prothrom...\\nAccumulation and pepsin solubility of collagens...\\nChemotherapy-related hemolytic-uremic syndrome ...\\nAcute phase reactants and risk of bacterial men...\\nStriatonigral degeneration. A clinicopathologic...\\nPrimary osteosarcoma of the lung. Report of two...\\nLocation of port-wine stains and the likelihood...\\nMarked elevations of serum alkaline phosphatase...\\nReplacement of an aortic valve cusp after neona...\\nArterial aneurysms in children: clinicopatholog...\\nAdverse mortality experience of a southwestern ...\\nMammographic measurements before and after augm...\\nFeatures distinguishing secondary achalasia fro...\\nAn objective method for the assessment of psych...\\nBalloon dilatation of the mitral valve by a sin...\\nCauda equina anatomy. I: Intrathecal nerve root...\\nDifferences between multisite postmortem ethano...\\nTransurethral-resection zone prostate cancer de...\\nEntrapment neuropathy of the median nerve at th...\\nCapabilities of supine exercise electrocardiogr...\\nMedulloblastoma: a population-based study of 53...\\nImpact of nonoperative therapy on the clinical ...\\nEvidence for the targeting by 2-oxo-dehydrogena...\\nRisk for colon adenomas in patients with rectos...\\nBismuth subsalicylate in the treatment of acute...\\nKi-67 immunostaining in uveal melanoma. The eff...\\nEtoposide. Current and future status. Etoposide...\\nUse and misuse of oral therapy for diarrhea: co...\\nSteroids induce acetylcholine receptors on cult...\\nInfluence of mental stress on ventricular pump ...\\nBlood contamination of anaesthetic and related ...\\nCentral nervous system vasculitis after chicken...\\nCongenital demyelinating motor and sensory neur...\\nPancreatic mucinous cystadenocarcinoma with pse...\\nRight-left disorientation in dementia of the Al...\\nBiochemical evidence of sympathetic hyperactivi...\\nDiagnosis and prevalence of persistent chlamydi...\\nPrevalence of aortic regurgitation by color flo...\\nBioactive and inactive forms of tumor necrosis ...\\nTraumatic intracranial aneurysms caused by miss...\\nSudden death in young competitive athletes: cli...\\nAntiarrhythmic efficacy of a new class III agen...\\nAcebutolol effects on lipid profile [published ...\\nRelationship among level of distraction, evoked...\\nRole of leukotriene B4 in granulocyte infiltrat...\\nAnalysis of alterations in the retinoblastoma g...\\nSensations during chest tube removal. Nurses pr...\\nMeningiomas involving the clivus: a six-year ex...\\nPrognosis of pregnancy-associated breast cancer...\\nA comparison of surfactant as immediate prophyl...\\nOcclusion of umbilical artery in acardiac, acep...\\nHemiplegia in posterior cerebral artery occlusi...\\nShort-term tamoxifen plus chemotherapy: superio...\\nThe VER as a diagnostic marker for childhood ab...\\nParotid duct communicating with a labial pit an...\\nSurgical options in postgastrectomy syndromes. ...\\nRelative validity of self-reported snoring as a...\\nAortic dissection with the entrance tear in the...\\nEndobronchial carcinoid and mucoepidermoid carc...\\nThe effect of flunarizine on essential tremor. ...\\nTheophylline minimally alters contractile prope...\\nMalignant thymoma presenting as intracardiac tu...\\nIncreased fatigue of isovelocity vs. isometric ...\\nFamilial hemifacial spasm associated with arter...\\nComparative clinical pharmacology of calcium ch...\\nElectrocardiographic signs of atrial overload i...\\nLong-term potentiation of electrotonic coupling...\\nRelationship of tumor-cell ploidy to histologic...\\nFrequency of recovery of Blastocystis hominis i...\\nDiet, smoking, and alcohol: influence on corona...\\nTolerance to organic nitrates: evidence, mechan...\\nUse of arterial compliance for evaluation of hy...\\nExtracorporeal membrane oxygenation for the cir...\\nEpididymal metastasis from prostatic adenocarci...\\nBeneficial effect of upper thoracic epidural an...\\nAutonomic dysfunction and Guillain-Barre syndro...\\nPortal venous gas in a patient with Crohn\\'s dis...\\nMonitoring of cortical blood flow during tempor...\\nHigh-frequency oscillatory ventilation compared...\\nRetrospective application of prognostic indices...\\nCalcium antagonists in the management of patien...\\nWeight gain at the time of menopause. We studie...\\nSuppressive effects of visceral tumor on the ge...\\nEmbolic stroke after smoking \"crack\" cocaine. A...\\nRecanalization of chronic, totally occluded cor...\\nDiagnostic value of brush cytology in the diagn...\\nIntrapalatine resection (IPR) in the treatment ...\\nA case-control study of Alzheimer\\'s disease in ...\\nPotentially lethal ventricular arrhythmias. Min...\\nHIV-associated myocarditis. Pathology and immun...\\nConcentration of tumor-associated trypsin inhib...\\nChemotherapy for medulloblastoma/primitive neur...\\nSurgical treatment of hydatid disease of the li...\\nGenetic analysis of breast cancer in the cancer...\\nRice-based oral electrolyte solutions for the m...\\nDisseminated Kaposi\\'s sarcoma not associated wi...\\nAccelerated arteriosclerosis in heart transplan...\\nAssociation of autoimmune hepatitis with HLA-Bw...\\nInterventional radiologic alternatives to chole...\\nMesial temporal sclerosis: pathogenesis, diagno...\\nFactors associated with recurrent myocardial in...\\nRecent life change and large bowel cancer. Data...\\nNumb chin syndrome secondary to Burkitt\\'s cell ...\\nCerebral venous thrombosis: new causes for an o...\\nInfective endocarditis and an embolomycotic ane...\\nVentricular ectopy: significance and management...\\nHairless micropig skin. A novel model for studi...\\nUnusual malignant neoplasms of the esophagus. O...\\nAdaptation to ischemia during percutaneous tran...\\nColor Doppler imaging. A new noninvasive techni...\\nUrinary tract re-functionalization after long-t...\\nSignificance of U wave polarity in patients wit...\\nAbdominal wall pain: an alternative diagnosis. ...\\nCerebral malaria in children Cerebral malaria i...\\nGI symptoms, function, and psychophysiological ...\\nRole of surgery in antibiotic-induced pseudomem...\\nThe European experience with laparoscopic chole...\\nPontine supranuclear facial palsy. Two patients...\\nExpression of VLA-alpha 2, VLA-alpha 6, and VLA...\\nAcute myocardial infarction and chest pain synd...\\nUlcerative colitis and giant cell arteritis ass...\\nEssential tremor: clinical correlates in 350 pa...\\nHuman recombinant GM-CSF in allogeneic bone-mar...\\nPractice effects on the preprogramming of discr...\\nRenal artery stent placement with use of the Wa...\\nAssessment of Proplast-Teflon disc replacements...\\nThe prognosis of contact dermatitis. This artic...\\nRisk of cervical intraepithelial neoplasia in w...\\nRisk of gastric cancer after gastric surgery fo...\\nPreservation of regional myocardial function du...\\nDilated renal collecting systems: differentiati...\\nSurgical wound infection and cancer among the e...\\nHypertension as a risk factor for epilepsy afte...\\nOncocytic renal tubular adenoma (so-called onco...\\nLong-term outcome following anterior cerebral a...\\nLocal anesthesia for neonatal circumcisions: ar...\\nDepression in dementia of the Alzheimer type an...\\nNeuroendocrine carcinoid tumours of the breast:...\\nStandards for evaluating results of interventio...\\nUse of somatostatin for complications occurring...\\nRecurrent peritonitis: evidence for possible vi...\\nAge, sex, and road-use patterns of motor vehicu...\\nMaternal serum screening for aneuploid pregnanc...\\nDirect extension of laryngeal carcinoma to the ...\\nDevelopmental dyslexia in women: neuropathologi...\\nInteraction of sodium sensitivity and stress in...\\nThe recombinant immunotoxin anti-Tac(Fv)-Pseudo...\\nEffective intraperitoneal antiprotease therapy ...\\nSurgical voice restoration with the Blom-Singer...\\nMechanical cardiopulmonary support for refracto...\\nPotent toxicity of 2-chlorodeoxyadenosine towar...\\nChildhood deaths from toy balloons. We describe...\\nSurvivorship analysis of total knee arthroplast...\\nRadiologic staging of chest in testicular semin...\\nGenital herpes simplex virus infections. There ...\\nManagement of children with myelodysplasia: uro...\\nHeart and lung transplantation for terminal cys...\\nThrombolytic therapy for noncoronary diseases. ...\\nTransplant coronary artery disease: histopathol...\\nExperience with cardiopulmonary bypass and deep...\\nCarcinoma of the ductus choledochus. A retrospe...\\nDetection of human papillomavirus-genomic DNA i...\\nSuppression of tumorigenicity in human colon ca...\\nDeath, after swallowing and aspiration of a hig...\\nTreatment of adenocarcinoma of the cardia with ...\\nConstitutional symptoms in patients with germ c...\\nRole of new anticoagulants as adjunctive therap...\\nCavernous-carotid thrombosis and ocular motor p...\\nEdgar J Poth lecture. Pathogenesis, diagnosis, ...\\nEstablishment of an erythroid cell line (JK-1) ...\\nSpinal cord injuries. Clinical, functional, and...\\nAnalysis of side-effects of medium- and low-dos...\\nSomatostatin prevents acute pancreatitis after ...\\nMefloquine kinetics in cured and recrudescent p...\\nHigh incidence of hepatitis B infection and evo...\\nInvasive papillary carcinoma of the breast: mam...\\nImmediate and follow-up results of balloon angi...\\nHLA class II (DR and DQ) antigen associations i...\\nThe effect of the gastrin receptor antagonist p...\\nAcute aortic valvular incompetence following bl...\\nA three-year retrospective study of synovectomi...\\nA prospective study of aspirin\\'s effect on red ...\\nScleroderma and L-tryptophan: a possible explan...\\nEndoscopic transpapillary therapy for disrupted...\\nInflammatory myofibroblastic tumor (plasma cell...\\nLocalization of calcitonin gene-related peptide...\\nThe medical necessity of evaluation and treatme...\\nNeuropsychological assessment of cognitive func...\\nCytologic patterns in juice from human pancreat...\\nHomocystinuria presenting as central retinal ar...\\nPerianal abscess and fistula-in-ano in children...\\nComparison of DNA content in gastric cancer cel...\\nGlucosephosphate isomerase as a CSF marker for ...\\nLiver pathology in morbidly obese patients with...\\nAlterations in left ventricular diastolic twist...\\nLong-term follow-up of cemented total hip arthr...\\nWhen is polypectomy sufficient treatment for co...\\nDisproportionate septal hypertrophy associated ...\\nDNA aneuploidy in follicular thyroid neoplasia....\\nThrombus in a natural left ventricle during lef...\\nThe clinical course of residual carotid arteria...\\nClues to the electrocardiographic diagnosis of ...\\nRole of endogenous angiotensin II in the contro...\\nEndocrine function and morphological findings i...\\nSurgical treatment of low rectovaginal fistulas...\\nLaparoscopic cholecystectomy: an initial report...\\nThrough-knee amputation in high-risk patients w...\\nSubtle cerebellar phenotype in mice homozygous ...\\nLevels of mRNA for a putative kainate receptor ...\\nAspirin in the primary prevention of angina pec...\\nLesions in side branches of arteries having und...\\nAmpullary hamartoma: endoscopic diagnosis and t...\\nCauda equina syndrome after continuous spinal a...\\nCardiac disease in the alcoholic patient. Ethan...\\nA prospective randomized comparison of protract...\\nNew concepts in the treatment of stage D1 adeno...\\nLarge loop excision of the transformation zone ...\\nPlatelet activation by emotional stress in pati...\\nEarly diastolic clicks after the Fontan procedu...\\nRenal vein thrombosis. Initial manifestation of...\\nPrognostic significance of multimodality evoked...\\nUtility of upright tilt-table testing in the ev...\\nAlternating hepatic intra-arterial floxuridine ...\\nHemodialysis-associated febrile episodes: surve...\\nNd:YAG-laser in the microsurgery of frontobasal...\\nInduction of arthritis in rats by aqueous suspe...\\nThe role of infections in the rheumatic disease...\\nThe role of elective lymph node dissection in t...\\nSudden death in young competitive athletes: cli...\\nProliferating trichilemmal tumor: report of a c...\\nThe association of elevated plasma homocyst(e)i...\\nComparison of supraannular and subannular pledg...\\nInterleukin-2 therapy in patients with metastat...\\nCognitive deficits in children: adaptive behavi...\\nObstructive jaundice: use of expandable metal e...\\nAdjuvant chemotherapy of breast cancer. Many wo...\\nPrimary adenocarcinoma of the bladder: favorabl...\\nThe epidemiology of acute respiratory tract inf...\\nAntigen specific serum antibody response to Chl...\\nUterine rupture. Uterine rupture is a sudden, u...\\nClinical experience with the Palmaz-Schatz coro...\\nCancer in relatives of survivors of childhood s...\\nValve and great vessel stenosis: assessment wit...\\nSevere gastrointestinal hemorrhage in Crohn\\'s d...\\nGynecologic cancer in patients with subacute ce...\\nThe role of continued drinking in loss of porta...\\nComplement activation and use of a cell saver i...\\nInfective dermatitis of Jamaican children: a ma...\\nCentral neurogenic hyperventilation: pharmacolo...\\nOptimum results of the surgical treatment of ca...\\nTumor-associated neurological dysfunction preve...\\nTreatment of severe colitis in Behcet\\'s syndrom...\\nLimb salvage in pediatric surgery. The use of t...\\nSystemic and local administration of cyclospori...\\nSurgical resection of intrinsic brain stem lesi...\\nBacterial endocarditis presenting as acute myoc...\\nCumulative AIDS incidence and altered mortality...\\nOral manifestations of Crohn\\'s disease. An anal...\\nClinical and Doppler echocardiographic evaluati...\\nGranulocytic sarcoma presenting as an epidural ...\\nVenous stasis and vein lumen changes during sur...\\nIntramuscular hemangioma in the oral region: re...\\nPost-traumatic epilepsy: cellular mechanisms an...\\nA multifactorial analysis of mortality and morb...\\nSpontaneous rupture of the stomach in an adult....\\nEfficacy and safety of low- and high-dose sotal...\\nReturn to work for persons with traumatic brain...\\nModulatory action of adenosine on gastric funct...\\nEarly postoperative balloon coronary angioplast...\\nPrimary adenocarcinoma of the urinary bladder. ...\\nSingle-stage laryngotracheal reconstruction. Th...\\nRespiratory muscle strength and control of vent...\\nClinical efficacy of PTCA and identification of...\\nSecondary femoral-distal bypass. Thirty-nine se...\\nAetiology of pancreatic cancer Curative surgery...\\nInfluence of hypoxia on adrenergic modulation o...\\nVagal schwannoma associated with syncopal attac...\\nImproved access to lesions of the central skull...\\nCortical atrophy and cognitive performance in i...\\nMelanosis of the esophagus. An endoscopic, hist...\\nIncreasing the yield of ventricular tachycardia...\\nImmunopathological response to loose cementless...\\nHemolysis due to branch pulmonary stenosis afte...\\nInflammatory abdominal aortic aneurysm masquera...\\nCatabolic effects of high-dose corticosteroids ...\\nDNA analysis of neoplasia: an introduction for ...\\nDetection of duodenal gastrinomas by operative ...\\n7th nerve palsy after extradural blood patch. W...\\nPercutaneous thecoperitoneal shunt for syringom...\\nCorrelation between hyperthermoradiosensitivity...\\nProlonged anginal perceptual threshold in diabe...\\nDoes use of gastroepiploic artery graft increas...\\nFemur fracture with limb shortening causing occ...\\nTrichothiodystrophy with chronic neutropenia an...\\nFurther notes on Munchausen\\'s syndrome: a case ...\\nProtracted mononucleosis-like illness associate...\\nCemented total knee arthroplasty for gonarthros...\\nPersistent and recurrent hyperparathyroidism: a...\\nThyroid carcinoma with mixed tall-cell and colu...\\nCardiorespiratory effects of endoscopic esophag...\\nSpinal accessory nerve palsy: an unusual compli...\\nLack of transmission of the live attenuated var...\\nColonic volvulus as a complication of celiac sp...\\nAtherosclerotic cardiovascular disease and sudd...\\nTouch and surgical division of the anterior qua...\\nDaytime reduction of gastro-oesophageal reflux ...\\nContinuous postoperative regional analgesia by ...\\nParosteal osteosarcoma. Treatment by wide resec...\\nStrategies underlying the control of disordered...\\nComparison of a hybrid with an uncemented total...\\nExpressional potency of mRNAs encoding receptor...\\nGiant chest wall tumor resulting from tissue re...\\nThe tangled web of coronary risk factors. Altho...\\nThe influence of age vs peak serum concentratio...\\nRecurrent tension headache in adolescents treat...\\nMetastatic tumors of unknown origin. The clinic...\\nCoronary artery aneurysm without stenosis in as...\\nCentral adenoid cystic carcinoma of the mandibl...\\nUrinary retention due to sacral myeloradiculiti...\\nPreventive therapy of first gastrointestinal bl...\\nTreatment of patients with isolated axillary no...\\nCaffeine and ventricular arrhythmias. An electr...\\nEvaluation of the results of oesophagectomy for...\\nAn assessment and care planning strategy for nu...\\nNonrandom chromosomal abnormalities in primary ...\\nPhysiologic and pathologic alterations associat...\\nEvolution of fundic argyrophil cell hyperplasia...\\nEarly diagnosis and surgical intervention of ac...\\nA strategy to reduce infant mortality. Using ma...\\nGiardia lamblia infestation reveals underlying ...\\nPreventive therapy of first gastrointestinal bl...\\nPrevention of hypertension and vascular changes...\\nDegenerative aortic stenosis. One effect of the...\\nDetection of anti-Epstein-Barr virus trans-acti...\\nPsychosocial correlates of temporomandibular jo...\\nRadiotherapy for palliation of locally advanced...\\nMicrovascular sequestration of parasitized eryt...\\nLong-term results of surgical resection of loca...\\nDetecting lower motor neuron dysfunction of the...\\nPersistent rectal ulcer associated with human p...\\nSinus nodal dysfunction in young patients with ...\\nThe ileosigmoid knot. The ileosigmoid knot (ISK...\\nIntra-abdominal desmoid tumors in familial poly...\\nRight-to-left shunt across a patent foramen ova...\\nOxygen uptake and heart rate responses during h...\\nCholangiocarcinoma in association with multiple...\\nLocal-regional breast cancer recurrence followi...\\nChromogranin A: posttranslational modifications...\\nStudy of preneoplastic changes of liver cells b...\\nOcular motor abnormalities from head trauma. He...\\nStaging and follow-up of breast cancer patients...\\nOpioids in cerebrospinal fluid in hypotensive n...\\nTransferrin receptor activity as a marker in tr...\\nAspiration biopsy cytology of occult breast les...\\nCoarctation of the aorta. Coarctation of the ao...\\nMechanisms of vein graft atherosclerosis: LDL m...\\nEpitope mapping of human thyroglobulin. Heterog...\\nUnfading acral microlivedo. A discrete marker o...\\nCapillary leakage in inflammation. A study by v...\\nTrends in basal cell carcinoma, squamous cell c...\\nThe origin of epidermal melanocytes. Implicatio...\\nPostoperative lumbar spinal instability occurri...\\nInterferon antibodies may negate the antiviral ...\\nLipomatous hypertrophy of the interatrial septu...\\nEndosalpingosis as a cause of chronic pelvic pa...\\nRefractory parastomal ulcers: a multidisciplina...\\nDetecting arrhythmia by exercise electrocardiog...\\nSuccessful CPR in a severely hypothermic patien...\\nElevated intracranial pressure and computed tom...\\nBiotype as determinant of natural immunising ef...\\nTreatment of spinal cord compression by epidura...\\nComparison of FRTL-5 cell growth in vitro with ...\\nAcute deterioration of renal function associate...\\nThe fetus as a patient. Surgical considerations...\\nPotentially fatal asthma and syncope. A new var...\\nUpper tract tumours following cystectomy for bl...\\nHypertension, cigarette smoking, and the declin...\\nRectal bleeding. Patient delay in presentation....\\nVastus lateralis myocutaneous flap for reconstr...\\nTopical fibronectin and aprotinin for keratecto...\\nHepatocyte expression of HBcAg and serum HBeAg ...\\nFine surface structure of an intraspinal neuren...\\nToxicity of high-dose cytosine arabinoside in t...\\nEnd diastolic flow velocity just beneath the ao...\\nMultiple sclerosis and narcolepsy: possible sim...\\nCarcinosarcoma of the lung with hypertrophic pu...\\nVitrectomy retinotomy aspiration biopsy of chor...\\nHydroxyethyl starch pretreatment in bacteremic ...\\nNitrous oxide and epinephrine-induced arrhythmi...\\nDiffusion and binding of monoclonal antibody TN...\\nThe relationships among umbilical artery veloci...\\nUrothelial hyperplasia and neoplasia. III. Dete...\\nThe mec-4 gene is a member of a family of Caeno...\\nSynthesis of 70K stress protein by human leukoc...\\nEsophageal verrucous carcinoma: histologically ...\\nThe impact of physician compliance on screening...\\nHepatopathy-thrombocytopenia syndrome--a compli...\\nHemodynamic effects of nasal CPAP examined by D...\\nSimplified technique for control of femoral art...\\nEffects of neuro-developmental treatment and or...\\nDetermination of hepatitis B virus DNA in serum...\\nDiagnosis of acute rupture of the quadriceps te...\\nLocal failure and related complications after d...\\nVaginal bleeding in childhood and adolescence. ...\\nA prospective clinical evaluation of autogenous...\\nPremature alveolar bone loss in Erdheim-Chester...\\nChanges in cardiovascular homeostasis after inj...\\nMalignant melanoma of the oral cavity. A case r...\\nCan heart failure be prevented, delayed, or rev...\\nCoronary angiographic patterns in hypertensive ...\\nLimb-body wall complex with complete absence of...\\nA simple method to improve the accuracy of non-...\\nRelationship of ischemic heart disease to sudde...\\nA multifactorial analysis of mortality and morb...\\nMyocardial protein turnover in patients with co...\\nEvaluating oxygen delivery and oxygen utilizati...\\nManagement of aortobronchial fistula with graft...\\nTuberculous psoas muscle abscess following chem...\\nClinical evaluation of high-frequency (ultrason...\\nAntitumor activity of liposome-encapsulated dox...\\nAn unusual venous anomaly of the placenta. The ...'"
      ]
     },
     "execution_count": 3,
     "metadata": {},
     "output_type": "execute_result"
    }
   ],
   "source": [
    "# Read the test data\n",
    "import pandas as pd\n",
    "df = pd.read_csv('medical_tc_test.csv')\n",
    "\n",
    "\n",
    "# If you need to convert the DataFrame to a raw text format for whatever reason:\n",
    "text = df['medical_abstract'].to_string(index=False)\n",
    "dspy.settings.configure(lm=turbo)\n",
    "text"
   ]
  },
  {
   "cell_type": "code",
   "execution_count": 4,
   "metadata": {},
   "outputs": [
    {
     "name": "stdout",
     "output_type": "stream",
     "text": [
      "\n",
      "Total chunks: 578\n",
      "\n"
     ]
    }
   ],
   "source": [
    "from langchain.text_splitter import RecursiveCharacterTextSplitter\n",
    "\n",
    "character_splitter = RecursiveCharacterTextSplitter(\n",
    "    separators=[\"\\n\\n\", \"\\n\", \". \", \" \", \"\"],\n",
    "    chunk_size=256,\n",
    "    chunk_overlap=0\n",
    ")\n",
    "character_split_texts = character_splitter.split_text(text)\n",
    "\n",
    "print(f\"\\nTotal chunks: {len(character_split_texts)}\\n\")"
   ]
  },
  {
   "cell_type": "code",
   "execution_count": 5,
   "metadata": {},
   "outputs": [
    {
     "name": "stdout",
     "output_type": "stream",
     "text": [
      "\n",
      "Total chunks: 578\n"
     ]
    }
   ],
   "source": [
    "token_splitter = SentenceTransformersTokenTextSplitter(chunk_overlap=0, tokens_per_chunk=256)\n",
    "\n",
    "token_split_texts = []\n",
    "for text in character_split_texts:\n",
    "    token_split_texts += token_splitter.split_text(text)\n",
    "\n",
    "print(f\"\\nTotal chunks: {len(token_split_texts)}\")"
   ]
  },
  {
   "cell_type": "code",
   "execution_count": 6,
   "metadata": {},
   "outputs": [
    {
     "data": {
      "text/plain": [
       "'treatment of childhood angiomatous diseases wit... expression of major histocompatibility complex... questionable role of cns radioprophylaxis in th... reversibility of hepatic fibrosis in experiment... current status of duplex doppler ultrasound in...'"
      ]
     },
     "execution_count": 6,
     "metadata": {},
     "output_type": "execute_result"
    }
   ],
   "source": [
    "token_split_texts[1]"
   ]
  },
  {
   "cell_type": "code",
   "execution_count": 7,
   "metadata": {},
   "outputs": [
    {
     "name": "stdout",
     "output_type": "stream",
     "text": [
      "Length of embedding:\n"
     ]
    },
    {
     "data": {
      "application/vnd.jupyter.widget-view+json": {
       "model_id": "06b20df09a294e6a80bd61ce96c1d2f3",
       "version_major": 2,
       "version_minor": 0
      },
      "text/plain": [
       "Batches:   0%|          | 0/1 [00:00<?, ?it/s]"
      ]
     },
     "metadata": {},
     "output_type": "display_data"
    },
    {
     "name": "stdout",
     "output_type": "stream",
     "text": [
      "384\n"
     ]
    }
   ],
   "source": [
    "embedding_function = SentenceTransformerEmbeddingFunction()\n",
    "print(\"Length of embedding:\")\n",
    "print(len(embedding_function([token_split_texts[0]])[0]))"
   ]
  },
  {
   "cell_type": "code",
   "execution_count": 8,
   "metadata": {},
   "outputs": [],
   "source": [
    "chroma_client = chromadb.PersistentClient(\"local_chroma.db\")"
   ]
  },
  {
   "cell_type": "code",
   "execution_count": 9,
   "metadata": {},
   "outputs": [],
   "source": [
    "# Create a new collection\n",
    "\n",
    "chroma_collection = chroma_client.get_or_create_collection(\"test-medical_abstract_collection\", embedding_function=embedding_function)\n",
    "\n",
    "ids = [str(i) for i in range(len(token_split_texts))]"
   ]
  },
  {
   "cell_type": "code",
   "execution_count": 10,
   "metadata": {},
   "outputs": [
    {
     "data": {
      "application/vnd.jupyter.widget-view+json": {
       "model_id": "c6863478188b42cca8ffd826bbba6643",
       "version_major": 2,
       "version_minor": 0
      },
      "text/plain": [
       "Batches:   0%|          | 0/19 [00:00<?, ?it/s]"
      ]
     },
     "metadata": {},
     "output_type": "display_data"
    }
   ],
   "source": [
    "chroma_collection.add(ids=ids, documents=token_split_texts)"
   ]
  },
  {
   "cell_type": "code",
   "execution_count": 11,
   "metadata": {},
   "outputs": [
    {
     "data": {
      "text/plain": [
       "[Collection(name=test-medical_abstract_collection)]"
      ]
     },
     "execution_count": 11,
     "metadata": {},
     "output_type": "execute_result"
    }
   ],
   "source": [
    "chroma_client.list_collections()"
   ]
  },
  {
   "cell_type": "code",
   "execution_count": null,
   "metadata": {},
   "outputs": [],
   "source": [
    "chroma_client.list_collections()"
   ]
  },
  {
   "cell_type": "code",
   "execution_count": 12,
   "metadata": {},
   "outputs": [
    {
     "data": {
      "text/plain": [
       "{'ids': ['0'],\n",
       " 'embeddings': [[-0.05739233270287514,\n",
       "   -0.026065049692988396,\n",
       "   0.025520015507936478,\n",
       "   -0.01608973555266857,\n",
       "   -0.1337699145078659,\n",
       "   -0.03625405579805374,\n",
       "   -0.03604433313012123,\n",
       "   0.1593852937221527,\n",
       "   -0.019802089780569077,\n",
       "   0.009291920810937881,\n",
       "   -0.015202006325125694,\n",
       "   -0.017199542373418808,\n",
       "   0.0726933404803276,\n",
       "   0.07681836187839508,\n",
       "   -0.0880700945854187,\n",
       "   0.04864553362131119,\n",
       "   -0.02266610972583294,\n",
       "   0.029413221403956413,\n",
       "   0.1520378738641739,\n",
       "   -0.01761646941304207,\n",
       "   -0.004725049715489149,\n",
       "   0.1467331349849701,\n",
       "   -0.023301294073462486,\n",
       "   -0.04613426700234413,\n",
       "   -0.009664880111813545,\n",
       "   -0.01699734665453434,\n",
       "   -0.022988280281424522,\n",
       "   0.046910300850868225,\n",
       "   0.0511341318488121,\n",
       "   0.019145147874951363,\n",
       "   -0.06288857012987137,\n",
       "   0.09893061220645905,\n",
       "   -0.14823494851589203,\n",
       "   0.006717968266457319,\n",
       "   0.122281014919281,\n",
       "   0.06078067049384117,\n",
       "   -0.09140251576900482,\n",
       "   0.049731604754924774,\n",
       "   -0.053235068917274475,\n",
       "   0.020478282123804092,\n",
       "   0.09479012340307236,\n",
       "   -0.047383807599544525,\n",
       "   -0.03353084996342659,\n",
       "   0.012455319985747337,\n",
       "   0.03800150007009506,\n",
       "   0.00824158638715744,\n",
       "   -0.040303200483322144,\n",
       "   0.003528224304318428,\n",
       "   0.009045248851180077,\n",
       "   0.08808474242687225,\n",
       "   -0.07935261726379395,\n",
       "   0.000346461427398026,\n",
       "   -0.012290013954043388,\n",
       "   0.06546197831630707,\n",
       "   -0.012087203562259674,\n",
       "   0.030383581295609474,\n",
       "   -0.11550184339284897,\n",
       "   -0.035363100469112396,\n",
       "   -0.0006003615562804043,\n",
       "   -0.013626898638904095,\n",
       "   -0.0606747642159462,\n",
       "   -0.0022617392241954803,\n",
       "   0.007381485775113106,\n",
       "   -0.022960472851991653,\n",
       "   0.04212329536676407,\n",
       "   0.02114783599972725,\n",
       "   -0.0028656760696321726,\n",
       "   -0.06660338491201401,\n",
       "   0.010354106314480305,\n",
       "   0.018471786752343178,\n",
       "   -0.02823364920914173,\n",
       "   -0.05456758663058281,\n",
       "   0.00925756897777319,\n",
       "   -0.03492674231529236,\n",
       "   -0.13010579347610474,\n",
       "   0.020142823457717896,\n",
       "   0.038401614874601364,\n",
       "   -0.13110212981700897,\n",
       "   -0.01943625509738922,\n",
       "   -0.025772614404559135,\n",
       "   0.12636657059192657,\n",
       "   0.08806025981903076,\n",
       "   0.006491888780146837,\n",
       "   -0.007693199906498194,\n",
       "   0.08821716159582138,\n",
       "   0.06816962361335754,\n",
       "   0.07750717550516129,\n",
       "   0.03295709565281868,\n",
       "   -0.09348829835653305,\n",
       "   0.06150394305586815,\n",
       "   -0.004965039435774088,\n",
       "   0.007346503436565399,\n",
       "   0.01502229180186987,\n",
       "   -0.06329058110713959,\n",
       "   0.010219341143965721,\n",
       "   -0.0014469448942691088,\n",
       "   -0.048003602772951126,\n",
       "   0.030960507690906525,\n",
       "   0.027105607092380524,\n",
       "   -0.0006039651925675571,\n",
       "   -0.02675504796206951,\n",
       "   0.0009120444301515818,\n",
       "   -0.0010502099758014083,\n",
       "   0.011356135830283165,\n",
       "   -0.015062053687870502,\n",
       "   0.00964309275150299,\n",
       "   0.05812089517712593,\n",
       "   -0.10142194479703903,\n",
       "   -0.03077385574579239,\n",
       "   0.016137953847646713,\n",
       "   -0.02953352779150009,\n",
       "   0.06488743424415588,\n",
       "   -0.017940426245331764,\n",
       "   -0.08325023204088211,\n",
       "   0.006755438633263111,\n",
       "   0.12023439258337021,\n",
       "   0.009071731939911842,\n",
       "   0.03664390742778778,\n",
       "   0.024737339466810226,\n",
       "   -0.029253805056214333,\n",
       "   0.013034454546868801,\n",
       "   -0.051607631146907806,\n",
       "   -0.003524897852912545,\n",
       "   -0.12450116127729416,\n",
       "   0.08551672101020813,\n",
       "   -0.017755774781107903,\n",
       "   -0.017438609153032303,\n",
       "   1.6650833398359547e-33,\n",
       "   0.027004424482584,\n",
       "   0.012124604545533657,\n",
       "   -0.019096899777650833,\n",
       "   0.040084075182676315,\n",
       "   -0.04646655544638634,\n",
       "   0.04711410030722618,\n",
       "   0.04403596743941307,\n",
       "   0.051059573888778687,\n",
       "   -0.045388687402009964,\n",
       "   0.01946880668401718,\n",
       "   -0.04949397221207619,\n",
       "   0.010816214606165886,\n",
       "   0.05953744053840637,\n",
       "   0.07706514000892639,\n",
       "   -0.07667297124862671,\n",
       "   -0.008548654615879059,\n",
       "   0.0014183183666318655,\n",
       "   0.05087853968143463,\n",
       "   -0.043952543288469315,\n",
       "   -0.06854801625013351,\n",
       "   0.017640503123402596,\n",
       "   0.021283498033881187,\n",
       "   0.018467796966433525,\n",
       "   0.01567162200808525,\n",
       "   -0.09673567861318588,\n",
       "   -0.028387241065502167,\n",
       "   -0.036487288773059845,\n",
       "   0.031716298311948776,\n",
       "   0.07129350304603577,\n",
       "   -0.01210358738899231,\n",
       "   -0.008916557766497135,\n",
       "   -0.04251443222165108,\n",
       "   -0.013098128139972687,\n",
       "   0.021782439202070236,\n",
       "   0.05323387309908867,\n",
       "   0.09234992414712906,\n",
       "   0.009433294646441936,\n",
       "   -0.006302963476628065,\n",
       "   -0.02958071418106556,\n",
       "   0.04244527965784073,\n",
       "   -0.10671184957027435,\n",
       "   0.05138149484992027,\n",
       "   0.017926689237356186,\n",
       "   -0.06908781081438065,\n",
       "   0.004737367387861013,\n",
       "   -0.09578591585159302,\n",
       "   -0.08467564731836319,\n",
       "   -0.06628398597240448,\n",
       "   -0.049486640840768814,\n",
       "   -0.01957937516272068,\n",
       "   0.04930519312620163,\n",
       "   -0.013790175318717957,\n",
       "   0.036325421184301376,\n",
       "   -0.04004703462123871,\n",
       "   0.009872548282146454,\n",
       "   -0.01666194014251232,\n",
       "   -0.05222195386886597,\n",
       "   -0.001528443768620491,\n",
       "   -0.0036064989399164915,\n",
       "   0.08950742334127426,\n",
       "   0.009589791297912598,\n",
       "   -0.07139943540096283,\n",
       "   -0.07644008845090866,\n",
       "   -0.02775973081588745,\n",
       "   0.009947992861270905,\n",
       "   -0.018063025549054146,\n",
       "   -0.05658833682537079,\n",
       "   -0.052627306431531906,\n",
       "   -0.016251763328909874,\n",
       "   -0.03305400535464287,\n",
       "   0.03595957159996033,\n",
       "   0.005368536338210106,\n",
       "   0.012062177993357182,\n",
       "   0.047434933483600616,\n",
       "   0.014975417405366898,\n",
       "   0.04341791197657585,\n",
       "   0.024854687973856926,\n",
       "   0.0703582838177681,\n",
       "   -0.08092518150806427,\n",
       "   -0.036427613347768784,\n",
       "   -0.011570215225219727,\n",
       "   -0.016925888136029243,\n",
       "   0.06209706887602806,\n",
       "   0.03984900191426277,\n",
       "   0.0671076700091362,\n",
       "   -0.022967159748077393,\n",
       "   0.04014011472463608,\n",
       "   0.038181740790605545,\n",
       "   -0.013826301321387291,\n",
       "   -0.03817830979824066,\n",
       "   0.02163112536072731,\n",
       "   -0.019161544740200043,\n",
       "   -0.08399627357721329,\n",
       "   0.0060296435840427876,\n",
       "   0.011631178669631481,\n",
       "   -1.793435384331248e-33,\n",
       "   0.0025280374102294445,\n",
       "   0.0550815649330616,\n",
       "   -0.011506857350468636,\n",
       "   -0.042138732969760895,\n",
       "   -0.06385218352079391,\n",
       "   0.053045667707920074,\n",
       "   -0.0006768807652406394,\n",
       "   0.06617303192615509,\n",
       "   0.04124804958701134,\n",
       "   0.04491725191473961,\n",
       "   0.1202365830540657,\n",
       "   0.029635751619935036,\n",
       "   -0.03421073406934738,\n",
       "   -0.09612584859132767,\n",
       "   -0.03133309632539749,\n",
       "   -0.06436184048652649,\n",
       "   -0.04951457679271698,\n",
       "   -0.010892689228057861,\n",
       "   -0.057727426290512085,\n",
       "   0.059873830527067184,\n",
       "   -0.02842024154961109,\n",
       "   0.12261909991502762,\n",
       "   0.01270751841366291,\n",
       "   -0.03536137565970421,\n",
       "   0.06505757570266724,\n",
       "   0.08300727605819702,\n",
       "   -0.012982580810785294,\n",
       "   0.022397562861442566,\n",
       "   -0.04403004050254822,\n",
       "   0.04153621569275856,\n",
       "   -0.038292452692985535,\n",
       "   -0.007355688605457544,\n",
       "   -0.0544392392039299,\n",
       "   -0.017131755128502846,\n",
       "   0.027744732797145844,\n",
       "   0.03381288796663284,\n",
       "   -0.02208034135401249,\n",
       "   -0.03372934088110924,\n",
       "   0.003498371224850416,\n",
       "   0.005291835870593786,\n",
       "   0.05022013187408447,\n",
       "   0.008602113462984562,\n",
       "   0.05448167771100998,\n",
       "   0.03432609513401985,\n",
       "   0.11005516350269318,\n",
       "   0.05357570946216583,\n",
       "   -0.08753777295351028,\n",
       "   -0.03485947847366333,\n",
       "   0.039850473403930664,\n",
       "   -0.02871795929968357,\n",
       "   0.024132372811436653,\n",
       "   0.04562143608927727,\n",
       "   -0.0030122390016913414,\n",
       "   0.02251102402806282,\n",
       "   0.02237597294151783,\n",
       "   -0.00023204860917758197,\n",
       "   -0.017515286803245544,\n",
       "   -0.05238931253552437,\n",
       "   0.008417345583438873,\n",
       "   -0.013813339173793793,\n",
       "   0.11960546672344208,\n",
       "   -0.04107552021741867,\n",
       "   -0.05653958022594452,\n",
       "   -0.043086208403110504,\n",
       "   0.08190692961215973,\n",
       "   0.08671139925718307,\n",
       "   0.01242916751652956,\n",
       "   -0.04717327654361725,\n",
       "   -0.026449071243405342,\n",
       "   0.01315332017838955,\n",
       "   -0.05882646515965462,\n",
       "   0.06898006051778793,\n",
       "   -0.02826598659157753,\n",
       "   -0.004282117821276188,\n",
       "   -0.014996004290878773,\n",
       "   -0.06401713937520981,\n",
       "   -0.0309158768504858,\n",
       "   0.041120972484350204,\n",
       "   0.05604277551174164,\n",
       "   -0.001992176054045558,\n",
       "   0.06705860793590546,\n",
       "   -0.039588551968336105,\n",
       "   0.007780917454510927,\n",
       "   -0.007799028884619474,\n",
       "   -0.0038413358852267265,\n",
       "   -0.00795384868979454,\n",
       "   0.017793873324990273,\n",
       "   0.0013958446215838194,\n",
       "   0.041293688118457794,\n",
       "   -0.06487151235342026,\n",
       "   -0.05055497959256172,\n",
       "   0.02066541649401188,\n",
       "   -0.07175496220588684,\n",
       "   0.05994248390197754,\n",
       "   -0.015949180349707603,\n",
       "   -4.835810329950618e-08,\n",
       "   0.08999689668416977,\n",
       "   -0.10272647440433502,\n",
       "   -0.04288828745484352,\n",
       "   -0.06222561374306679,\n",
       "   -0.06412429362535477,\n",
       "   -0.06431043148040771,\n",
       "   -0.040308624505996704,\n",
       "   0.006639349274337292,\n",
       "   0.07266902178525925,\n",
       "   0.04429728165268898,\n",
       "   -0.011367837898433208,\n",
       "   0.017720801755785942,\n",
       "   0.042747385799884796,\n",
       "   -0.05258692800998688,\n",
       "   -0.002501534065231681,\n",
       "   0.05324084311723709,\n",
       "   -0.02046964131295681,\n",
       "   0.05805881321430206,\n",
       "   -0.04311089590191841,\n",
       "   -0.03695019334554672,\n",
       "   -0.010252303443849087,\n",
       "   0.011110437102615833,\n",
       "   -0.04207852855324745,\n",
       "   0.0703224465250969,\n",
       "   0.09687935560941696,\n",
       "   0.010661889798939228,\n",
       "   0.030114037916064262,\n",
       "   -0.009586535394191742,\n",
       "   -0.0007694521336816251,\n",
       "   -0.06040521338582039,\n",
       "   0.004038549028337002,\n",
       "   -0.0049194167368113995,\n",
       "   -0.037572406232357025,\n",
       "   0.01805623061954975,\n",
       "   -0.09809555113315582,\n",
       "   0.02234167978167534,\n",
       "   0.06663791835308075,\n",
       "   -0.01704188622534275,\n",
       "   0.009623853489756584,\n",
       "   0.025200465694069862,\n",
       "   -0.03017737716436386,\n",
       "   -0.05189787968993187,\n",
       "   -0.042022719979286194,\n",
       "   -0.002877728082239628,\n",
       "   -0.01315087080001831,\n",
       "   0.004702143836766481,\n",
       "   0.038064733147621155,\n",
       "   -0.01587364636361599,\n",
       "   0.01798776350915432,\n",
       "   -0.056319862604141235,\n",
       "   -0.01766030304133892,\n",
       "   0.006377076730132103,\n",
       "   0.028648214414715767,\n",
       "   -0.032448120415210724,\n",
       "   -0.07794277369976044,\n",
       "   -0.00902401190251112,\n",
       "   0.024905573576688766,\n",
       "   -0.024815993383526802,\n",
       "   -0.049127690494060516,\n",
       "   -0.09656348824501038,\n",
       "   -0.02512236125767231,\n",
       "   -0.02405441366136074,\n",
       "   0.09914731979370117,\n",
       "   0.052017003297805786]],\n",
       " 'metadatas': [None],\n",
       " 'documents': ['obstructive sleep apnea following topical oroph... neutrophil function and pyogenic infections in... a phase ii study of combined methotrexate and t... flow cytometric dna analysis of parathyroid tum... paraneoplastic vasculitic neuropathy : a treatab...'],\n",
       " 'uris': None,\n",
       " 'data': None}"
      ]
     },
     "execution_count": 12,
     "metadata": {},
     "output_type": "execute_result"
    }
   ],
   "source": [
    "chroma_collection.peek(1)"
   ]
  },
  {
   "cell_type": "code",
   "execution_count": 13,
   "metadata": {},
   "outputs": [
    {
     "data": {
      "application/vnd.jupyter.widget-view+json": {
       "model_id": "d79f576635f94c1cb5ae114358ec70e0",
       "version_major": 2,
       "version_minor": 0
      },
      "text/plain": [
       "Batches:   0%|          | 0/1 [00:00<?, ?it/s]"
      ]
     },
     "metadata": {},
     "output_type": "display_data"
    },
    {
     "name": "stdout",
     "output_type": "stream",
     "text": [
      "Query: What is obstructive sleep apnea?\n",
      "\n",
      "Retrieved 2 documents\n",
      "\n"
     ]
    }
   ],
   "source": [
    "query = \"What is obstructive sleep apnea?\"\n",
    "\n",
    "results = chroma_collection.query(query_texts=[query], n_results=2)\n",
    "retrieved_documents = results['documents'][0]\n",
    "print(f\"Query: {query}\")\n",
    "print(f\"\\nRetrieved {len(retrieved_documents)} documents\\n\")"
   ]
  },
  {
   "cell_type": "code",
   "execution_count": 18,
   "metadata": {},
   "outputs": [
    {
     "name": "stdout",
     "output_type": "stream",
     "text": [
      "systemic hypertension in sleep apnea syndrome.... interruption of\n",
      "critical aortoiliac collateral... estimating and testing an index of\n",
      "responsivene... prophylaxis of aphakic cystoid macular edema wi...\n",
      "carotid - esophageal fistula following a penetrat...\n",
      "\n",
      "\n",
      "otolaryngologic management of patients with sub... esophageal\n",
      "adenocarcinoma in a patient with sur... serological arguments for\n",
      "classifying raynaud's... management of chronic middle ear effusion\n",
      "with... arterial oxygen saturation during induction of...\n",
      "\n",
      "\n"
     ]
    }
   ],
   "source": [
    "for docs in retrieved_documents:\n",
    "    print(format_text_to_width(docs))\n",
    "    print(\"\\n\")"
   ]
  },
  {
   "cell_type": "code",
   "execution_count": 19,
   "metadata": {},
   "outputs": [],
   "source": [
    "turbo = dspy.OpenAI(model='gpt-3.5-turbo')\n",
    "dspy.settings.configure(lm=turbo)"
   ]
  },
  {
   "cell_type": "code",
   "execution_count": 20,
   "metadata": {},
   "outputs": [],
   "source": [
    "class GenerateAnswer(dspy.Signature):\n",
    "    \"\"\"Answer questions with short factoid answers.\"\"\"\n",
    "\n",
    "    context = dspy.InputField(desc=\"may contain relevant facts\")\n",
    "    question = dspy.InputField()\n",
    "    answer = dspy.OutputField(desc=\"Explain with words between 1 and 10 words\")"
   ]
  },
  {
   "cell_type": "code",
   "execution_count": 27,
   "metadata": {},
   "outputs": [
    {
     "data": {
      "text/plain": [
       "[Collection(name=test-medical_abstract_collection)]"
      ]
     },
     "execution_count": 27,
     "metadata": {},
     "output_type": "execute_result"
    }
   ],
   "source": [
    "chroma_client.list_collections()"
   ]
  },
  {
   "cell_type": "code",
   "execution_count": 28,
   "metadata": {},
   "outputs": [],
   "source": [
    "# Modifying the default RAG module because it doesn't work with the SentenceTransformerEmbeddingFunction\n",
    "class MedicalAbstractRag(dspy.Module):\n",
    "    def __init__(self, num_passages=3):\n",
    "        super().__init__()\n",
    "        self.chroma_collection = chroma_client.get_collection(\"test-medical_abstract_collection\")\n",
    "        self.generate_answer = dspy.ChainOfThought(GenerateAnswer)\n",
    "        self.num_passages = num_passages\n",
    "    \n",
    "    def forward(self, question):\n",
    "        context = self.chroma_collection.query(query_texts=[question], n_results=self.num_passages)\n",
    "        context = context['documents']\n",
    "        prediction = self.generate_answer(context=context, question=question)\n",
    "        return dspy.Prediction(context=context, answer=prediction.answer)"
   ]
  },
  {
   "cell_type": "code",
   "execution_count": 29,
   "metadata": {},
   "outputs": [],
   "source": [
    "rag = MedicalAbstractRag(num_passages=3)"
   ]
  },
  {
   "cell_type": "code",
   "execution_count": 30,
   "metadata": {},
   "outputs": [
    {
     "name": "stderr",
     "output_type": "stream",
     "text": [
      "C:\\Users\\Hem Chandra\\.cache\\chroma\\onnx_models\\all-MiniLM-L6-v2\\onnx.tar.gz: 100%|██████████| 79.3M/79.3M [02:49<00:00, 490kiB/s] \n"
     ]
    },
    {
     "data": {
      "text/plain": [
       "Prediction(\n",
       "    context=[['systemic hypertension in sleep apnea syndrome.... interruption of critical aortoiliac collateral... estimating and testing an index of responsivene... prophylaxis of aphakic cystoid macular edema wi... carotid - esophageal fistula following a penetrat...', 'predicting recurrence time of esophageal carcin... the use of ultrasound in evaluating neurologic... control of total peripheral resistance during h... disturbance in daily sleep / wake patterns in pat... percent tumor necrosis as a predictor of treatm...', 'bretylium tosylate versus lidocaine in experime... wrist flexion as an adjunct to the diagnosis of... apneic oxygenation in apnea tests for brain dea... response of spinal cord blood flow and motor an... extensive aneurysmal bone cyst of the mandible :...']],\n",
       "    answer='Breathing disorder during sleep.'\n",
       ")"
      ]
     },
     "execution_count": 30,
     "metadata": {},
     "output_type": "execute_result"
    }
   ],
   "source": [
    "question = \"What is sleep apnea?\"\n",
    "rag(question)"
   ]
  },
  {
   "cell_type": "code",
   "execution_count": 31,
   "metadata": {},
   "outputs": [
    {
     "name": "stdout",
     "output_type": "stream",
     "text": [
      "\n",
      "\n",
      "\n",
      "\n",
      "Answer questions with short factoid answers.\n",
      "\n",
      "---\n",
      "\n",
      "Follow the following format.\n",
      "\n",
      "Context: may contain relevant facts\n",
      "\n",
      "Question: ${question}\n",
      "\n",
      "Reasoning: Let's think step by step in order to ${produce the answer}. We ...\n",
      "\n",
      "Answer: Explain with words between 1 and 10 words\n",
      "\n",
      "---\n",
      "\n",
      "Context: «['systemic hypertension in sleep apnea syndrome.... interruption of critical aortoiliac collateral... estimating and testing an index of responsivene... prophylaxis of aphakic cystoid macular edema wi... carotid - esophageal fistula following a penetrat...', 'predicting recurrence time of esophageal carcin... the use of ultrasound in evaluating neurologic... control of total peripheral resistance during h... disturbance in daily sleep / wake patterns in pat... percent tumor necrosis as a predictor of treatm...', 'bretylium tosylate versus lidocaine in experime... wrist flexion as an adjunct to the diagnosis of... apneic oxygenation in apnea tests for brain dea... response of spinal cord blood flow and motor an... extensive aneurysmal bone cyst of the mandible :...']»\n",
      "\n",
      "Question: What is sleep apnea?\n",
      "\n",
      "Reasoning: Let's think step by step in order to\u001b[32m define sleep apnea.\n",
      "\n",
      "Answer: Breathing disorder during sleep.\u001b[0m\n",
      "\n",
      "\n",
      "\n"
     ]
    }
   ],
   "source": [
    "turbo.inspect_history(n=1)"
   ]
  },
  {
   "cell_type": "markdown",
   "metadata": {},
   "source": [
    "## Now using the RAG used in the db_retriever_module.py"
   ]
  },
  {
   "cell_type": "code",
   "execution_count": 32,
   "metadata": {},
   "outputs": [],
   "source": [
    "import sys\n",
    "import os\n",
    "\n",
    "# Add the parent directory to sys.path to allow importing from the same level as 'Evaluation'\n",
    "sys.path.append(os.path.abspath(os.path.join(os.getcwd(), os.pardir)))\n",
    "\n",
    "# Now you can import the module abc as if it were in the same directory\n",
    "import db_retriever_module\n"
   ]
  },
  {
   "cell_type": "code",
   "execution_count": null,
   "metadata": {},
   "outputs": [],
   "source": [
    "chroma_rm = db_retriever_module.ChromadbRetrieverModule(db_collection_name=\"medical_abstract_data_collection\",\n",
    "                                                        persist_directory=\"local_chroma.db\", \n",
    "                                                        local_embed_model=\"sentence-transformers/paraphrase-MiniLM-L6-v2\",\n",
    "                                                        api_key=os.environ[\"OPENAI_API_KEY\"])"
   ]
  },
  {
   "cell_type": "code",
   "execution_count": null,
   "metadata": {},
   "outputs": [],
   "source": [
    "dspy.settings.configure(lm=turbo, rm=chroma_rm)"
   ]
  },
  {
   "cell_type": "code",
   "execution_count": null,
   "metadata": {},
   "outputs": [],
   "source": [
    "class RAG(dspy.Module):\n",
    "    def __init__(self, num_passages=3):\n",
    "        super().__init__()\n",
    "        self.retrieve = dspy.Retrieve(k=num_passages)\n",
    "        self.generate_answer = dspy.ChainOfThought(GenerateAnswer)\n",
    "    \n",
    "    def forward(self, question):\n",
    "        context = self.retrieve(question).passages\n",
    "        prediction = self.generate_answer(context=context, question=question)\n",
    "        return dspy.Prediction(context=context, answer=prediction.answer)"
   ]
  },
  {
   "cell_type": "code",
   "execution_count": null,
   "metadata": {},
   "outputs": [],
   "source": [
    "rag = RAG(num_passages=3)\n",
    "question = \"What is sleep apnea?\"\n",
    "rag(question)"
   ]
  },
  {
   "cell_type": "code",
   "execution_count": 35,
   "metadata": {},
   "outputs": [
    {
     "data": {
      "application/vnd.jupyter.widget-view+json": {
       "model_id": "a71a275c3e1c4ae383b344f52060577d",
       "version_major": 2,
       "version_minor": 0
      },
      "text/plain": [
       "Downloading builder script:   0%|          | 0.00/6.42k [00:00<?, ?B/s]"
      ]
     },
     "metadata": {},
     "output_type": "display_data"
    },
    {
     "data": {
      "application/vnd.jupyter.widget-view+json": {
       "model_id": "8261fa6063504df88b47a6d660386d1e",
       "version_major": 2,
       "version_minor": 0
      },
      "text/plain": [
       "Downloading readme:   0%|          | 0.00/9.19k [00:00<?, ?B/s]"
      ]
     },
     "metadata": {},
     "output_type": "display_data"
    },
    {
     "data": {
      "application/vnd.jupyter.widget-view+json": {
       "model_id": "639e6f09eb40492bbc316e26e2a4c96b",
       "version_major": 2,
       "version_minor": 0
      },
      "text/plain": [
       "Downloading data files:   0%|          | 0/3 [00:00<?, ?it/s]"
      ]
     },
     "metadata": {},
     "output_type": "display_data"
    },
    {
     "data": {
      "application/vnd.jupyter.widget-view+json": {
       "model_id": "c13ef81a9114497295d822bd0f904bf9",
       "version_major": 2,
       "version_minor": 0
      },
      "text/plain": [
       "Downloading data:   0%|          | 0.00/566M [00:00<?, ?B/s]"
      ]
     },
     "metadata": {},
     "output_type": "display_data"
    },
    {
     "data": {
      "application/vnd.jupyter.widget-view+json": {
       "model_id": "fdacb90ecf824bedbcb6e9ea520a3945",
       "version_major": 2,
       "version_minor": 0
      },
      "text/plain": [
       "Downloading data:   0%|          | 0.00/47.5M [00:00<?, ?B/s]"
      ]
     },
     "metadata": {},
     "output_type": "display_data"
    },
    {
     "data": {
      "application/vnd.jupyter.widget-view+json": {
       "model_id": "56d4590ad65a4dacac7047eadb4a6bc1",
       "version_major": 2,
       "version_minor": 0
      },
      "text/plain": [
       "Downloading data:   0%|          | 0.00/46.2M [00:00<?, ?B/s]"
      ]
     },
     "metadata": {},
     "output_type": "display_data"
    },
    {
     "data": {
      "application/vnd.jupyter.widget-view+json": {
       "model_id": "af44baeb30c64db6b42a0983257ed0be",
       "version_major": 2,
       "version_minor": 0
      },
      "text/plain": [
       "Generating train split:   0%|          | 0/90447 [00:00<?, ? examples/s]"
      ]
     },
     "metadata": {},
     "output_type": "display_data"
    },
    {
     "data": {
      "application/vnd.jupyter.widget-view+json": {
       "model_id": "dce01622ce904bf99178924507fb062b",
       "version_major": 2,
       "version_minor": 0
      },
      "text/plain": [
       "Generating validation split:   0%|          | 0/7405 [00:00<?, ? examples/s]"
      ]
     },
     "metadata": {},
     "output_type": "display_data"
    },
    {
     "data": {
      "application/vnd.jupyter.widget-view+json": {
       "model_id": "b4c21eb39ffc4822802ccbd2e1b27f13",
       "version_major": 2,
       "version_minor": 0
      },
      "text/plain": [
       "Generating test split:   0%|          | 0/7405 [00:00<?, ? examples/s]"
      ]
     },
     "metadata": {},
     "output_type": "display_data"
    },
    {
     "name": "stderr",
     "output_type": "stream",
     "text": [
      "c:\\Users\\Hem Chandra\\AppData\\Local\\Programs\\Python\\Python311\\Lib\\site-packages\\datasets\\table.py:1421: FutureWarning: promote has been superseded by mode='default'.\n",
      "  table = cls._concat_blocks(blocks, axis=0)\n"
     ]
    },
    {
     "data": {
      "text/plain": [
       "(20, 50)"
      ]
     },
     "execution_count": 35,
     "metadata": {},
     "output_type": "execute_result"
    }
   ],
   "source": [
    "from dspy.datasets import HotPotQA\n",
    "\n",
    "# Load the dataset.\n",
    "dataset = HotPotQA(train_seed=1, train_size=20, eval_seed=2023, dev_size=50, test_size=0)\n",
    "\n",
    "# Tell DSPy that the 'question' field is the input. Any other fields are labels and/or metadata.\n",
    "trainset = [x.with_inputs('question') for x in dataset.train]\n",
    "devset = [x.with_inputs('question') for x in dataset.dev]\n",
    "\n",
    "len(trainset), len(devset)"
   ]
  },
  {
   "cell_type": "code",
   "execution_count": null,
   "metadata": {},
   "outputs": [],
   "source": [
    "from dspy.teleprompt import BootstrapFewShot\n",
    "\n",
    "# Validation logic: check that the predicted answer is correct.\n",
    "# Also check that the retrieved context does actually contain that answer.\n",
    "def check_answer_and_context_validity(example, pred, trace=None):\n",
    "    answer_EM = dspy.evaluate.answer_exact_match(example, pred)\n",
    "    answer_PM = dspy.evaluate.answer_passage_match(example, pred)\n",
    "    return answer_EM and answer_PM\n",
    "\n",
    "# Set up a basic teleprompter, which will compile our RAG program.\n",
    "teleprompter = BootstrapFewShot(metric=check_answer_and_context_validity)\n",
    "\n",
    "# Compile!\n",
    "compiled_rag = teleprompter.compile(RAG(), trainset=trainset)"
   ]
  },
  {
   "cell_type": "code",
   "execution_count": null,
   "metadata": {},
   "outputs": [],
   "source": [
    "# Ask any question you like to this simple RAG program.\n",
    "my_question = \"What is obstructive sleep apnea?\"\n",
    "\n",
    "# Get the prediction. This contains `pred.context` and `pred.answer`.\n",
    "pred = compiled_rag(my_question)\n",
    "\n",
    "# Print the contexts and the answer.\n",
    "print(f\"Question: {my_question}\")\n",
    "print(f\"Predicted Answer: {pred.answer}\")\n",
    "print(f\"Retrieved Contexts (truncated): {[c[:200] + '...' for c in pred.context]}\")"
   ]
  },
  {
   "cell_type": "code",
   "execution_count": null,
   "metadata": {},
   "outputs": [],
   "source": [
    "turbo.inspect_history(n=1)"
   ]
  },
  {
   "cell_type": "code",
   "execution_count": null,
   "metadata": {},
   "outputs": [],
   "source": [
    "for name, parameter in compiled_rag.named_predictors():\n",
    "    print(name)\n",
    "    print(parameter.demos[0])\n",
    "    print()"
   ]
  }
 ],
 "metadata": {
  "kernelspec": {
   "display_name": "Python 3",
   "language": "python",
   "name": "python3"
  },
  "language_info": {
   "codemirror_mode": {
    "name": "ipython",
    "version": 3
   },
   "file_extension": ".py",
   "mimetype": "text/x-python",
   "name": "python",
   "nbconvert_exporter": "python",
   "pygments_lexer": "ipython3",
   "version": "3.11.5"
  }
 },
 "nbformat": 4,
 "nbformat_minor": 2
}
