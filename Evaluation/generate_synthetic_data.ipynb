{
 "cells": [
  {
   "cell_type": "code",
   "execution_count": 1,
   "metadata": {},
   "outputs": [],
   "source": [
    "import os\n",
    "import pandas as pd\n",
    "import json"
   ]
  },
  {
   "cell_type": "code",
   "execution_count": 2,
   "metadata": {},
   "outputs": [],
   "source": [
    "def reduce_dataframe_rows(df, n_rows):\n",
    "    \"\"\"\n",
    "    Reduces a DataFrame to the first n_rows.\n",
    "\n",
    "    Parameters:\n",
    "    - df: The original pandas DataFrame.\n",
    "    - n_rows: The number of rows to keep in the DataFrame.\n",
    "\n",
    "    Returns:\n",
    "    - A new DataFrame with only the first n_rows.\n",
    "    \"\"\"\n",
    "    if n_rows < len(df):\n",
    "        return df.iloc[:n_rows]\n",
    "    else:\n",
    "        print(\"The requested number of rows is greater than or equal to the total rows in the DataFrame.\")\n",
    "        return df"
   ]
  },
  {
   "cell_type": "code",
   "execution_count": 3,
   "metadata": {},
   "outputs": [],
   "source": [
    "def import_data_from_csv(source_file, content_column, id_column=None, display_logs=False):\n",
    "    \"\"\"\n",
    "    Imports and processes text data from a CSV file, organizing it into a corpus.\n",
    "\n",
    "    Parameters:\n",
    "    - source_file (str): The path to the CSV file to load the text data from.\n",
    "    - content_column (str): The name of the column in the CSV that contains the text content.\n",
    "    - id_column (str, optional): The name of the column that contains the unique IDs for each row. If None, indices will be used.\n",
    "    - display_logs (bool): If True, displays logs about the loading and processing progress.\n",
    "\n",
    "    Returns:\n",
    "    - dict: A dictionary representing the corpus, with IDs (or indices) as keys and content as values.\n",
    "    \"\"\"\n",
    "\n",
    "    # Display initial log if logging is enabled\n",
    "    if display_logs:\n",
    "        print(f\"Initiating import from CSV: {source_file}\")\n",
    "\n",
    "    # Attempt to read the CSV file into a DataFrame\n",
    "    try:\n",
    "        dataframe = pd.read_csv(source_file)\n",
    "        if display_logs:\n",
    "            print(f'Successfully imported {len(dataframe)} records from the CSV file.')\n",
    "    except Exception as e:\n",
    "        raise IOError(f\"Failed to load data from the CSV file: {e}\")\n",
    "\n",
    "    # Reduce the DataFrame to a manageable size, just having 300 rows, original\n",
    "    # test data has 2889 records, Please note that this is optional\n",
    "    # NOTE: Because of the token limit, and be conservative, the number of rows is reduced to 40\n",
    "    # You should have a larger number of rows in the original validation dataset\n",
    "    dataframe = reduce_dataframe_rows(dataframe, 40)\n",
    "\n",
    "    # Validate that the content column exists\n",
    "    if content_column not in dataframe.columns:\n",
    "        raise ValueError(f\"The specified content column '{content_column}' does not exist in the CSV file.\")\n",
    "\n",
    "    # Use the specified id_column or default to the DataFrame index\n",
    "    if id_column and id_column in dataframe.columns:\n",
    "        ids = dataframe[id_column]\n",
    "    else:\n",
    "        if display_logs and id_column:\n",
    "            print(f\"Specified ID column '{id_column}' not found. Defaulting to DataFrame indices.\")\n",
    "        ids = dataframe.index\n",
    "\n",
    "    # Construct the corpus from the DataFrame\n",
    "    corpus_content = {row_id: row_content for row_id, row_content in zip(ids, dataframe[content_column])}\n",
    "\n",
    "    return corpus_content"
   ]
  },
  {
   "cell_type": "code",
   "execution_count": null,
   "metadata": {},
   "outputs": [],
   "source": []
  },
  {
   "cell_type": "code",
   "execution_count": null,
   "metadata": {},
   "outputs": [],
   "source": [
    "print(os.getcwd())"
   ]
  },
  {
   "cell_type": "code",
   "execution_count": null,
   "metadata": {},
   "outputs": [],
   "source": [
    "file_path = os.path.join(os.getcwd(), 'medical_tc_test.csv')\n",
    "test_corpus = import_data_from_csv(source_file=file_path,\n",
    "                                   content_column='medical_abstract',\n",
    "                                   display_logs=True)\n",
    "test_corpus"
   ]
  },
  {
   "cell_type": "code",
   "execution_count": 6,
   "metadata": {},
   "outputs": [
    {
     "data": {
      "text/plain": [
       "40"
      ]
     },
     "execution_count": 6,
     "metadata": {},
     "output_type": "execute_result"
    }
   ],
   "source": [
    "len(test_corpus)"
   ]
  },
  {
   "cell_type": "code",
   "execution_count": 7,
   "metadata": {},
   "outputs": [],
   "source": [
    "import os\n",
    "import json\n",
    "\n",
    "# Define the base directory path.\n",
    "base_dir = os.getcwd()\n",
    "\n",
    "# Path to the directory where the processed corpus will be stored.\n",
    "processed_dir = os.path.join(base_dir, 'processed')\n",
    "\n",
    "# Ensure the directory for processed corpus exists.\n",
    "if not os.path.exists(processed_dir):\n",
    "    os.makedirs(processed_dir)  # os.makedirs can create intermediate directories if needed.\n",
    "\n",
    "# Path to the JSON file within the processed directory.\n",
    "PROCESSED_CORPUS_FPATH = os.path.join(processed_dir, 'data_bank.json')\n",
    "\n",
    "# Write the `test_corpus` dictionary to the JSON file.\n",
    "with open(PROCESSED_CORPUS_FPATH, 'w') as f:\n",
    "    json.dump(test_corpus, f)"
   ]
  },
  {
   "cell_type": "code",
   "execution_count": null,
   "metadata": {},
   "outputs": [],
   "source": []
  },
  {
   "cell_type": "code",
   "execution_count": 8,
   "metadata": {},
   "outputs": [],
   "source": [
    "import re\n",
    "import uuid\n",
    "\n",
    "from llama_index.llms import openai\n",
    "from llama_index.core.schema import MetadataMode\n",
    "from tqdm.notebook import tqdm"
   ]
  },
  {
   "cell_type": "code",
   "execution_count": 9,
   "metadata": {},
   "outputs": [],
   "source": [
    "# Define the base directory path.\n",
    "base_dir = os.getcwd()\n",
    "# Path to the directory where the processed corpus will be stored.\n",
    "processed_dir = os.path.join(base_dir, 'processed')\n",
    "\n",
    "TEST_QUERIES_FPATH = os.path.join(processed_dir, 'search_terms.json')\n",
    "TEST_RELEVANT_DOCS_FPATH = os.path.join(processed_dir, 'pertinent_documents.json')\n",
    "TEST_ANSWERS_FPATH = os.path.join(processed_dir, 'responses.json')"
   ]
  },
  {
   "cell_type": "code",
   "execution_count": 10,
   "metadata": {},
   "outputs": [],
   "source": [
    "with open(PROCESSED_CORPUS_FPATH, 'r+') as f:\n",
    "    test_corpus = json.load(f)"
   ]
  },
  {
   "cell_type": "code",
   "execution_count": 11,
   "metadata": {},
   "outputs": [
    {
     "data": {
      "text/plain": [
       "{'0': 'Obstructive sleep apnea following topical oropharyngeal anesthesia in loud snorers. Previous studies support the presence of an upper airway reflex mechanism that contributes to the maintenance of upper airway patency during sleep. We investigated the possibility that interference with this reflex mechanism contributes to the development of obstructive sleep apnea. Eight otherwise asymptomatic snorers (seven male and one female), age 39 +/- 5.3 yr (mean +/- SEM), underwent overnight sleep studies on three successive nights. An acclimatization night was followed by two study nights randomly assigned to control (C) and oropharyngeal anesthesia (OPA). On the OPA night topical anesthesia was induced using 10% lidocaine spray and 0.25% bupivacaine gargle. A saline placebo was used on night C. All subjects slept well on both study nights (mean sleep duration was 6.2 h on both study nights), and sleep stage distribution was similar on both nights. Obstructive apneas and hypopneas (OAH) rose from 114 +/- 43 during C to 170 +/- 49 during OPA (p less than 0.02). Central apneas and hypopneas (CAH) were unchanged between the two nights (8 +/- 4.9 versus 7 +/- 3). The duration of OAH was similar on both study nights (20 +/- 1.9 s during C versus 20 +/- 1.5 s during OPA). The frequency of movement arousals terminating OAH tended to be higher during OPA (7 +/- 2.9/h) than during C (3 +/- 0.7); P = NS. The frequency of oxyhemoglobin desaturations was also higher during OPA (5 +/- 2.1/h) than during C (3 +/- 1.4), p less than 0.07. ',\n",
       " '1': 'Neutrophil function and pyogenic infections in bone marrow transplant recipients. In a consecutive entry trial, the incidence and time course of decreased neutrophil function was assessed in 20 patients treated with allogeneic bone marrow transplantation (BMT). The aim of the study was to assess the prognostic value of low neutrophil function for late pyogenic infections. Chemotaxis, superoxide production, and phagocytic-bactericidal activity were studied before and 2, 6, 9, and 12 months after BMT. Skin window migration was quantitatively assessed 2 months after BMT. Infectious complications were recorded prospectively with preset criteria during 1 year. Six of the 20 leukemic patients had defective neutrophil function before BMT. Two months after BMT all 10 patients with greater than stage II graft-versus-host disease (GVHD), and 6 of 10 patients with less than or equal to stage II GVHD had at least one decreased function. At this time, patients with subsequent pyogenic infections had lower chemotaxis (P less than .05), phagocytic-bactericidal activity (P less than .005), and superoxide production (P less than .025) than those without. Defective skin window migration and combined defects were predictive for late pyogenic infections. At 9 months all tests were normal in seven patients surviving without GVHD. In contrast, at 9 months three of three patients, and at 1 year two of three with chronic GVHD had still decreased neutrophil function. In conclusion, neutrophil function is frequently impaired during the first months after BMT. Combined neutrophil defects predispose to pyogenic infections and indicate the patient at risk. ',\n",
       " '2': 'A phase II study of combined methotrexate and teniposide infusions prior to reinduction therapy in relapsed childhood acute lymphoblastic leukemia: a Pediatric Oncology Group study. Teniposide (VM-26) can increase intracellular methotrexate (MTX) and its polyglutamate derivatives in vitro and thus has the potential to improve the therapeutic index of regimens containing MTX. In this phase II study, children and adolescents with acute lymphoblastic leukemia (ALL) in first or second marrow relapse were randomly assigned to receive either simultaneous (n = 11) or sequential (n = 12) continuous infusions of MTX and VM-26 prior to reinduction. Infusions of VM-26 were begun 12 hours after completion of MTX infusion in the sequential group. Dosages were individually adjusted to maintain plasma concentration levels of 10 microns for MTX and 15 microns for VM-26; total infusion times were 24 and 72 hours, respectively. Significant toxicity in the first six patients who received the scheduled 72-hour VM-26 infusion (including one drug-related death) prompted a 50% reduction in infusion duration. The reduced dose was associated with similar but more manageable toxicity. Examination of bone marrow aspirates 10 days after therapy was begun showed one complete and two partial marrow remissions; a fourth patient who had an aplastic marrow on day 10 received no further chemotherapy and had a complete remission (CR) documented on day 31. There was no obvious clinical advantage associated with either infusion schedule, although small sample sizes preclude definitive conclusions. The 17% response rate to the MTX/VM-26 therapeutic window in patients with refractory disease suggests the need for further investigation to evaluate alternative schedules and concomitant therapy for this drug combination. ',\n",
       " '3': 'Flow cytometric DNA analysis of parathyroid tumors. Implication of aneuploidy for pathologic and biologic classification. The previous cytometric studies on parathyroid tumors have provided conflicting data regarding the relationship between DNA content and histopathology, resulting from differences in technical methods and data analysis. This study measured nuclear DNA of parathyroid tumors by flow cytometry in fresh material and determined whether DNA aneuploidy really assists in making a pathologic diagnosis of carcinoma or not. From May 1987 through April 1989, 65 consecutive patients operated on for primary hyperparathyroidism had DNA analysis of the freshly excised parathyroid tumors. Three of the patients had metastatic lesions of parathyroid carcinoma in the lung, cervical lymph nodes, and lung and mediastinal lymph nodes, respectively. Pathologic classifications of the lesions from the other 62 patients were 54 adenomas, four carcinomas, and four hyperplasias. In all the latter patients, hyperplasia was associated with a multiple endocrine neoplasia syndrome. Unequivocal evidence of aneuploidy was found in all of the metastatic lesions and 60% of the primary lesions of the carcinomas, in 9% of the adenomas and in 50% of the hyperplasias. Therefore, parathyroid carcinomas were more apt to be aneuploid than were adenomas (P = 0.0015, both-sided testing). In each of the cases of aneuploid hyperplasia, a small aneuploid peak was found. The high incidence of aneuploidy in patients with multiple endocrine neoplasia type 1 may indicate the presence of clonal heterogeneity of hyperplastic glands and the presence of an abnormal subset of cells that have malignant potential. Cell distribution analysis did not provide any significant information beyond ploidy level. In conclusion, DNA flow cytometric analysis of DNA ploidy patterns is a valuable adjunct to the histopathologic diagnosis of parathyroid neoplasms. ',\n",
       " '4': 'Paraneoplastic vasculitic neuropathy: a treatable neuropathy. Paraneoplastic vasculitic neuropathy has been recently described. We report the first case of this disorder which responded both clinically and electrophysiologically to cyclophosphamide treatment. A 54-year-old woman with a history of metastatic endometrial carcinoma in remission had asymmetrical polyneuropathy, electrophysiological findings consistent with a diffuse axonal neuropathy, high sedimentation rate and spinal fluid protein, and microvasculitis with axonal degeneration on nerve biopsy. The patient was treated with 150 mg of cyclophosphamide daily with gradual clinical and electrophysiological improvement. ',\n",
       " '5': 'Treatment of childhood angiomatous diseases with recombinant interferon alfa-2a. A heterogeneous group of five patients with progressive, invasive angiomatous diseases including pulmonary hemangiomatosis, angiosarcoma, or massive hemangioma with associated consumptive coagulopathy were treated with interferon alfa-2a for periods of 17 to 33 months. One patient with a large thoracic hemangioma, cardiorespiratory failure, and consumptive coagulopathy died after less than 2 months of treatment. The remaining four patients have shown beneficial responses, including (1) regression of abnormal vessels on pulmonary angiogram and improved exercise tolerance in pulmonary hemangiomatosis (two patients), (2) decreased corticosteroid and/or platelet transfusion requirements in consumptive coagulopathy (two patients), and (3) decreased size and number of tumor nodules in the one patient with angiosarcoma arising in preexisting angiomatous lesions. Responses occurred during periods of 2 to 20 months of treatment. There was no measurable progression of angiomatous lesions in any patient receiving interferon at the therapeutic dose, except possibly in the one who died. Each of the four surviving patients had improved linear growth and weight gain during interferon treatment. ',\n",
       " '6': \"Expression of major histocompatibility complex class II antigens and interleukin-1 by epithelial cells of Warthin's tumor. The immunoreactivity for class II antigens of the major histocompatibility complex and interleukin-1 (IL-1) in Warthin's tumor (WT) cells was studied. In addition to macrophages, dendritic cells, and capillary endothelia, the luminal tumor cells and some keratinocytes in the metaplastic squamous foci exhibited immunoreactivity for both class II antigens and IL-1. The distribution of the class II antigens in the luminal tumor cells was limited to their basolateral membrane. These data, together with previous findings, strongly suggest that the luminal tumor cells of WT introduce the luminal antigen to the underlying lymphoid tissue and, thus, act as an antigen-presenting cell. \",\n",
       " '7': 'Questionable role of CNS radioprophylaxis in the therapeutic management of childhood rhabdomyosarcoma with meningeal extension. A series of 15 consecutive children with head and neck nonorbital rhabdomyosarcoma (RMSA) with meningeal extension were prospectively treated with chemotherapy consisting of Adriamycin (doxorubicin; Adria Laboratory, Columbus, OH) (ADM), vincristine (VCR), cyclophosphamide (CPM), and dactinomycin (DACT) followed by radiotherapy (60 Gy) to the primary tumor volume, along with intrathecal methotrexate (IT MTX). Thirteen of 15 responded to preradiation chemotherapy. Four of 13 relapsed. Relapse occurred at the level of the primary tumor in three of four. The 3-year progression-free survival (PFS) was 59%, similar to that achieved in a previous series treated with a comparable therapeutic approach that also included whole-brain radiotherapy as a prophylaxis of possible occult meningeal seeding. It is concluded that CNS prophylaxis with radiotherapy is questionable in the management of childhood RMSA with meningeal extension. ',\n",
       " '8': \"Reversibility of hepatic fibrosis in experimentally induced cholestasis in rat. The reversibility of hepatic fibrosis was investigated in an experimental model of extrahepatic cholestasis in the rat after common bile duct ligation for 2 weeks, followed by bilioduodenal anastomosis for 3 weeks. Bile duct ligation resulted in a transitory marked elevation in the serum concentration of 5'-nucleotidase, alkaline phosphatase, and bilirubin during the first 3 days. Then these levels decreased to threefold, twofold, and 100-fold the normal values, respectively, during the following 4 weeks. Histologic examination of the liver disclosed extensive bile duct proliferation and the formation of periportal fibrosis, with only slight inflammation and necrosis. The distribution of the major components of the hepatic extracellular matrix was analyzed 2 weeks after bile duct ligation, using the indirect immunoperoxidase method. Fibrous septa were found to be strongly stained for collagens I, pro-III, III and IV, fibronectin, and laminin. The most intense staining was found in enlarged periportal areas, collagen IV and laminin being particularly abundant around newly formed bile ducts. These changes paralleled high steady-state levels of alpha 1(I) and alpha 1(IV) collagen and B2 chain laminin mRNAs. Relief of the obstruction for 2 weeks resulted in a shift in the serum concentration of 5'-nucleotidase, alkaline phosphatase, and bilirubin toward normal values. A dramatic resorption of bile duct proliferations and periportal fibrosis were observed. Three weeks after bile duct repermeabilization, immunohistochemical study showed that the pattern of distribution of extracellular matrix components was almost normal, except for collagen IV, which remained abundant in the sinusoids when compared with the normal liver. In parallel, the steady-state B2-chain laminin mRNA level became lower than in cholestatic livers, whereas alpha 1(I) and alpha 1(IV) mRNAs were almost undetectable. These results show that hepatic fibrosis induced by experimental extrahepatic cholestasis in rat disappears in less than 3 weeks after relief of bile duct obstruction, suggesting that an active degradation of matrix protein occurs, except for collagen IV in the sinusoid. \",\n",
       " '9': 'Current status of duplex Doppler ultrasound in the examination of the abdominal vasculature. Duplex Doppler ultrasound has come to play a central role in the diagnosis of a broad spectrum of vascular diseases such as carotid artery occlusive disease and deep vein thrombosis. The role of duplex Doppler in the evaluation of intra-abdominal vascular disease remains unclear. This article summarizes the current status of duplex scanning in the investigation of the mesenteric arteries, the renal arteries, and the portal venous system. The examination is technically demanding, operator-dependent, time-consuming, and frequently unsatisfactory due to bowel gas, obesity, complex anatomy, or postoperative alterations in the normal anatomic patterns. Its advantages reside primarily in the absence of toxicity and in the generation of physiologic as well as anatomic information. In centers with the proper instrumentation and a skilled technician, duplex examination can be useful in the diagnosis and management of abdominal vascular disease and avoids the inherent dangers of contrast angiography. ',\n",
       " '10': 'The importance of congenital hypertrophy of the retinal pigment epithelium in familial adenomatous polyposis. We describe a family with familial adenomatous polyposis (FAP) and congenital hypertrophy of the retinal pigment epithelium (RPE). Three of five members with FAP showed flat, well-demarcated, round to oval pigmented patches of congenital hypertrophy of the RPE. We stress the importance of congenital hypertrophy of the RPE as a clinical marker in identifying patients with FAP since they are at risk for cancer. ',\n",
       " '11': 'Human papillomavirus in women with vulvar intraepithelial neoplasia III. Untreated cases of vulvar intraepithelial neoplasia (VIN) III may progress to invasive vulvar carcinoma. Tissues from 29 New Zealand women with VIN III were examined for the presence of human papillomavirus (HPV) types 6, 11, 16 and 18 by in situ hybridization and polymerase chain reaction. HPV 16, the only HPV type detected in the lesions, was identified in about half the cases. HPV-positive women were younger than HPV-negative women, and their lesions displayed koilocytosis more often. In four of five cases in which there was a progression to invasive cancer, HPV 16 was detected in both the VIN III and invasive cancer tissue. ',\n",
       " '12': 'Gentamicin iontophoresis in the treatment of bacterial otitis externa in the guinea pig model. Pseudomonas otitis externa is one of the most common infections treated by otolaryngologists. Infections induced in 30 guinea pigs appeared similar to that seen in humans. The ears were then placed into four treatment groups: group A, which received a single cleaning; group B, which received a single cleaning followed by gentamicin drops 4 times daily; group C, which received a single cleaning followed by a single gentamicin iontophoresis treatment; and group D, the control group, which received no treatment. Infections were analyzed by grading edema, purulence, and erythema. An average of 10.2 days was required for control group to return to normal appearance. Groups A, B, and C had mean resolution times of 5.9, 4.7, and 4.3 days, respectively. Gentamicin iontophoresis appears to be promising, with results as good as drop therapy in otitis externa in the guinea pig model. ',\n",
       " '13': 'Repeat hepatic resection for primary and metastatic carcinoma of the liver. During the last 15 years, 19 patients underwent repeated hepatic resections for malignant lesions of the liver. The first hepatic resection had been performed four to 40 months earlier for treatment of hepatocellular carcinoma (nine patients) or hepatic metastases (ten patients), eight of which were of colorectal origin. Repeat resection was an extensive hepatectomy in six, a segmentectomy in six and a local excision in seven. In one patient, three wedge resections and, finally, hepatic transplantation were subsequently performed after an initial extended right lobectomy. The operative mortality rate was 5.2 per cent. The three year actuarial survival rate was 64 per cent after the second resection. ',\n",
       " '14': 'Evidence for intraluminal Ca++ regulatory site defect in sarcoplasmic reticulum from malignant hyperthermia pig muscle. Malignant hyperthermia (MH) is a pharmacogenetic disease of humans and various animal species that predisposes to a life-threatening, anesthetic agent-induced syndrome. MH is thought to be a consequence of abnormal, sustained increases in myoplasmic Ca++ and sarcoplasmic reticulum (SR) membranes from MH muscle have been shown to have a Ca++ release channel defect. In the present study we have tested a hypothesis that the abnormal Ca++ release mechanism in MH can be expressed when Ca++ is loaded in the presence of pyrophosphate. SR membrane vesicles isolated from normal and MH pig muscle were loaded with Ca++ in the presence and absence of pyrophosphate until Ca(++)-induced Ca++ release occurred. Under both circumstances the threshold amount of Ca++ loaded until Ca++ release occurred was lower in the SR from MH pig skeletal muscle. This difference in amount of Ca++ preload is not explained by results obtained comparing rates of Ca++ uptake, number of ryanodine binding sites or the amounts of calsequestrin among SR vesicles from MH and normal muscle. We conclude from this study that use of pyrophosphate for Ca++ loading does not ablate the abnormal Ca++ release in SR from MH muscle, suggesting the study can be done on small amounts of SR from biopsied human muscle. The data also suggest that abnormality in an intraluminal, low affinity Ca++ binding site regulating Ca++ release occurs in the SR membrane of MH pig muscle. ',\n",
       " '15': 'Glutamic acid and gamma-aminobutyric acid neurotransmitters in central control of breathing. We review recent cross-disciplinary experimental and theoretical investigations on metabolism of the amino acid neurotransmitters glutamic acid and gamma-aminobutyric acid (GABA) in the brain during hypoxia and hypercapnia and their possible role in central control of breathing. The roles of classical modifiers of central chemical drive to breathing (H+ and cholinergic mechanisms) are summarized. A brief perspective on the current widespread interest in GABA and glutamate in central control is given. The basic biochemistry of these amino acids and their roles in ammonia and bicarbonate metabolism are discussed. This review further addresses recent work on central respiratory effects of inhibitory GABA and excitatory glutamate. Current understanding of the sites and mechanisms of action of these amino acids on or near the ventral surface of the medulla is reviewed. We focus particularly on tracer kinetic investigations of glutamatergic and GABAergic mechanisms in hypoxia and hypercapnia and their possible role in the ventilatory response to hypoxia. We conclude with some speculative remarks on the critical importance of these investigations and suggest specific directions of research in central mechanisms of respiratory control. ',\n",
       " '16': 'A useful technique for measurement of back strength in osteoporotic and elderly patients. Improvement of back extensor strength (BES) can be used as a therapeutic method for patients with chronic back pain and osteoporosis. The method of evaluation must be reliable and accurate without compromising the condition of the patient. We report the development of a back isometric dynamometer (BID-2000) designed specifically by two of us to address these concerns in elderly patients with osteopenia or osteoporosis. As the demographics of the general population change, increasing numbers of patients will need the type of monitoring that the BID-2000 provides. Aging has been shown to cause a reduction in the number of functional muscle motor units. To examine this effect on BES, we tested 50 normal, healthy women who were 30 to 79 years old. Proper testing of BES in patients with fragile vertebrae should include isometric measurement in the prone position, maneuverability of the device to allow comfortable positioning of the patient, and simplicity of technique to minimize repetitious performance of maximal contraction. The BID-2000 incorporates each of these features and also provides meaningful results inexpensively. The device offers a safe, reliable (coefficient of variation = 2.33%), and valid (P = 0.001) method of evaluation. The results of our study demonstrated moderate, steady reduction of BES with increasing age and with each successive decade. ',\n",
       " '17': 'The natural history of ultraviolet radiation-induced herpes simplex labialis and response to therapy with peroral and topical formulations of acyclovir. The lips of 196 patients with a history of sun-induced herpes labialis were exposed to experimental ultraviolet radiation (UVR) and treated with acyclovir (ACV) or placebo at different times and by different routes. Of 98 placebo recipients, 39 (40%) developed 43 lesions inside or within 10 mm of the irradiated zone. The temporal distribution of lesions was bimodal. 11 (26%) occurring within 48 h (immediate) and 32 (72%) 2-7 days after UVR exposure (delayed). Prophylactic peroral ACV begun 7 days before or 5 min after UVR prevented the development of the delayed but not the immediate lesions (P less than .001). When peroral ACV was started 48 h after UVR, delayed lesions developed but were less severe (P = .01-.05). Prophylactic topical ACV begun 5 min after UVR did not reduce lesion frequency or severity. ACV therapy can be efficacious, but some rapidly developing lesions are unresponsive to treatment. This suggests that more than one process may contribute to the pathogenesis of herpes labialis. ',\n",
       " '18': 'Hereditary internal anal sphincter myopathy causing proctalgia fugax and constipation. A newly identified condition. A newly identified myopathy of the internal anal sphincter is described. In the affected family, at least one member from each of five generations had severe proctalgia fugax; onset was usually in the third to fifth decades of life. Three members of the family have been studied in detail. Each had severe pain intermittently during the day and hourly during the night. Constipation was an associated symptom, in particular difficulty with rectal evacuation. Clinically the internal anal sphincter was thickened and of decreased compliance. The maximum anal canal pressure was usually increased with marked ultraslow wave activity. Anal endosonography confirmed a grossly thickened internal anal sphincter. Two patients were treated by internal anal sphincter strip myectomy; one showed marked improvement and one was relieved of the constipation but had only slight improvement of the pain. The hypertrophied muscle in two of the patients showed unique myopathic changes, consisting of vacuolar changes with periodic acid-Schiff-positive polyglycosan bodies in the smooth muscle fibers and increased endomysial fibrosis. In vitro organ-bath studies showed insensitivity of the muscle to noradrenaline, isoprenaline, carbachol, dimethylpiperazinium, and electrical-field stimulation. Immunohistochemical studies for substance P, calcitonin gene-related peptide, galanin, neuropeptide Y, and vasoactive intestinal peptide showed staining in a similar distribution to that in control tissue. A specific autosomal-dominant inherited myopathy of the internal anal sphincter that causes anal pain and constipation has been identified and characterized. ',\n",
       " '19': 'Immune response of peripheral blood mononuclear cells to HBx-antigen of hepatitis B virus. The hepatitis B virus genome encodes a transcriptional transactivator protein designated HBxAg. We have investigated whether this antigen is a target structure for human T-lymphocytes. Using recombinant HBxAg protein, we found HBxAg-specific stimulation of peripheral blood mononuclear cells in patients with acute hepatitis B virus infection (6 of 6) and chronic hepatitis B virus infection (6 of 17) but not in healthy individuals. With HBxAg-specific synthetic polypeptides, several T-cell epitopes were identified. Most were located in the carboxyterminal half of the HBxAg protein. Five T-cell clones specific for a T-cell epitope located at the carboxyterminal region of HBxAg were established and found to belong to the CD2/CD4-positive, CD8-negative subtype. These data establish for the first time HBxAg as an antigen in the cellular immune response. ',\n",
       " '20': 'Expression of neural cell adhesion molecule in normal and neoplastic human neuroendocrine tissues. The neural cell adhesion molecule (N-CAM) is a group of cell surface glycoproteins involved in direct cell--cell adhesion. N-CAM expression in normal and neoplastic tissues was examined with specific antibodies and oligonucleotide probes by immunohistochemistry and in situ hybridization. Most neuroendocrine cells and tumors with secretory granules expressed N-CAM protein and mRNA. Parathyroid adenomas (4) were somewhat unusual, because N-CAM mRNA, but not protein, was detected in some of these benign neoplasms. Most non-neuroendocrine cells and tumors did not express N-CAM, although uterine smooth muscle and an adrenal cortical carcinoma were both positive. Western blots disclosed proteins of 180, 140, and 120 kd in normal adult brain, whereas two pheochromocytomas, a null cell adenoma, and a gastrinoma had proteins of approximately 180 and 140 kd. These results indicate that N-CAM protein and mRNA are widely expressed in neuroendocrine cells and neoplasms. N-CAM oligonucleotide probes as well as antibodies against N-CAM can be used as broad-spectrum neuroendocrine markers. In addition, these molecular probes can be used to examine the role of N-CAM in the development and regulation of neuroendocrine tissues. ',\n",
       " '21': 'Genetics of cerebrovascular disease. Stroke is a complex disease, with both genetic and environmental factors having a role in its pathogenesis. A review of past studies shows some evidence of genetic influences in the development of stroke. This is supported by studies of cardiovascular disease, which indicate major genetic influences at several levels including the development of risk factors. New approaches to phenotypic classifications, patient ascertainment, and genetic analysis will stimulate research into the role of genetics in cerebrovascular disease. ',\n",
       " '22': \"Appraisal of gut lavage in the study of intestinal humoral immunity. Direct investigation of intestinal humoral immunity requires collection of intestinal secretions or mucosal biopsy specimens, or both. A non-invasive technique of gut lavage, with a polyethyleneglycol electrolyte lavage solution as a means of collecting intestinal secretions for immunoglobulin and antibody studies, was evaluated. Fifty patients were studied--25 immunologically normal patients or volunteers, 15 patients with untreated coeliac disease, and 10 patients with active Crohn's disease. Protease inhibitors were added promptly to samples to prevent proteolysis of immunoglobulin content. Treated lavage samples were assayed by enzyme linked immunosorbent assay for immunoglobulin and antibody content. Studies of serial lavage specimens showed that early, faecally contaminated specimens contained negligible quantities of immunoglobulin, but once the specimens became clear a steady state was reached, with little variation in immunoglobulin content between serial specimens and with a uniform dilution (around 20%) of the ingested polyethyleneglycol. Gut lavage fluid IgA was predominantly secretory, comprising 92%, 81.6%, and 76.7% respectively of the total IgA gut lavage fluid content in the control, coeliac, and Crohn's groups. High values of total IgM and IgA and IgM antigliadin antibodies were detected in the coeliac group, and high values of IgG in the Crohn's disease group. This method of gut lavage is not only an effective bowel cleanser, but also a noninvasive means of obtaining intestinal secretions for the study of humoral immunity in gastrointestinal disease. \",\n",
       " '23': 'Subsite distribution and incidence of colorectal cancer in New Zealand, 1974-1983. The purpose of this study was to examine changes in subsite distribution and incidence of colorectal cancer within different age groups. Registration of colorectal cancer by the National Cancer Registry of New Zealand approached 100 percent by 1974. The present study was based on 15,395 individuals aged 25 years and over and registered for colorectal cancer between 1974 and 1983. Subsite distribution (right colon, left colon, rectum) for different age groups (25-49, 50-69, 70+ years) was significantly skewed, with an excess of right colonic cancer in individuals aged 25-49 years and 70+ years. This right colonic excess was accompanied by a relative reduction in left colonic cancer. Age adjusted incidence rates for the periods 1974-78 and 1979-83 were compared and stratified by age group and subsite. Incidence rates increased in all subsites in individuals aged 50+ years. This was particularly evident for right sided cancer in the elderly of both sexes. There was a marked reduction in the incidence of left colonic cancer and rectal cancer in individuals under 50 years. In contrast, the incidence of right colonic cancer remained relatively stable in young individuals. Time trend studies indicate that the skewed subsite distribution of large bowel cancer in different age groups may increase with time and is probably due to varying etiological factors acting on different cohorts. ',\n",
       " '24': 'Bolus, front-loaded, and accelerated thrombolytic infusions for myocardial infarction and pulmonary embolism. Thrombolytic therapy decreases mortality in patients with acute myocardial infarction and is now widely used in such patients. The choice of which thrombolytic agent to use in such patients, either streptokinase or recombinant tissue plasminogen activator (rt-PA), is based on regional preferences. The standard dose of streptokinase is 1.5 million units over 60 min, and the dose of rt-PA that is commonly used is 100 mg over 3 h. Experiments in animals have demonstrated that rt-PA produces continuing thrombolysis after it is cleared from the circulation and that thrombolysis is both increased and accelerated and bleeding is reduced when rt-PA is administered over a short time period. Based on these studies, there have been a number of recent trials examining alternative dosage regimens for rt-PA (bolus, front-loaded, and accelerated) in patients with myocardial infarction. To date, there is no convincing evidence that such regimens are superior to the more traditional rt-PA regimen. Future randomized trials will determine whether attempts to optimize rt-PA regimens will result in more efficacious treatment regimens. Interest in the use of thrombolytic therapy for patients with acute pulmonary embolism has been rekindled. The traditional 12- to 24-h regimens of streptokinase and urokinase are not optimal because of their logistic complexity and associated hemorrhagic complications. Clinical studies have demonstrated that rt-PA, 100 mg over 2 h, is an effective thrombolytic agent in patients with acute pulmonary embolism. In a recent double-blind trial in patients with acute pulmonary embolism, rt-PA, 0.6 mg/kg infused over 2 min, improved pulmonary perfusion. This bolus regimen is attractive because it is simple to administer. Future studies will compare the relative efficacy and safety of these two rt-PA regimens in patients with acute pulmonary embolism. ',\n",
       " '25': 'Effects of site-specific mutations on biologic activities of recombinant human IL-6. To examine structure-activity relationships of human IL-6, we have determined the effects of specific mutations on the biologic activity of a human rIL-6 expressed in bacteria. Three types of mutants were examined: 1) a variant that contains serines in place of the four naturally occurring cysteines; 2) a series of cysteine-containing deletion mutants, each having a single internal 20 amino acid deletion; and 3) a cysteine-free variant containing a single 20 amino acid deletion. The mutants of the second type constitute a set of nonoverlapping, adjacent deletions spanning amino acids 4 through 183 of the 184 amino acids in natural human IL-6. All of the mutants were expressed, along with the full length, cysteine-containing analogue, in Escherichia coli as fusion proteins, joined to beta-galactosidase through a collagen linker. This system allows microgram quantities of the rIL-6 variants to be partially purified from small bacterial cultures without chromatographic or refolding steps. Each of the rIL-6 variants was released from the beta-galactosidase fusion protein with collagenase, and the recovered rIL-6 was quantitated by laser densitometry of Coomassie-stained, SDS polyacrylamide gels. The sp. ac. of each of the rIL-6 variants was determined using four assays: induction of IgM secretion from an EBV transformed human B cell line, induction of fibrinogen secretion from a human hepatoma cell line, induction of fibrinogen secretion from a rat hepatoma cell line, and induction of proliferation of a murine hybridoma cell line. Replacement of cysteines with serines reduced activity relative to cysteine-containing rIL-6 to about 20% in the rat hepatoma assay and about 3% in the mouse hybridoma assay, whereas activity in both of the human cell lines was reduced to less than 0.1%. These data suggest that the murine and rat cell lines are less selective than the human cell lines in their requirements for recognition of biologically active IL-6. Each of the deletions, except that of amino acids 4 through 23, resulted in loss of activity in all four assays. These results suggest that the information necessary for activity is not contained within any one portion of the IL-6 molecule, but rather that multiple segments of the protein are required for each of the biologic activities that we tested. ',\n",
       " '26': 'Prophylactic sclerotherapy for esophageal varices: long-term results of a single-center trial. Survival after prophylactic sclerotherapy was assessed in a single-center study involving 99 cirrhotic (41 alcoholic) patients enrolled over 8-yr. The wedged hepatic vein pressure gradient was measured; those with pressure greater than or equal to 12 mm Hg were randomized to receive sclerotherapy or no treatment. The rest were not randomized. Patients in all three groups who bled were treated with emergency endoscopy and sclerotherapy. Stratification according to presence of ascites was also undertaken. Median follow-up was 61 mo (range = 14 to 107 mo). Survival among unrandomized patients was significantly longer than among randomized patients (p less than 0.006), but there was no significant difference between those treated by sclerotherapy and the controls (p = 0.27). Alcoholic cirrhotic patients undergoing sclerotherapy had better 2-yr survival than did the controls (80% vs. 43%; p = 0.09), but this benefit was not sustained at 5 yr. Survival in the nonalcoholic patient groups was identical. Only 10 of 50 deaths were caused by variceal bleeding. Forty-eight percent of patients with large varices bled, compared with 20% of patients with small varices. Wedged hepatic vein pressure less than 12 mm Hg accurately identified alcoholic patients at low risk of variceal bleeding but not nonalcoholic patients. Only four episodes of variceal bleeding were attributable to elective sclerotherapy. We conclude that in our population, prophylactic sclerotherapy alone does not improve survival. The discrepancy in survival between alcoholic and nonalcoholic cirrhotic patients suggests that factors other than variceal hemorrhage may be responsible for the difference. ',\n",
       " '27': 'A case of cerebrotendinous xanthomatosis. II: The sterol content of a cataractous lens. The cholestanol content of a cataractous lens nucleus from a patient with cerebrotendinous xanthomatosis (CTX) was quantified by gas chromatography-mass spectrometry and found to be 0.27 micrograms per mg freeze-dried lens tissue. The cholestanol-cholesterol ratio of 1.7% in the lens nucleus was similar to that in the serum of the CTX patient. The cholestanol content and cholestanol-cholesterol ratio in the CTX lens were approximately four-fold and six-fold greater respectively than the mean levels found in three senile cataractous lens nuclei analysed simultaneously for comparative purposes. ',\n",
       " '28': 'Idiopathic intracranial hypertension without papilledema. We describe 10 patients with idiopathic intracranial hypertension who did not have papilledema. Idiopathic intracranial hypertension without papilledema, although rarely reported, may well be a clinically important headache syndrome. Historical and demographic features of patients with idiopathic intracranial hypertension without papilledema are similar to those of patients with papilledema. Obese women with chronic daily headache and symptoms of increased intracranial pressure, pulsatile tinnitus, history of head trauma or meningitis, an empty sella on imaging studies, or a headache that is unrelieved by standard therapy should have a diagnostic lumbar puncture. Findings from laboratory and neurologic investigations are normal in most patients with idiopathic intracranial hypertension without papilledema. Initial management should include removal of possible inciting agents, weight loss if applicable, and standard headache therapy. Lumbar puncture and diuretic therapy should precede a trial of corticosteroids. Surgery (lumboperitoneal or ventriculoperitoneal shunt or perhaps optic nerve sheath fenestration) may be indicated for prolonged incapacitating headache that is not responsive to medical management or lumbar puncture. ',\n",
       " '29': 'Acute lower respiratory tract infection due to virus among hospitalized children in Dhaka, Bangladesh. The nature of acute lower respiratory tract infection (ALRI) in hospitalized children and of the associated viral agents was assessed in a study of 601 children less than 5 years old over a 24-month period. Of these children, 80% were less than 24 months of age and the ratio of boys to girls was 1.7:1. Pneumonia (86.5% of cases) was the most frequently observed clinical manifestation. Shedding of virus was detected in 21.1% of the children; the highest rate occurred in infants 0-5 months old (27%) as compared with a rate of only 12.5% in children 25-60 months old. Virus was detected in 33.3%, 32.8%, 21.2%, and 20% of the cases of tracheobronchitis, bronchiolitis, pneumonia, and croup, respectively. Among the viruses detected, 78% were respiratory syncytial virus (RSV) (91% of infections with this virus occurred in children less than 2 years old) and 14.4% were influenza virus types A and B. Of the RSV infections, 61% occurred in infants less than 1 year old. The case-fatality rate was 6.8% overall and was 4.8% in virus-associated cases. No consistent pattern of seasonal occurrence of viral infections was discerned. RSV was detected throughout the year, with increased prevalence from January to April. ',\n",
       " '30': 'Endocrine function in children with human immunodeficiency virus infection. We sought to determine if failure to thrive in pediatric patients with the human immunodeficiency virus could be explained based on endocrine dysfunction. Fourteen human immunodeficiency virus-infected pediatric patients, all of whom had adequate nutritional status, underwent endocrine evaluation. Growth hormone and cortisol responses to glucagon stimulation were adequate. Despite this, eight of the 12 subjects had low somatomedin C levels. Although all patients were clinically and biochemically euthyroid, 36% (5/14) demonstrated elevated baseline and peak thyrotropin levels in response to thyroid releasing hormone, suggesting a state of compensated hypothyroidism. Although the importance of these findings is unclear, it is possible that subtle alterations of thyroid regulation may contribute to failure to thrive in some pediatric patients infected with human immunodeficiency virus and may represent a potentially correctable defect. ',\n",
       " '31': \"Leukaemia complicating treatment for Hodgkin's disease: the experience of the British National Lymphoma Investigation. OBJECTIVE--To determine the incidence of and risk factors for the development of secondary acute leukaemia and myelodysplasia in patients treated in British National Lymphoma Investigation's studies of Hodgkin's disease since 1970. PATIENTS--2676 Patients entered into Hodgkin's disease studies between February 1970 and November 1986. Data accrued up to November 1988 were analysed, ensuring a minimum follow up period of two years. DESIGN--Retrospective analysis of multicentre trial data by case-control and life table methods. RESULTS--17 Cases of secondary leukaemia were recorded in this group of 2676 patients, giving an overall risk at 15 years of 1.7%. The risks of leukaemia after chemotherapy alone and chemotherapy with radiotherapy were not significantly different. The risk of leukaemia increased sharply with the amount of treatment given as measured by the number of attempts at treatment. The 15 year risks of leukaemia were 0.2%, 2.3%, and 8.1% for patients receiving one, two, or three or more attempts at treatment. The highest risk, 22.8% at 15 years, was observed in patients treated with lomustine (CCNU), and a case-control study suggested that this was an independent risk factor. The risk of secondary leukaemia was largely related to the overall quantity of treatment, although exposure to lomustine seemed to be an important risk factor. Treatment with both drugs and radiation was not more leukaemogenic than treatment with drugs alone. The greatest risk of secondary leukaemia was seen in multiply treated patients who were unlikely to be cured of Hodgkin's disease. CONCLUSIONS--Avoidance of secondary leukaemia should be a minor factor in the choice of treatment for Hodgkin's disease. \",\n",
       " '32': 'Extensive vulvar and vaginal varicella necessitating abdominal delivery. Maternal varicella occurs in fewer than five per 10,000 pregnancies in the United States. A case is reported in which markedly painful, extensive vulvar and vaginal ulcers prevented cervical examination, and cesarean section was performed with the patient under general anesthesia. ',\n",
       " '33': 'Tissue dose estimates following the selective uptake of 125IUdR and other radiolabelled thymidine precursors in resistant tumours. For the purposes of evaluation of the therapeutic potential of the radiohalogenated thymidine analogue 125IUdR, estimation of the radiation dose to the tumour cells and normal tissues is important. To determine the dose to any tissue from the radionuclide 125I is not simple, since the major emissions are very short-range Auger electrons. The cytotoxicity of 125I is strongly dependent on the position of the decay relative to the DNA, the principal target for cell sterilization. Estimates of the cytotoxicity of 125I based on the traditional MIRD recommended formulation (ICRU Report 32, 1979) may produce gross underestimates if it is incorporated into the DNA via the thymidine precursor 125IUdR. In this work, tissue count and autoradiography (ARG) data from studies by Bagshawe et al were used to estimate tissue doses following the administration of 125IUdR to LS174/T (a colorectal carcinoma) and CC3 (a choriocarcinoma) tumour-bearing animals, after a hydroxyurea block of the normal tissue turnover. The tumour cell toxicity is estimated from ARG data on the degree of 125I incorporation into the cell nucleus. Major drawbacks with 125I for this type of therapy are the long 60-day half-life, leading to radiological and waste disposal problems and the extreme short range of the radiotoxic effects. Possible alternative radiohalogens, 13I, 77Br, 131I and 211At, are suggested in place of 125I in the thymidine analog iododeoxyuridine. Dose calculations are performed and cytotoxicities estimated on the assumption that their biological retention characteristics are the same as for 125IUdR. ',\n",
       " '34': 'Combined vesicovaginal-ureterovaginal fistulas associated with a vaginal foreign body. A case is presented of vesicovaginal-ureterovaginal fistulas associated with a neglected vaginal foreign body. The patient complained of a foul-smelling vaginal discharge and was found to have a 4-cm hard vaginal mass on examination. Urinary incontinence developed subsequently. Examination under anesthesia was performed, and an aerosol deodorant cap was operatively removed from her posterior vagina/perirectal space. Subsequent work-up demonstrated the presence of both a vesicovaginal fistula and a right ureterovaginal fistula. The patient underwent a combined vaginal repair of the vesicovaginal fistula and abdominal ureteroneocystostomy. The frequency, types, etiology, and treatment of genitourinary fistulas are reviewed with particular attention to those associated with a vaginal foreign body. ',\n",
       " '35': 'Epidural anaesthesia for labour and caesarean section in a parturient with a single ventricle and transposition of the great arteries. We describe a case of a 29-year-old parturient with a single ventricle and transposition of the great arteries who had lumbar epidural analgesia/anaesthesia with a local anaesthetic for labour, emergency Caesarean section and postoperative pain. Her outcome and that of her baby was successful. The anaesthetic techniques used in other parturients with similar congenital cardiac anomalies are reviewed. ',\n",
       " '36': 'A prospective analysis of intramuscular meperidine, promethazine, and chlorpromazine in pediatric emergency department patients. STUDY OBJECTIVE: To examine physiologic responses and efficacy of 2, 1, and 1 mg/kg IM meperidine, promethazine, and chlorpromazine (MPC), respectively, in children. DESIGN: Prospective, unblinded trial. SETTING: A university and community emergency department. PATIENTS: Sixty-three hemodynamically and neurologically stable children. INTERVENTION: Single dose of IM MPC. MEASUREMENTS AND MAIN RESULTS: Serial respirations, heart rate, arterial systolic blood pressure, oxygen saturation, and Glasgow Coma Scale were measured at 30-minute intervals. Effectiveness was assessed by two independent observers using separate visual analog scales for cooperation and sedation. Times to sleep (27 +/- 24 minutes), sitting upright (103 +/- 87 minutes), ED discharge (4.7 +/- 2.4 hours), eating (11 +/- 7.9 hours), and normal behavior (19 +/- 15 hours) were acceptable. Minor, but statistically significant, changes in respiration rate (-1.9 +/- 0.4), heart rate (+4.5 +/- 1.8), oxygen saturation (-0.7 +/- 0.3%), and Glasgow Coma Scale (-2.5 +/- 0.6) occurred for 120 minutes after MPC. No serious complications or resuscitation were required. Mean visual analog scale scores were 5.0/10.4 or more in 71% of cases, with interobserver agreement very good (cooperation, r = .79; effectiveness, r = .80). Twenty-nine percent of children were judged insufficiently sedated. CONCLUSION: IM MPC is a safe and generally effective agent for ED procedures in selected children. ',\n",
       " '37': 'Teniposide (VM-26) and continuous infusion cytosine arabinoside for initial induction failure in childhood acute lymphoblastic leukemia. A Pediatric Oncology Group pilot study. Twenty-six evaluable children with newly diagnosed acute lymphoblastic leukemia (ALL) who failed to achieve initial remission after receiving two to seven drugs for at least a 4-week period were given teniposide (VM-26) and continuous infusion cytosine arabinoside (Ara-C). Twenty-two received 150 mg/m2 of VM-26 on days 1 and 2 with 100 mg/2 of Ara-C as a continuous infusion on days 1 through 5; a second shortened course was given on day 14 to eight patients who had evidence of some antileukemic effect or were clinically judged able to tolerate a second course. The last four patients received three daily doses of VM-26 and a 7-day infusion of Ara-C at the same daily dosages. Twelve (48%) achieved complete remission (CR) of ALL. There was a trend toward decreasing response rates with an increasing number of drugs used in the initial induction regimen, i.e., five CR among seven patients with a prior two-drug induction attempt, six CR among 14 patients with a prior three- to four-drug induction attempt, and one CR among four patients with a prior five- to seven-drug induction attempt (P = 0.14). Ten of 17 non-T-cell patients and two of nine T-cell patients achieved remission (P = 0.10). The median time required to achieve a complete remission from the initiation of treatment was 26 days (range, 14-72 days). This period was shorter in those who required one course compared with those who required two induction courses, i.e., 25 days median vs. 44 days median. Toxicity was significant and due mainly to marrow aplasia and infection; one patient had severe prolonged VM-26-induced hypotension. Of the 12 patients entering remission, two were removed for marrow transplant and one was removed due to parental request. In the remaining nine patients, median remission duration was only 2 months (range, 1-18 months). All nine patients relapsed in the marrow. Among the entire group of 26 patients, only one patient is alive and a long-term event-free survivor (after allogeneic marrow transplant). Due to the current use of more aggressive initial induction regimens and the extremely poor prognosis in children who fail to achieve initial remission, more intensive regimens of continuation therapy or alternative therapies, such as bone marrow transplant, should be considered. ',\n",
       " '38': 'Increase of calmodulin activator in hypertension. Modulation by dietary sodium and calcium. The aim of this study was to investigate the effects of dietary calcium and sodium on blood pressure (BP) in normotensive rats (Wistar, WKY), spontaneously hypertensive rats (SHR) and Dahl rats and on calmodulin (CaM) activator, a newly-discovered hydrophobic compound that increases CaM activity in SHR and spontaneously hypertensive mice (SHM) tissues (J Clin Invest 82:276, 1988). The CaM activator was assessed by its capacity to stimulate a CaM-dependent phosphodiesterase (CaM-PDE). In Wistar rats, which were fed a high sodium diet (3.5%), BP significantly increased (P less than .01) from 106 +/- 4 to 128 +/- 8 mm Hg in parallel to an elevation of the CaM activator from 1.57 +/- 0.14 to 2.80 +/- 0.18 U. WKY, SHR, and Dahl salt-sensitive (DS/JR) and salt-resistant (DR/JR) rats were given low (0.15%) or high (2.5%) Ca diets, both with 1% sodium. In rats receiving high dietary Ca the progression of hypertension diminished and BP was lower in SHR (156 +/- 4 mm Hg) and young DS/JR rats (125 +/- 3 mm Hg) than in those receiving low dietary Ca (192 +/- 10 and 183 +/- 2 mm Hg). There was a concomitant decrease of CaM activator in these animals to levels indistinguishable from those of WKY or DR/JR rats. The activator was also found in the heart, kidneys and erythrocytes from SHM. In the presence of exogenously added CaM, lipidic extracts from the SHM heart showed augmented CaM-PDE activity relative to normotensive preparations. This difference was eliminated by trifluoperazine. ',\n",
       " '39': \"Serum cholesterol levels and survival in elderly hypertensive patients: analysis of data from the European Working Party on High Blood Pressure in the Elderly. The relation between serum cholesterol and mortality was investigated in 822 elderly hypertensive patients randomly assigned to treatment with diuretics, with or without methyldopa, or placebo. Cox's proportional hazards model showed that pretreatment serum total cholesterol levels were independently and inversely correlated with total mortality (p = 0.03), noncardiovascular mortality (p = 0.02), and cancer mortality (p = 0.04) during treatment. Total and noncardiovascular mortality were also negatively correlated with pretreatment hemoglobin levels and body weight. All factors being equal, an increase in total serum cholesterol of 2.3 mmol/L was associated with a one-year prolongation of survival. After adjustment for gender, age, pretreatment cardiovascular complications, and systolic pressure, the correlations between serum cholesterol and cardiovascular and cardiac mortality were not significant. \"}"
      ]
     },
     "execution_count": 11,
     "metadata": {},
     "output_type": "execute_result"
    }
   ],
   "source": [
    "# Creating a corpus of text\n",
    "test_corpus = {k: test_corpus[k] for k in list(test_corpus.keys())}\n",
    "test_corpus"
   ]
  },
  {
   "cell_type": "code",
   "execution_count": 12,
   "metadata": {},
   "outputs": [],
   "source": [
    "import uuid\n",
    "import re\n",
    "\n",
    "def fetch_qa_pairs_from_corpus(data_corpus, questions_per_section=2, custom_prompt=None, display_progress=False):\n",
    "    \"\"\"\n",
    "    This function dynamically generates question-answer pairs based on a provided corpus.\n",
    "    Each piece of text from the corpus is used to formulate questions that are then answered,\n",
    "    simulating a quiz or test preparation scenario.\n",
    "    \"\"\"\n",
    "    artificial_intelligence = openai.OpenAI(model='gpt-3.5-turbo')\n",
    "    default_prompt = custom_prompt or \"\"\"\\\n",
    "    Below is the context for generating questions and answers.\n",
    "\n",
    "    ---------------------\n",
    "    {context}\n",
    "    ---------------------\n",
    "\n",
    "    Given the context above without using external information,\n",
    "    develop {questions_per_section} question(s) with their brief answer(s),\n",
    "    suitable for a quiz or examination. Keep answers concise, within 1-50 words. \n",
    "    Ensure the generated content varies and aligns closely with the provided context.\"\n",
    "    \n",
    "    \"\"\"\n",
    "\n",
    "    question_bank = {}\n",
    "    answer_key = {}\n",
    "    document_references = {}\n",
    "\n",
    "    for doc_id, context in tqdm(data_corpus.items(), disable=not display_progress):\n",
    "        dynamic_prompt = default_prompt.format(context=context, questions_per_section=questions_per_section)\n",
    "        \n",
    "        try:\n",
    "            ai_response = artificial_intelligence.complete(dynamic_prompt)\n",
    "        except Exception as e:\n",
    "            print(f\"Failed to generate response for document ID {doc_id}: {e}\")\n",
    "            continue\n",
    "\n",
    "        processed_response = str(ai_response).strip().split(\"\\n\")\n",
    "        paired_qa = zip(processed_response[0::2], processed_response[1::2])\n",
    "\n",
    "        for q, a in paired_qa:\n",
    "            q = re.sub(r\"^\\d+[\\).\\s]\", \"\", q).strip()\n",
    "            if q and a:  # Ensures both question and answer are not empty\n",
    "                unique_id = str(uuid.uuid4())\n",
    "                q = q.replace(\"Question:\", \"\").strip()\n",
    "                question_bank[unique_id] = q\n",
    "                a = a.replace(\"Answer:\", \"\").strip()\n",
    "                answer_key[unique_id] = a\n",
    "                document_references[unique_id] = [doc_id]\n",
    "\n",
    "    return question_bank, answer_key, document_references\n"
   ]
  },
  {
   "cell_type": "code",
   "execution_count": 13,
   "metadata": {},
   "outputs": [
    {
     "data": {
      "application/vnd.jupyter.widget-view+json": {
       "model_id": "32fc0f4b5a194a5b92191ae42e4a7b54",
       "version_major": 2,
       "version_minor": 0
      },
      "text/plain": [
       "  0%|          | 0/40 [00:00<?, ?it/s]"
      ]
     },
     "metadata": {},
     "output_type": "display_data"
    }
   ],
   "source": [
    "test_queries, test_answers, test_relevant_docs = fetch_qa_pairs_from_corpus(\n",
    "    test_corpus,\n",
    "    questions_per_section=1,\n",
    "    display_progress=True,\n",
    ")"
   ]
  },
  {
   "cell_type": "code",
   "execution_count": 14,
   "metadata": {},
   "outputs": [],
   "source": [
    "with open(TEST_QUERIES_FPATH, 'w+') as f:\n",
    "    json.dump(test_queries, f)\n",
    "\n",
    "with open(TEST_ANSWERS_FPATH, 'w+') as f:\n",
    "    json.dump(test_answers, f)\n",
    "\n",
    "with open(TEST_RELEVANT_DOCS_FPATH, 'w+') as f:\n",
    "    json.dump(test_relevant_docs, f)"
   ]
  },
  {
   "cell_type": "code",
   "execution_count": 15,
   "metadata": {},
   "outputs": [],
   "source": [
    "# Path to the JSON file within the processed directory.\n",
    "TEST_DATASET_FPATH = os.path.join(processed_dir, 'data.json')"
   ]
  },
  {
   "cell_type": "code",
   "execution_count": 16,
   "metadata": {},
   "outputs": [],
   "source": [
    "test_dataset = {\n",
    "    'search_terms': test_queries,\n",
    "    'responses': test_answers,\n",
    "    'data_bank': test_corpus,\n",
    "    'pertinent_documents': test_relevant_docs,\n",
    "}"
   ]
  },
  {
   "cell_type": "code",
   "execution_count": 17,
   "metadata": {},
   "outputs": [],
   "source": [
    "if os.path.exists(TEST_DATASET_FPATH):\n",
    "    os.remove(TEST_DATASET_FPATH)\n",
    "with open(TEST_DATASET_FPATH, 'w+') as f:\n",
    "    json.dump(test_dataset, f)"
   ]
  },
  {
   "cell_type": "code",
   "execution_count": null,
   "metadata": {},
   "outputs": [],
   "source": []
  }
 ],
 "metadata": {
  "kernelspec": {
   "display_name": "Python 3",
   "language": "python",
   "name": "python3"
  },
  "language_info": {
   "codemirror_mode": {
    "name": "ipython",
    "version": 3
   },
   "file_extension": ".py",
   "mimetype": "text/x-python",
   "name": "python",
   "nbconvert_exporter": "python",
   "pygments_lexer": "ipython3",
   "version": "3.11.5"
  }
 },
 "nbformat": 4,
 "nbformat_minor": 2
}
